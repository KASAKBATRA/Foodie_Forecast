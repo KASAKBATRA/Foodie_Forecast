{
  "nbformat": 4,
  "nbformat_minor": 0,
  "metadata": {
    "colab": {
      "provenance": []
    },
    "kernelspec": {
      "name": "python3",
      "display_name": "Python 3"
    },
    "language_info": {
      "name": "python"
    }
  },
  "cells": [
    {
      "cell_type": "code",
      "execution_count": null,
      "metadata": {
        "id": "alcOBCkPKdnJ"
      },
      "outputs": [],
      "source": [
        "import numpy as np\n",
        "import pandas as pd"
      ]
    },
    {
      "cell_type": "code",
      "source": [
        "df= pd.read_csv('onlinefoods.csv')"
      ],
      "metadata": {
        "id": "_1Ipqs0HKsht"
      },
      "execution_count": null,
      "outputs": []
    },
    {
      "cell_type": "code",
      "source": [
        "df"
      ],
      "metadata": {
        "colab": {
          "base_uri": "https://localhost:8080/",
          "height": 423
        },
        "id": "HxcWPMAVK5o4",
        "outputId": "2195ba36-5409-43b4-a564-288cf33280b4"
      },
      "execution_count": null,
      "outputs": [
        {
          "output_type": "execute_result",
          "data": {
            "text/plain": [
              "     Age  Gender Marital Status Occupation  Monthly Income  \\\n",
              "0     20  Female         Single    Student       No Income   \n",
              "1     24  Female         Single    Student  Below Rs.10000   \n",
              "2     22    Male         Single    Student  Below Rs.10000   \n",
              "3     22  Female         Single    Student       No Income   \n",
              "4     22    Male         Single    Student  Below Rs.10000   \n",
              "..   ...     ...            ...        ...             ...   \n",
              "383   23  Female         Single    Student       No Income   \n",
              "384   23  Female         Single    Student       No Income   \n",
              "385   22  Female         Single    Student       No Income   \n",
              "386   23    Male         Single    Student  Below Rs.10000   \n",
              "387   23    Male         Single    Student       No Income   \n",
              "\n",
              "    Educational Qualifications  Family size  latitude  longitude  Pin code  \\\n",
              "0                Post Graduate            4   12.9766    77.5993    560001   \n",
              "1                     Graduate            3   12.9770    77.5773    560009   \n",
              "2                Post Graduate            3   12.9551    77.6593    560017   \n",
              "3                     Graduate            6   12.9473    77.5616    560019   \n",
              "4                Post Graduate            4   12.9850    77.5533    560010   \n",
              "..                         ...          ...       ...        ...       ...   \n",
              "383              Post Graduate            2   12.9766    77.5993    560001   \n",
              "384              Post Graduate            4   12.9854    77.7081    560048   \n",
              "385              Post Graduate            5   12.9850    77.5533    560010   \n",
              "386              Post Graduate            2   12.9770    77.5773    560009   \n",
              "387              Post Graduate            5   12.8988    77.5764    560078   \n",
              "\n",
              "    Output   Feedback Unnamed: 12  \n",
              "0      Yes   Positive         Yes  \n",
              "1      Yes   Positive         Yes  \n",
              "2      Yes  Negative          Yes  \n",
              "3      Yes   Positive         Yes  \n",
              "4      Yes   Positive         Yes  \n",
              "..     ...        ...         ...  \n",
              "383    Yes   Positive         Yes  \n",
              "384    Yes   Positive         Yes  \n",
              "385    Yes   Positive         Yes  \n",
              "386    Yes   Positive         Yes  \n",
              "387    Yes   Positive         Yes  \n",
              "\n",
              "[388 rows x 13 columns]"
            ],
            "text/html": [
              "\n",
              "  <div id=\"df-dda67f23-996c-4413-9cec-2a2677deddfc\" class=\"colab-df-container\">\n",
              "    <div>\n",
              "<style scoped>\n",
              "    .dataframe tbody tr th:only-of-type {\n",
              "        vertical-align: middle;\n",
              "    }\n",
              "\n",
              "    .dataframe tbody tr th {\n",
              "        vertical-align: top;\n",
              "    }\n",
              "\n",
              "    .dataframe thead th {\n",
              "        text-align: right;\n",
              "    }\n",
              "</style>\n",
              "<table border=\"1\" class=\"dataframe\">\n",
              "  <thead>\n",
              "    <tr style=\"text-align: right;\">\n",
              "      <th></th>\n",
              "      <th>Age</th>\n",
              "      <th>Gender</th>\n",
              "      <th>Marital Status</th>\n",
              "      <th>Occupation</th>\n",
              "      <th>Monthly Income</th>\n",
              "      <th>Educational Qualifications</th>\n",
              "      <th>Family size</th>\n",
              "      <th>latitude</th>\n",
              "      <th>longitude</th>\n",
              "      <th>Pin code</th>\n",
              "      <th>Output</th>\n",
              "      <th>Feedback</th>\n",
              "      <th>Unnamed: 12</th>\n",
              "    </tr>\n",
              "  </thead>\n",
              "  <tbody>\n",
              "    <tr>\n",
              "      <th>0</th>\n",
              "      <td>20</td>\n",
              "      <td>Female</td>\n",
              "      <td>Single</td>\n",
              "      <td>Student</td>\n",
              "      <td>No Income</td>\n",
              "      <td>Post Graduate</td>\n",
              "      <td>4</td>\n",
              "      <td>12.9766</td>\n",
              "      <td>77.5993</td>\n",
              "      <td>560001</td>\n",
              "      <td>Yes</td>\n",
              "      <td>Positive</td>\n",
              "      <td>Yes</td>\n",
              "    </tr>\n",
              "    <tr>\n",
              "      <th>1</th>\n",
              "      <td>24</td>\n",
              "      <td>Female</td>\n",
              "      <td>Single</td>\n",
              "      <td>Student</td>\n",
              "      <td>Below Rs.10000</td>\n",
              "      <td>Graduate</td>\n",
              "      <td>3</td>\n",
              "      <td>12.9770</td>\n",
              "      <td>77.5773</td>\n",
              "      <td>560009</td>\n",
              "      <td>Yes</td>\n",
              "      <td>Positive</td>\n",
              "      <td>Yes</td>\n",
              "    </tr>\n",
              "    <tr>\n",
              "      <th>2</th>\n",
              "      <td>22</td>\n",
              "      <td>Male</td>\n",
              "      <td>Single</td>\n",
              "      <td>Student</td>\n",
              "      <td>Below Rs.10000</td>\n",
              "      <td>Post Graduate</td>\n",
              "      <td>3</td>\n",
              "      <td>12.9551</td>\n",
              "      <td>77.6593</td>\n",
              "      <td>560017</td>\n",
              "      <td>Yes</td>\n",
              "      <td>Negative</td>\n",
              "      <td>Yes</td>\n",
              "    </tr>\n",
              "    <tr>\n",
              "      <th>3</th>\n",
              "      <td>22</td>\n",
              "      <td>Female</td>\n",
              "      <td>Single</td>\n",
              "      <td>Student</td>\n",
              "      <td>No Income</td>\n",
              "      <td>Graduate</td>\n",
              "      <td>6</td>\n",
              "      <td>12.9473</td>\n",
              "      <td>77.5616</td>\n",
              "      <td>560019</td>\n",
              "      <td>Yes</td>\n",
              "      <td>Positive</td>\n",
              "      <td>Yes</td>\n",
              "    </tr>\n",
              "    <tr>\n",
              "      <th>4</th>\n",
              "      <td>22</td>\n",
              "      <td>Male</td>\n",
              "      <td>Single</td>\n",
              "      <td>Student</td>\n",
              "      <td>Below Rs.10000</td>\n",
              "      <td>Post Graduate</td>\n",
              "      <td>4</td>\n",
              "      <td>12.9850</td>\n",
              "      <td>77.5533</td>\n",
              "      <td>560010</td>\n",
              "      <td>Yes</td>\n",
              "      <td>Positive</td>\n",
              "      <td>Yes</td>\n",
              "    </tr>\n",
              "    <tr>\n",
              "      <th>...</th>\n",
              "      <td>...</td>\n",
              "      <td>...</td>\n",
              "      <td>...</td>\n",
              "      <td>...</td>\n",
              "      <td>...</td>\n",
              "      <td>...</td>\n",
              "      <td>...</td>\n",
              "      <td>...</td>\n",
              "      <td>...</td>\n",
              "      <td>...</td>\n",
              "      <td>...</td>\n",
              "      <td>...</td>\n",
              "      <td>...</td>\n",
              "    </tr>\n",
              "    <tr>\n",
              "      <th>383</th>\n",
              "      <td>23</td>\n",
              "      <td>Female</td>\n",
              "      <td>Single</td>\n",
              "      <td>Student</td>\n",
              "      <td>No Income</td>\n",
              "      <td>Post Graduate</td>\n",
              "      <td>2</td>\n",
              "      <td>12.9766</td>\n",
              "      <td>77.5993</td>\n",
              "      <td>560001</td>\n",
              "      <td>Yes</td>\n",
              "      <td>Positive</td>\n",
              "      <td>Yes</td>\n",
              "    </tr>\n",
              "    <tr>\n",
              "      <th>384</th>\n",
              "      <td>23</td>\n",
              "      <td>Female</td>\n",
              "      <td>Single</td>\n",
              "      <td>Student</td>\n",
              "      <td>No Income</td>\n",
              "      <td>Post Graduate</td>\n",
              "      <td>4</td>\n",
              "      <td>12.9854</td>\n",
              "      <td>77.7081</td>\n",
              "      <td>560048</td>\n",
              "      <td>Yes</td>\n",
              "      <td>Positive</td>\n",
              "      <td>Yes</td>\n",
              "    </tr>\n",
              "    <tr>\n",
              "      <th>385</th>\n",
              "      <td>22</td>\n",
              "      <td>Female</td>\n",
              "      <td>Single</td>\n",
              "      <td>Student</td>\n",
              "      <td>No Income</td>\n",
              "      <td>Post Graduate</td>\n",
              "      <td>5</td>\n",
              "      <td>12.9850</td>\n",
              "      <td>77.5533</td>\n",
              "      <td>560010</td>\n",
              "      <td>Yes</td>\n",
              "      <td>Positive</td>\n",
              "      <td>Yes</td>\n",
              "    </tr>\n",
              "    <tr>\n",
              "      <th>386</th>\n",
              "      <td>23</td>\n",
              "      <td>Male</td>\n",
              "      <td>Single</td>\n",
              "      <td>Student</td>\n",
              "      <td>Below Rs.10000</td>\n",
              "      <td>Post Graduate</td>\n",
              "      <td>2</td>\n",
              "      <td>12.9770</td>\n",
              "      <td>77.5773</td>\n",
              "      <td>560009</td>\n",
              "      <td>Yes</td>\n",
              "      <td>Positive</td>\n",
              "      <td>Yes</td>\n",
              "    </tr>\n",
              "    <tr>\n",
              "      <th>387</th>\n",
              "      <td>23</td>\n",
              "      <td>Male</td>\n",
              "      <td>Single</td>\n",
              "      <td>Student</td>\n",
              "      <td>No Income</td>\n",
              "      <td>Post Graduate</td>\n",
              "      <td>5</td>\n",
              "      <td>12.8988</td>\n",
              "      <td>77.5764</td>\n",
              "      <td>560078</td>\n",
              "      <td>Yes</td>\n",
              "      <td>Positive</td>\n",
              "      <td>Yes</td>\n",
              "    </tr>\n",
              "  </tbody>\n",
              "</table>\n",
              "<p>388 rows × 13 columns</p>\n",
              "</div>\n",
              "    <div class=\"colab-df-buttons\">\n",
              "\n",
              "  <div class=\"colab-df-container\">\n",
              "    <button class=\"colab-df-convert\" onclick=\"convertToInteractive('df-dda67f23-996c-4413-9cec-2a2677deddfc')\"\n",
              "            title=\"Convert this dataframe to an interactive table.\"\n",
              "            style=\"display:none;\">\n",
              "\n",
              "  <svg xmlns=\"http://www.w3.org/2000/svg\" height=\"24px\" viewBox=\"0 -960 960 960\">\n",
              "    <path d=\"M120-120v-720h720v720H120Zm60-500h600v-160H180v160Zm220 220h160v-160H400v160Zm0 220h160v-160H400v160ZM180-400h160v-160H180v160Zm440 0h160v-160H620v160ZM180-180h160v-160H180v160Zm440 0h160v-160H620v160Z\"/>\n",
              "  </svg>\n",
              "    </button>\n",
              "\n",
              "  <style>\n",
              "    .colab-df-container {\n",
              "      display:flex;\n",
              "      gap: 12px;\n",
              "    }\n",
              "\n",
              "    .colab-df-convert {\n",
              "      background-color: #E8F0FE;\n",
              "      border: none;\n",
              "      border-radius: 50%;\n",
              "      cursor: pointer;\n",
              "      display: none;\n",
              "      fill: #1967D2;\n",
              "      height: 32px;\n",
              "      padding: 0 0 0 0;\n",
              "      width: 32px;\n",
              "    }\n",
              "\n",
              "    .colab-df-convert:hover {\n",
              "      background-color: #E2EBFA;\n",
              "      box-shadow: 0px 1px 2px rgba(60, 64, 67, 0.3), 0px 1px 3px 1px rgba(60, 64, 67, 0.15);\n",
              "      fill: #174EA6;\n",
              "    }\n",
              "\n",
              "    .colab-df-buttons div {\n",
              "      margin-bottom: 4px;\n",
              "    }\n",
              "\n",
              "    [theme=dark] .colab-df-convert {\n",
              "      background-color: #3B4455;\n",
              "      fill: #D2E3FC;\n",
              "    }\n",
              "\n",
              "    [theme=dark] .colab-df-convert:hover {\n",
              "      background-color: #434B5C;\n",
              "      box-shadow: 0px 1px 3px 1px rgba(0, 0, 0, 0.15);\n",
              "      filter: drop-shadow(0px 1px 2px rgba(0, 0, 0, 0.3));\n",
              "      fill: #FFFFFF;\n",
              "    }\n",
              "  </style>\n",
              "\n",
              "    <script>\n",
              "      const buttonEl =\n",
              "        document.querySelector('#df-dda67f23-996c-4413-9cec-2a2677deddfc button.colab-df-convert');\n",
              "      buttonEl.style.display =\n",
              "        google.colab.kernel.accessAllowed ? 'block' : 'none';\n",
              "\n",
              "      async function convertToInteractive(key) {\n",
              "        const element = document.querySelector('#df-dda67f23-996c-4413-9cec-2a2677deddfc');\n",
              "        const dataTable =\n",
              "          await google.colab.kernel.invokeFunction('convertToInteractive',\n",
              "                                                    [key], {});\n",
              "        if (!dataTable) return;\n",
              "\n",
              "        const docLinkHtml = 'Like what you see? Visit the ' +\n",
              "          '<a target=\"_blank\" href=https://colab.research.google.com/notebooks/data_table.ipynb>data table notebook</a>'\n",
              "          + ' to learn more about interactive tables.';\n",
              "        element.innerHTML = '';\n",
              "        dataTable['output_type'] = 'display_data';\n",
              "        await google.colab.output.renderOutput(dataTable, element);\n",
              "        const docLink = document.createElement('div');\n",
              "        docLink.innerHTML = docLinkHtml;\n",
              "        element.appendChild(docLink);\n",
              "      }\n",
              "    </script>\n",
              "  </div>\n",
              "\n",
              "\n",
              "<div id=\"df-0fa95c35-3f2f-4f1e-8827-68cbf0da7086\">\n",
              "  <button class=\"colab-df-quickchart\" onclick=\"quickchart('df-0fa95c35-3f2f-4f1e-8827-68cbf0da7086')\"\n",
              "            title=\"Suggest charts\"\n",
              "            style=\"display:none;\">\n",
              "\n",
              "<svg xmlns=\"http://www.w3.org/2000/svg\" height=\"24px\"viewBox=\"0 0 24 24\"\n",
              "     width=\"24px\">\n",
              "    <g>\n",
              "        <path d=\"M19 3H5c-1.1 0-2 .9-2 2v14c0 1.1.9 2 2 2h14c1.1 0 2-.9 2-2V5c0-1.1-.9-2-2-2zM9 17H7v-7h2v7zm4 0h-2V7h2v10zm4 0h-2v-4h2v4z\"/>\n",
              "    </g>\n",
              "</svg>\n",
              "  </button>\n",
              "\n",
              "<style>\n",
              "  .colab-df-quickchart {\n",
              "      --bg-color: #E8F0FE;\n",
              "      --fill-color: #1967D2;\n",
              "      --hover-bg-color: #E2EBFA;\n",
              "      --hover-fill-color: #174EA6;\n",
              "      --disabled-fill-color: #AAA;\n",
              "      --disabled-bg-color: #DDD;\n",
              "  }\n",
              "\n",
              "  [theme=dark] .colab-df-quickchart {\n",
              "      --bg-color: #3B4455;\n",
              "      --fill-color: #D2E3FC;\n",
              "      --hover-bg-color: #434B5C;\n",
              "      --hover-fill-color: #FFFFFF;\n",
              "      --disabled-bg-color: #3B4455;\n",
              "      --disabled-fill-color: #666;\n",
              "  }\n",
              "\n",
              "  .colab-df-quickchart {\n",
              "    background-color: var(--bg-color);\n",
              "    border: none;\n",
              "    border-radius: 50%;\n",
              "    cursor: pointer;\n",
              "    display: none;\n",
              "    fill: var(--fill-color);\n",
              "    height: 32px;\n",
              "    padding: 0;\n",
              "    width: 32px;\n",
              "  }\n",
              "\n",
              "  .colab-df-quickchart:hover {\n",
              "    background-color: var(--hover-bg-color);\n",
              "    box-shadow: 0 1px 2px rgba(60, 64, 67, 0.3), 0 1px 3px 1px rgba(60, 64, 67, 0.15);\n",
              "    fill: var(--button-hover-fill-color);\n",
              "  }\n",
              "\n",
              "  .colab-df-quickchart-complete:disabled,\n",
              "  .colab-df-quickchart-complete:disabled:hover {\n",
              "    background-color: var(--disabled-bg-color);\n",
              "    fill: var(--disabled-fill-color);\n",
              "    box-shadow: none;\n",
              "  }\n",
              "\n",
              "  .colab-df-spinner {\n",
              "    border: 2px solid var(--fill-color);\n",
              "    border-color: transparent;\n",
              "    border-bottom-color: var(--fill-color);\n",
              "    animation:\n",
              "      spin 1s steps(1) infinite;\n",
              "  }\n",
              "\n",
              "  @keyframes spin {\n",
              "    0% {\n",
              "      border-color: transparent;\n",
              "      border-bottom-color: var(--fill-color);\n",
              "      border-left-color: var(--fill-color);\n",
              "    }\n",
              "    20% {\n",
              "      border-color: transparent;\n",
              "      border-left-color: var(--fill-color);\n",
              "      border-top-color: var(--fill-color);\n",
              "    }\n",
              "    30% {\n",
              "      border-color: transparent;\n",
              "      border-left-color: var(--fill-color);\n",
              "      border-top-color: var(--fill-color);\n",
              "      border-right-color: var(--fill-color);\n",
              "    }\n",
              "    40% {\n",
              "      border-color: transparent;\n",
              "      border-right-color: var(--fill-color);\n",
              "      border-top-color: var(--fill-color);\n",
              "    }\n",
              "    60% {\n",
              "      border-color: transparent;\n",
              "      border-right-color: var(--fill-color);\n",
              "    }\n",
              "    80% {\n",
              "      border-color: transparent;\n",
              "      border-right-color: var(--fill-color);\n",
              "      border-bottom-color: var(--fill-color);\n",
              "    }\n",
              "    90% {\n",
              "      border-color: transparent;\n",
              "      border-bottom-color: var(--fill-color);\n",
              "    }\n",
              "  }\n",
              "</style>\n",
              "\n",
              "  <script>\n",
              "    async function quickchart(key) {\n",
              "      const quickchartButtonEl =\n",
              "        document.querySelector('#' + key + ' button');\n",
              "      quickchartButtonEl.disabled = true;  // To prevent multiple clicks.\n",
              "      quickchartButtonEl.classList.add('colab-df-spinner');\n",
              "      try {\n",
              "        const charts = await google.colab.kernel.invokeFunction(\n",
              "            'suggestCharts', [key], {});\n",
              "      } catch (error) {\n",
              "        console.error('Error during call to suggestCharts:', error);\n",
              "      }\n",
              "      quickchartButtonEl.classList.remove('colab-df-spinner');\n",
              "      quickchartButtonEl.classList.add('colab-df-quickchart-complete');\n",
              "    }\n",
              "    (() => {\n",
              "      let quickchartButtonEl =\n",
              "        document.querySelector('#df-0fa95c35-3f2f-4f1e-8827-68cbf0da7086 button');\n",
              "      quickchartButtonEl.style.display =\n",
              "        google.colab.kernel.accessAllowed ? 'block' : 'none';\n",
              "    })();\n",
              "  </script>\n",
              "</div>\n",
              "\n",
              "  <div id=\"id_fe86f4cf-6653-4a4c-b81f-b28a98700baa\">\n",
              "    <style>\n",
              "      .colab-df-generate {\n",
              "        background-color: #E8F0FE;\n",
              "        border: none;\n",
              "        border-radius: 50%;\n",
              "        cursor: pointer;\n",
              "        display: none;\n",
              "        fill: #1967D2;\n",
              "        height: 32px;\n",
              "        padding: 0 0 0 0;\n",
              "        width: 32px;\n",
              "      }\n",
              "\n",
              "      .colab-df-generate:hover {\n",
              "        background-color: #E2EBFA;\n",
              "        box-shadow: 0px 1px 2px rgba(60, 64, 67, 0.3), 0px 1px 3px 1px rgba(60, 64, 67, 0.15);\n",
              "        fill: #174EA6;\n",
              "      }\n",
              "\n",
              "      [theme=dark] .colab-df-generate {\n",
              "        background-color: #3B4455;\n",
              "        fill: #D2E3FC;\n",
              "      }\n",
              "\n",
              "      [theme=dark] .colab-df-generate:hover {\n",
              "        background-color: #434B5C;\n",
              "        box-shadow: 0px 1px 3px 1px rgba(0, 0, 0, 0.15);\n",
              "        filter: drop-shadow(0px 1px 2px rgba(0, 0, 0, 0.3));\n",
              "        fill: #FFFFFF;\n",
              "      }\n",
              "    </style>\n",
              "    <button class=\"colab-df-generate\" onclick=\"generateWithVariable('df')\"\n",
              "            title=\"Generate code using this dataframe.\"\n",
              "            style=\"display:none;\">\n",
              "\n",
              "  <svg xmlns=\"http://www.w3.org/2000/svg\" height=\"24px\"viewBox=\"0 0 24 24\"\n",
              "       width=\"24px\">\n",
              "    <path d=\"M7,19H8.4L18.45,9,17,7.55,7,17.6ZM5,21V16.75L18.45,3.32a2,2,0,0,1,2.83,0l1.4,1.43a1.91,1.91,0,0,1,.58,1.4,1.91,1.91,0,0,1-.58,1.4L9.25,21ZM18.45,9,17,7.55Zm-12,3A5.31,5.31,0,0,0,4.9,8.1,5.31,5.31,0,0,0,1,6.5,5.31,5.31,0,0,0,4.9,4.9,5.31,5.31,0,0,0,6.5,1,5.31,5.31,0,0,0,8.1,4.9,5.31,5.31,0,0,0,12,6.5,5.46,5.46,0,0,0,6.5,12Z\"/>\n",
              "  </svg>\n",
              "    </button>\n",
              "    <script>\n",
              "      (() => {\n",
              "      const buttonEl =\n",
              "        document.querySelector('#id_fe86f4cf-6653-4a4c-b81f-b28a98700baa button.colab-df-generate');\n",
              "      buttonEl.style.display =\n",
              "        google.colab.kernel.accessAllowed ? 'block' : 'none';\n",
              "\n",
              "      buttonEl.onclick = () => {\n",
              "        google.colab.notebook.generateWithVariable('df');\n",
              "      }\n",
              "      })();\n",
              "    </script>\n",
              "  </div>\n",
              "\n",
              "    </div>\n",
              "  </div>\n"
            ],
            "application/vnd.google.colaboratory.intrinsic+json": {
              "type": "dataframe",
              "variable_name": "df",
              "summary": "{\n  \"name\": \"df\",\n  \"rows\": 388,\n  \"fields\": [\n    {\n      \"column\": \"Age\",\n      \"properties\": {\n        \"dtype\": \"number\",\n        \"std\": 2,\n        \"min\": 18,\n        \"max\": 33,\n        \"num_unique_values\": 16,\n        \"samples\": [\n          20,\n          24,\n          21\n        ],\n        \"semantic_type\": \"\",\n        \"description\": \"\"\n      }\n    },\n    {\n      \"column\": \"Gender\",\n      \"properties\": {\n        \"dtype\": \"category\",\n        \"num_unique_values\": 2,\n        \"samples\": [\n          \"Male\",\n          \"Female\"\n        ],\n        \"semantic_type\": \"\",\n        \"description\": \"\"\n      }\n    },\n    {\n      \"column\": \"Marital Status\",\n      \"properties\": {\n        \"dtype\": \"category\",\n        \"num_unique_values\": 3,\n        \"samples\": [\n          \"Single\",\n          \"Married\"\n        ],\n        \"semantic_type\": \"\",\n        \"description\": \"\"\n      }\n    },\n    {\n      \"column\": \"Occupation\",\n      \"properties\": {\n        \"dtype\": \"category\",\n        \"num_unique_values\": 4,\n        \"samples\": [\n          \"Employee\",\n          \"House wife\"\n        ],\n        \"semantic_type\": \"\",\n        \"description\": \"\"\n      }\n    },\n    {\n      \"column\": \"Monthly Income\",\n      \"properties\": {\n        \"dtype\": \"category\",\n        \"num_unique_values\": 5,\n        \"samples\": [\n          \"Below Rs.10000\",\n          \"25001 to 50000\"\n        ],\n        \"semantic_type\": \"\",\n        \"description\": \"\"\n      }\n    },\n    {\n      \"column\": \"Educational Qualifications\",\n      \"properties\": {\n        \"dtype\": \"category\",\n        \"num_unique_values\": 5,\n        \"samples\": [\n          \"Graduate\",\n          \"School\"\n        ],\n        \"semantic_type\": \"\",\n        \"description\": \"\"\n      }\n    },\n    {\n      \"column\": \"Family size\",\n      \"properties\": {\n        \"dtype\": \"number\",\n        \"std\": 1,\n        \"min\": 1,\n        \"max\": 6,\n        \"num_unique_values\": 6,\n        \"samples\": [\n          4,\n          3\n        ],\n        \"semantic_type\": \"\",\n        \"description\": \"\"\n      }\n    },\n    {\n      \"column\": \"latitude\",\n      \"properties\": {\n        \"dtype\": \"number\",\n        \"std\": 0.04448924862810607,\n        \"min\": 12.8652,\n        \"max\": 13.102,\n        \"num_unique_values\": 77,\n        \"samples\": [\n          12.985,\n          12.9335\n        ],\n        \"semantic_type\": \"\",\n        \"description\": \"\"\n      }\n    },\n    {\n      \"column\": \"longitude\",\n      \"properties\": {\n        \"dtype\": \"number\",\n        \"std\": 0.051353917012718464,\n        \"min\": 77.4842,\n        \"max\": 77.7582,\n        \"num_unique_values\": 76,\n        \"samples\": [\n          77.5533,\n          77.5691\n        ],\n        \"semantic_type\": \"\",\n        \"description\": \"\"\n      }\n    },\n    {\n      \"column\": \"Pin code\",\n      \"properties\": {\n        \"dtype\": \"number\",\n        \"std\": 31,\n        \"min\": 560001,\n        \"max\": 560109,\n        \"num_unique_values\": 77,\n        \"samples\": [\n          560010,\n          560028\n        ],\n        \"semantic_type\": \"\",\n        \"description\": \"\"\n      }\n    },\n    {\n      \"column\": \"Output\",\n      \"properties\": {\n        \"dtype\": \"category\",\n        \"num_unique_values\": 2,\n        \"samples\": [\n          \"No\",\n          \"Yes\"\n        ],\n        \"semantic_type\": \"\",\n        \"description\": \"\"\n      }\n    },\n    {\n      \"column\": \"Feedback\",\n      \"properties\": {\n        \"dtype\": \"category\",\n        \"num_unique_values\": 2,\n        \"samples\": [\n          \"Negative \",\n          \"Positive\"\n        ],\n        \"semantic_type\": \"\",\n        \"description\": \"\"\n      }\n    },\n    {\n      \"column\": \"Unnamed: 12\",\n      \"properties\": {\n        \"dtype\": \"category\",\n        \"num_unique_values\": 2,\n        \"samples\": [\n          \"No\",\n          \"Yes\"\n        ],\n        \"semantic_type\": \"\",\n        \"description\": \"\"\n      }\n    }\n  ]\n}"
            }
          },
          "metadata": {},
          "execution_count": 1805
        }
      ]
    },
    {
      "cell_type": "code",
      "source": [
        "df.info()"
      ],
      "metadata": {
        "colab": {
          "base_uri": "https://localhost:8080/"
        },
        "id": "g_GqKQtLK58j",
        "outputId": "b9498850-488d-4c99-b961-7cae82edc22f"
      },
      "execution_count": null,
      "outputs": [
        {
          "output_type": "stream",
          "name": "stdout",
          "text": [
            "<class 'pandas.core.frame.DataFrame'>\n",
            "RangeIndex: 388 entries, 0 to 387\n",
            "Data columns (total 13 columns):\n",
            " #   Column                      Non-Null Count  Dtype  \n",
            "---  ------                      --------------  -----  \n",
            " 0   Age                         388 non-null    int64  \n",
            " 1   Gender                      388 non-null    object \n",
            " 2   Marital Status              388 non-null    object \n",
            " 3   Occupation                  388 non-null    object \n",
            " 4   Monthly Income              388 non-null    object \n",
            " 5   Educational Qualifications  388 non-null    object \n",
            " 6   Family size                 388 non-null    int64  \n",
            " 7   latitude                    388 non-null    float64\n",
            " 8   longitude                   388 non-null    float64\n",
            " 9   Pin code                    388 non-null    int64  \n",
            " 10  Output                      388 non-null    object \n",
            " 11  Feedback                    388 non-null    object \n",
            " 12  Unnamed: 12                 388 non-null    object \n",
            "dtypes: float64(2), int64(3), object(8)\n",
            "memory usage: 39.5+ KB\n"
          ]
        }
      ]
    },
    {
      "cell_type": "code",
      "source": [
        "df.drop(df.columns[-1], axis=1, inplace= True)\n",
        "df"
      ],
      "metadata": {
        "colab": {
          "base_uri": "https://localhost:8080/",
          "height": 423
        },
        "id": "2dkYqNyOK-PO",
        "outputId": "70184a57-65ad-43dc-e1f8-f665bdc8523a"
      },
      "execution_count": null,
      "outputs": [
        {
          "output_type": "execute_result",
          "data": {
            "text/plain": [
              "     Age  Gender Marital Status Occupation  Monthly Income  \\\n",
              "0     20  Female         Single    Student       No Income   \n",
              "1     24  Female         Single    Student  Below Rs.10000   \n",
              "2     22    Male         Single    Student  Below Rs.10000   \n",
              "3     22  Female         Single    Student       No Income   \n",
              "4     22    Male         Single    Student  Below Rs.10000   \n",
              "..   ...     ...            ...        ...             ...   \n",
              "383   23  Female         Single    Student       No Income   \n",
              "384   23  Female         Single    Student       No Income   \n",
              "385   22  Female         Single    Student       No Income   \n",
              "386   23    Male         Single    Student  Below Rs.10000   \n",
              "387   23    Male         Single    Student       No Income   \n",
              "\n",
              "    Educational Qualifications  Family size  latitude  longitude  Pin code  \\\n",
              "0                Post Graduate            4   12.9766    77.5993    560001   \n",
              "1                     Graduate            3   12.9770    77.5773    560009   \n",
              "2                Post Graduate            3   12.9551    77.6593    560017   \n",
              "3                     Graduate            6   12.9473    77.5616    560019   \n",
              "4                Post Graduate            4   12.9850    77.5533    560010   \n",
              "..                         ...          ...       ...        ...       ...   \n",
              "383              Post Graduate            2   12.9766    77.5993    560001   \n",
              "384              Post Graduate            4   12.9854    77.7081    560048   \n",
              "385              Post Graduate            5   12.9850    77.5533    560010   \n",
              "386              Post Graduate            2   12.9770    77.5773    560009   \n",
              "387              Post Graduate            5   12.8988    77.5764    560078   \n",
              "\n",
              "    Output   Feedback  \n",
              "0      Yes   Positive  \n",
              "1      Yes   Positive  \n",
              "2      Yes  Negative   \n",
              "3      Yes   Positive  \n",
              "4      Yes   Positive  \n",
              "..     ...        ...  \n",
              "383    Yes   Positive  \n",
              "384    Yes   Positive  \n",
              "385    Yes   Positive  \n",
              "386    Yes   Positive  \n",
              "387    Yes   Positive  \n",
              "\n",
              "[388 rows x 12 columns]"
            ],
            "text/html": [
              "\n",
              "  <div id=\"df-2b3296bf-79cb-426e-a83c-feb98a75c069\" class=\"colab-df-container\">\n",
              "    <div>\n",
              "<style scoped>\n",
              "    .dataframe tbody tr th:only-of-type {\n",
              "        vertical-align: middle;\n",
              "    }\n",
              "\n",
              "    .dataframe tbody tr th {\n",
              "        vertical-align: top;\n",
              "    }\n",
              "\n",
              "    .dataframe thead th {\n",
              "        text-align: right;\n",
              "    }\n",
              "</style>\n",
              "<table border=\"1\" class=\"dataframe\">\n",
              "  <thead>\n",
              "    <tr style=\"text-align: right;\">\n",
              "      <th></th>\n",
              "      <th>Age</th>\n",
              "      <th>Gender</th>\n",
              "      <th>Marital Status</th>\n",
              "      <th>Occupation</th>\n",
              "      <th>Monthly Income</th>\n",
              "      <th>Educational Qualifications</th>\n",
              "      <th>Family size</th>\n",
              "      <th>latitude</th>\n",
              "      <th>longitude</th>\n",
              "      <th>Pin code</th>\n",
              "      <th>Output</th>\n",
              "      <th>Feedback</th>\n",
              "    </tr>\n",
              "  </thead>\n",
              "  <tbody>\n",
              "    <tr>\n",
              "      <th>0</th>\n",
              "      <td>20</td>\n",
              "      <td>Female</td>\n",
              "      <td>Single</td>\n",
              "      <td>Student</td>\n",
              "      <td>No Income</td>\n",
              "      <td>Post Graduate</td>\n",
              "      <td>4</td>\n",
              "      <td>12.9766</td>\n",
              "      <td>77.5993</td>\n",
              "      <td>560001</td>\n",
              "      <td>Yes</td>\n",
              "      <td>Positive</td>\n",
              "    </tr>\n",
              "    <tr>\n",
              "      <th>1</th>\n",
              "      <td>24</td>\n",
              "      <td>Female</td>\n",
              "      <td>Single</td>\n",
              "      <td>Student</td>\n",
              "      <td>Below Rs.10000</td>\n",
              "      <td>Graduate</td>\n",
              "      <td>3</td>\n",
              "      <td>12.9770</td>\n",
              "      <td>77.5773</td>\n",
              "      <td>560009</td>\n",
              "      <td>Yes</td>\n",
              "      <td>Positive</td>\n",
              "    </tr>\n",
              "    <tr>\n",
              "      <th>2</th>\n",
              "      <td>22</td>\n",
              "      <td>Male</td>\n",
              "      <td>Single</td>\n",
              "      <td>Student</td>\n",
              "      <td>Below Rs.10000</td>\n",
              "      <td>Post Graduate</td>\n",
              "      <td>3</td>\n",
              "      <td>12.9551</td>\n",
              "      <td>77.6593</td>\n",
              "      <td>560017</td>\n",
              "      <td>Yes</td>\n",
              "      <td>Negative</td>\n",
              "    </tr>\n",
              "    <tr>\n",
              "      <th>3</th>\n",
              "      <td>22</td>\n",
              "      <td>Female</td>\n",
              "      <td>Single</td>\n",
              "      <td>Student</td>\n",
              "      <td>No Income</td>\n",
              "      <td>Graduate</td>\n",
              "      <td>6</td>\n",
              "      <td>12.9473</td>\n",
              "      <td>77.5616</td>\n",
              "      <td>560019</td>\n",
              "      <td>Yes</td>\n",
              "      <td>Positive</td>\n",
              "    </tr>\n",
              "    <tr>\n",
              "      <th>4</th>\n",
              "      <td>22</td>\n",
              "      <td>Male</td>\n",
              "      <td>Single</td>\n",
              "      <td>Student</td>\n",
              "      <td>Below Rs.10000</td>\n",
              "      <td>Post Graduate</td>\n",
              "      <td>4</td>\n",
              "      <td>12.9850</td>\n",
              "      <td>77.5533</td>\n",
              "      <td>560010</td>\n",
              "      <td>Yes</td>\n",
              "      <td>Positive</td>\n",
              "    </tr>\n",
              "    <tr>\n",
              "      <th>...</th>\n",
              "      <td>...</td>\n",
              "      <td>...</td>\n",
              "      <td>...</td>\n",
              "      <td>...</td>\n",
              "      <td>...</td>\n",
              "      <td>...</td>\n",
              "      <td>...</td>\n",
              "      <td>...</td>\n",
              "      <td>...</td>\n",
              "      <td>...</td>\n",
              "      <td>...</td>\n",
              "      <td>...</td>\n",
              "    </tr>\n",
              "    <tr>\n",
              "      <th>383</th>\n",
              "      <td>23</td>\n",
              "      <td>Female</td>\n",
              "      <td>Single</td>\n",
              "      <td>Student</td>\n",
              "      <td>No Income</td>\n",
              "      <td>Post Graduate</td>\n",
              "      <td>2</td>\n",
              "      <td>12.9766</td>\n",
              "      <td>77.5993</td>\n",
              "      <td>560001</td>\n",
              "      <td>Yes</td>\n",
              "      <td>Positive</td>\n",
              "    </tr>\n",
              "    <tr>\n",
              "      <th>384</th>\n",
              "      <td>23</td>\n",
              "      <td>Female</td>\n",
              "      <td>Single</td>\n",
              "      <td>Student</td>\n",
              "      <td>No Income</td>\n",
              "      <td>Post Graduate</td>\n",
              "      <td>4</td>\n",
              "      <td>12.9854</td>\n",
              "      <td>77.7081</td>\n",
              "      <td>560048</td>\n",
              "      <td>Yes</td>\n",
              "      <td>Positive</td>\n",
              "    </tr>\n",
              "    <tr>\n",
              "      <th>385</th>\n",
              "      <td>22</td>\n",
              "      <td>Female</td>\n",
              "      <td>Single</td>\n",
              "      <td>Student</td>\n",
              "      <td>No Income</td>\n",
              "      <td>Post Graduate</td>\n",
              "      <td>5</td>\n",
              "      <td>12.9850</td>\n",
              "      <td>77.5533</td>\n",
              "      <td>560010</td>\n",
              "      <td>Yes</td>\n",
              "      <td>Positive</td>\n",
              "    </tr>\n",
              "    <tr>\n",
              "      <th>386</th>\n",
              "      <td>23</td>\n",
              "      <td>Male</td>\n",
              "      <td>Single</td>\n",
              "      <td>Student</td>\n",
              "      <td>Below Rs.10000</td>\n",
              "      <td>Post Graduate</td>\n",
              "      <td>2</td>\n",
              "      <td>12.9770</td>\n",
              "      <td>77.5773</td>\n",
              "      <td>560009</td>\n",
              "      <td>Yes</td>\n",
              "      <td>Positive</td>\n",
              "    </tr>\n",
              "    <tr>\n",
              "      <th>387</th>\n",
              "      <td>23</td>\n",
              "      <td>Male</td>\n",
              "      <td>Single</td>\n",
              "      <td>Student</td>\n",
              "      <td>No Income</td>\n",
              "      <td>Post Graduate</td>\n",
              "      <td>5</td>\n",
              "      <td>12.8988</td>\n",
              "      <td>77.5764</td>\n",
              "      <td>560078</td>\n",
              "      <td>Yes</td>\n",
              "      <td>Positive</td>\n",
              "    </tr>\n",
              "  </tbody>\n",
              "</table>\n",
              "<p>388 rows × 12 columns</p>\n",
              "</div>\n",
              "    <div class=\"colab-df-buttons\">\n",
              "\n",
              "  <div class=\"colab-df-container\">\n",
              "    <button class=\"colab-df-convert\" onclick=\"convertToInteractive('df-2b3296bf-79cb-426e-a83c-feb98a75c069')\"\n",
              "            title=\"Convert this dataframe to an interactive table.\"\n",
              "            style=\"display:none;\">\n",
              "\n",
              "  <svg xmlns=\"http://www.w3.org/2000/svg\" height=\"24px\" viewBox=\"0 -960 960 960\">\n",
              "    <path d=\"M120-120v-720h720v720H120Zm60-500h600v-160H180v160Zm220 220h160v-160H400v160Zm0 220h160v-160H400v160ZM180-400h160v-160H180v160Zm440 0h160v-160H620v160ZM180-180h160v-160H180v160Zm440 0h160v-160H620v160Z\"/>\n",
              "  </svg>\n",
              "    </button>\n",
              "\n",
              "  <style>\n",
              "    .colab-df-container {\n",
              "      display:flex;\n",
              "      gap: 12px;\n",
              "    }\n",
              "\n",
              "    .colab-df-convert {\n",
              "      background-color: #E8F0FE;\n",
              "      border: none;\n",
              "      border-radius: 50%;\n",
              "      cursor: pointer;\n",
              "      display: none;\n",
              "      fill: #1967D2;\n",
              "      height: 32px;\n",
              "      padding: 0 0 0 0;\n",
              "      width: 32px;\n",
              "    }\n",
              "\n",
              "    .colab-df-convert:hover {\n",
              "      background-color: #E2EBFA;\n",
              "      box-shadow: 0px 1px 2px rgba(60, 64, 67, 0.3), 0px 1px 3px 1px rgba(60, 64, 67, 0.15);\n",
              "      fill: #174EA6;\n",
              "    }\n",
              "\n",
              "    .colab-df-buttons div {\n",
              "      margin-bottom: 4px;\n",
              "    }\n",
              "\n",
              "    [theme=dark] .colab-df-convert {\n",
              "      background-color: #3B4455;\n",
              "      fill: #D2E3FC;\n",
              "    }\n",
              "\n",
              "    [theme=dark] .colab-df-convert:hover {\n",
              "      background-color: #434B5C;\n",
              "      box-shadow: 0px 1px 3px 1px rgba(0, 0, 0, 0.15);\n",
              "      filter: drop-shadow(0px 1px 2px rgba(0, 0, 0, 0.3));\n",
              "      fill: #FFFFFF;\n",
              "    }\n",
              "  </style>\n",
              "\n",
              "    <script>\n",
              "      const buttonEl =\n",
              "        document.querySelector('#df-2b3296bf-79cb-426e-a83c-feb98a75c069 button.colab-df-convert');\n",
              "      buttonEl.style.display =\n",
              "        google.colab.kernel.accessAllowed ? 'block' : 'none';\n",
              "\n",
              "      async function convertToInteractive(key) {\n",
              "        const element = document.querySelector('#df-2b3296bf-79cb-426e-a83c-feb98a75c069');\n",
              "        const dataTable =\n",
              "          await google.colab.kernel.invokeFunction('convertToInteractive',\n",
              "                                                    [key], {});\n",
              "        if (!dataTable) return;\n",
              "\n",
              "        const docLinkHtml = 'Like what you see? Visit the ' +\n",
              "          '<a target=\"_blank\" href=https://colab.research.google.com/notebooks/data_table.ipynb>data table notebook</a>'\n",
              "          + ' to learn more about interactive tables.';\n",
              "        element.innerHTML = '';\n",
              "        dataTable['output_type'] = 'display_data';\n",
              "        await google.colab.output.renderOutput(dataTable, element);\n",
              "        const docLink = document.createElement('div');\n",
              "        docLink.innerHTML = docLinkHtml;\n",
              "        element.appendChild(docLink);\n",
              "      }\n",
              "    </script>\n",
              "  </div>\n",
              "\n",
              "\n",
              "<div id=\"df-92d38b7f-a056-4d52-b8ec-0c3d755199c5\">\n",
              "  <button class=\"colab-df-quickchart\" onclick=\"quickchart('df-92d38b7f-a056-4d52-b8ec-0c3d755199c5')\"\n",
              "            title=\"Suggest charts\"\n",
              "            style=\"display:none;\">\n",
              "\n",
              "<svg xmlns=\"http://www.w3.org/2000/svg\" height=\"24px\"viewBox=\"0 0 24 24\"\n",
              "     width=\"24px\">\n",
              "    <g>\n",
              "        <path d=\"M19 3H5c-1.1 0-2 .9-2 2v14c0 1.1.9 2 2 2h14c1.1 0 2-.9 2-2V5c0-1.1-.9-2-2-2zM9 17H7v-7h2v7zm4 0h-2V7h2v10zm4 0h-2v-4h2v4z\"/>\n",
              "    </g>\n",
              "</svg>\n",
              "  </button>\n",
              "\n",
              "<style>\n",
              "  .colab-df-quickchart {\n",
              "      --bg-color: #E8F0FE;\n",
              "      --fill-color: #1967D2;\n",
              "      --hover-bg-color: #E2EBFA;\n",
              "      --hover-fill-color: #174EA6;\n",
              "      --disabled-fill-color: #AAA;\n",
              "      --disabled-bg-color: #DDD;\n",
              "  }\n",
              "\n",
              "  [theme=dark] .colab-df-quickchart {\n",
              "      --bg-color: #3B4455;\n",
              "      --fill-color: #D2E3FC;\n",
              "      --hover-bg-color: #434B5C;\n",
              "      --hover-fill-color: #FFFFFF;\n",
              "      --disabled-bg-color: #3B4455;\n",
              "      --disabled-fill-color: #666;\n",
              "  }\n",
              "\n",
              "  .colab-df-quickchart {\n",
              "    background-color: var(--bg-color);\n",
              "    border: none;\n",
              "    border-radius: 50%;\n",
              "    cursor: pointer;\n",
              "    display: none;\n",
              "    fill: var(--fill-color);\n",
              "    height: 32px;\n",
              "    padding: 0;\n",
              "    width: 32px;\n",
              "  }\n",
              "\n",
              "  .colab-df-quickchart:hover {\n",
              "    background-color: var(--hover-bg-color);\n",
              "    box-shadow: 0 1px 2px rgba(60, 64, 67, 0.3), 0 1px 3px 1px rgba(60, 64, 67, 0.15);\n",
              "    fill: var(--button-hover-fill-color);\n",
              "  }\n",
              "\n",
              "  .colab-df-quickchart-complete:disabled,\n",
              "  .colab-df-quickchart-complete:disabled:hover {\n",
              "    background-color: var(--disabled-bg-color);\n",
              "    fill: var(--disabled-fill-color);\n",
              "    box-shadow: none;\n",
              "  }\n",
              "\n",
              "  .colab-df-spinner {\n",
              "    border: 2px solid var(--fill-color);\n",
              "    border-color: transparent;\n",
              "    border-bottom-color: var(--fill-color);\n",
              "    animation:\n",
              "      spin 1s steps(1) infinite;\n",
              "  }\n",
              "\n",
              "  @keyframes spin {\n",
              "    0% {\n",
              "      border-color: transparent;\n",
              "      border-bottom-color: var(--fill-color);\n",
              "      border-left-color: var(--fill-color);\n",
              "    }\n",
              "    20% {\n",
              "      border-color: transparent;\n",
              "      border-left-color: var(--fill-color);\n",
              "      border-top-color: var(--fill-color);\n",
              "    }\n",
              "    30% {\n",
              "      border-color: transparent;\n",
              "      border-left-color: var(--fill-color);\n",
              "      border-top-color: var(--fill-color);\n",
              "      border-right-color: var(--fill-color);\n",
              "    }\n",
              "    40% {\n",
              "      border-color: transparent;\n",
              "      border-right-color: var(--fill-color);\n",
              "      border-top-color: var(--fill-color);\n",
              "    }\n",
              "    60% {\n",
              "      border-color: transparent;\n",
              "      border-right-color: var(--fill-color);\n",
              "    }\n",
              "    80% {\n",
              "      border-color: transparent;\n",
              "      border-right-color: var(--fill-color);\n",
              "      border-bottom-color: var(--fill-color);\n",
              "    }\n",
              "    90% {\n",
              "      border-color: transparent;\n",
              "      border-bottom-color: var(--fill-color);\n",
              "    }\n",
              "  }\n",
              "</style>\n",
              "\n",
              "  <script>\n",
              "    async function quickchart(key) {\n",
              "      const quickchartButtonEl =\n",
              "        document.querySelector('#' + key + ' button');\n",
              "      quickchartButtonEl.disabled = true;  // To prevent multiple clicks.\n",
              "      quickchartButtonEl.classList.add('colab-df-spinner');\n",
              "      try {\n",
              "        const charts = await google.colab.kernel.invokeFunction(\n",
              "            'suggestCharts', [key], {});\n",
              "      } catch (error) {\n",
              "        console.error('Error during call to suggestCharts:', error);\n",
              "      }\n",
              "      quickchartButtonEl.classList.remove('colab-df-spinner');\n",
              "      quickchartButtonEl.classList.add('colab-df-quickchart-complete');\n",
              "    }\n",
              "    (() => {\n",
              "      let quickchartButtonEl =\n",
              "        document.querySelector('#df-92d38b7f-a056-4d52-b8ec-0c3d755199c5 button');\n",
              "      quickchartButtonEl.style.display =\n",
              "        google.colab.kernel.accessAllowed ? 'block' : 'none';\n",
              "    })();\n",
              "  </script>\n",
              "</div>\n",
              "\n",
              "  <div id=\"id_4abeff99-2064-4bb4-8973-d51af5a9ca4f\">\n",
              "    <style>\n",
              "      .colab-df-generate {\n",
              "        background-color: #E8F0FE;\n",
              "        border: none;\n",
              "        border-radius: 50%;\n",
              "        cursor: pointer;\n",
              "        display: none;\n",
              "        fill: #1967D2;\n",
              "        height: 32px;\n",
              "        padding: 0 0 0 0;\n",
              "        width: 32px;\n",
              "      }\n",
              "\n",
              "      .colab-df-generate:hover {\n",
              "        background-color: #E2EBFA;\n",
              "        box-shadow: 0px 1px 2px rgba(60, 64, 67, 0.3), 0px 1px 3px 1px rgba(60, 64, 67, 0.15);\n",
              "        fill: #174EA6;\n",
              "      }\n",
              "\n",
              "      [theme=dark] .colab-df-generate {\n",
              "        background-color: #3B4455;\n",
              "        fill: #D2E3FC;\n",
              "      }\n",
              "\n",
              "      [theme=dark] .colab-df-generate:hover {\n",
              "        background-color: #434B5C;\n",
              "        box-shadow: 0px 1px 3px 1px rgba(0, 0, 0, 0.15);\n",
              "        filter: drop-shadow(0px 1px 2px rgba(0, 0, 0, 0.3));\n",
              "        fill: #FFFFFF;\n",
              "      }\n",
              "    </style>\n",
              "    <button class=\"colab-df-generate\" onclick=\"generateWithVariable('df')\"\n",
              "            title=\"Generate code using this dataframe.\"\n",
              "            style=\"display:none;\">\n",
              "\n",
              "  <svg xmlns=\"http://www.w3.org/2000/svg\" height=\"24px\"viewBox=\"0 0 24 24\"\n",
              "       width=\"24px\">\n",
              "    <path d=\"M7,19H8.4L18.45,9,17,7.55,7,17.6ZM5,21V16.75L18.45,3.32a2,2,0,0,1,2.83,0l1.4,1.43a1.91,1.91,0,0,1,.58,1.4,1.91,1.91,0,0,1-.58,1.4L9.25,21ZM18.45,9,17,7.55Zm-12,3A5.31,5.31,0,0,0,4.9,8.1,5.31,5.31,0,0,0,1,6.5,5.31,5.31,0,0,0,4.9,4.9,5.31,5.31,0,0,0,6.5,1,5.31,5.31,0,0,0,8.1,4.9,5.31,5.31,0,0,0,12,6.5,5.46,5.46,0,0,0,6.5,12Z\"/>\n",
              "  </svg>\n",
              "    </button>\n",
              "    <script>\n",
              "      (() => {\n",
              "      const buttonEl =\n",
              "        document.querySelector('#id_4abeff99-2064-4bb4-8973-d51af5a9ca4f button.colab-df-generate');\n",
              "      buttonEl.style.display =\n",
              "        google.colab.kernel.accessAllowed ? 'block' : 'none';\n",
              "\n",
              "      buttonEl.onclick = () => {\n",
              "        google.colab.notebook.generateWithVariable('df');\n",
              "      }\n",
              "      })();\n",
              "    </script>\n",
              "  </div>\n",
              "\n",
              "    </div>\n",
              "  </div>\n"
            ],
            "application/vnd.google.colaboratory.intrinsic+json": {
              "type": "dataframe",
              "variable_name": "df",
              "summary": "{\n  \"name\": \"df\",\n  \"rows\": 388,\n  \"fields\": [\n    {\n      \"column\": \"Age\",\n      \"properties\": {\n        \"dtype\": \"number\",\n        \"std\": 2,\n        \"min\": 18,\n        \"max\": 33,\n        \"num_unique_values\": 16,\n        \"samples\": [\n          20,\n          24,\n          21\n        ],\n        \"semantic_type\": \"\",\n        \"description\": \"\"\n      }\n    },\n    {\n      \"column\": \"Gender\",\n      \"properties\": {\n        \"dtype\": \"category\",\n        \"num_unique_values\": 2,\n        \"samples\": [\n          \"Male\",\n          \"Female\"\n        ],\n        \"semantic_type\": \"\",\n        \"description\": \"\"\n      }\n    },\n    {\n      \"column\": \"Marital Status\",\n      \"properties\": {\n        \"dtype\": \"category\",\n        \"num_unique_values\": 3,\n        \"samples\": [\n          \"Single\",\n          \"Married\"\n        ],\n        \"semantic_type\": \"\",\n        \"description\": \"\"\n      }\n    },\n    {\n      \"column\": \"Occupation\",\n      \"properties\": {\n        \"dtype\": \"category\",\n        \"num_unique_values\": 4,\n        \"samples\": [\n          \"Employee\",\n          \"House wife\"\n        ],\n        \"semantic_type\": \"\",\n        \"description\": \"\"\n      }\n    },\n    {\n      \"column\": \"Monthly Income\",\n      \"properties\": {\n        \"dtype\": \"category\",\n        \"num_unique_values\": 5,\n        \"samples\": [\n          \"Below Rs.10000\",\n          \"25001 to 50000\"\n        ],\n        \"semantic_type\": \"\",\n        \"description\": \"\"\n      }\n    },\n    {\n      \"column\": \"Educational Qualifications\",\n      \"properties\": {\n        \"dtype\": \"category\",\n        \"num_unique_values\": 5,\n        \"samples\": [\n          \"Graduate\",\n          \"School\"\n        ],\n        \"semantic_type\": \"\",\n        \"description\": \"\"\n      }\n    },\n    {\n      \"column\": \"Family size\",\n      \"properties\": {\n        \"dtype\": \"number\",\n        \"std\": 1,\n        \"min\": 1,\n        \"max\": 6,\n        \"num_unique_values\": 6,\n        \"samples\": [\n          4,\n          3\n        ],\n        \"semantic_type\": \"\",\n        \"description\": \"\"\n      }\n    },\n    {\n      \"column\": \"latitude\",\n      \"properties\": {\n        \"dtype\": \"number\",\n        \"std\": 0.04448924862810607,\n        \"min\": 12.8652,\n        \"max\": 13.102,\n        \"num_unique_values\": 77,\n        \"samples\": [\n          12.985,\n          12.9335\n        ],\n        \"semantic_type\": \"\",\n        \"description\": \"\"\n      }\n    },\n    {\n      \"column\": \"longitude\",\n      \"properties\": {\n        \"dtype\": \"number\",\n        \"std\": 0.051353917012718464,\n        \"min\": 77.4842,\n        \"max\": 77.7582,\n        \"num_unique_values\": 76,\n        \"samples\": [\n          77.5533,\n          77.5691\n        ],\n        \"semantic_type\": \"\",\n        \"description\": \"\"\n      }\n    },\n    {\n      \"column\": \"Pin code\",\n      \"properties\": {\n        \"dtype\": \"number\",\n        \"std\": 31,\n        \"min\": 560001,\n        \"max\": 560109,\n        \"num_unique_values\": 77,\n        \"samples\": [\n          560010,\n          560028\n        ],\n        \"semantic_type\": \"\",\n        \"description\": \"\"\n      }\n    },\n    {\n      \"column\": \"Output\",\n      \"properties\": {\n        \"dtype\": \"category\",\n        \"num_unique_values\": 2,\n        \"samples\": [\n          \"No\",\n          \"Yes\"\n        ],\n        \"semantic_type\": \"\",\n        \"description\": \"\"\n      }\n    },\n    {\n      \"column\": \"Feedback\",\n      \"properties\": {\n        \"dtype\": \"category\",\n        \"num_unique_values\": 2,\n        \"samples\": [\n          \"Negative \",\n          \"Positive\"\n        ],\n        \"semantic_type\": \"\",\n        \"description\": \"\"\n      }\n    }\n  ]\n}"
            }
          },
          "metadata": {},
          "execution_count": 1807
        }
      ]
    },
    {
      "cell_type": "code",
      "source": [
        "df['Gender'].unique()"
      ],
      "metadata": {
        "colab": {
          "base_uri": "https://localhost:8080/"
        },
        "id": "aIui4w2HLaNn",
        "outputId": "ed04760f-969e-4218-fe44-2bb74401a0c7"
      },
      "execution_count": null,
      "outputs": [
        {
          "output_type": "execute_result",
          "data": {
            "text/plain": [
              "array(['Female', 'Male'], dtype=object)"
            ]
          },
          "metadata": {},
          "execution_count": 1808
        }
      ]
    },
    {
      "cell_type": "code",
      "source": [
        "df['Marital Status'].unique()"
      ],
      "metadata": {
        "colab": {
          "base_uri": "https://localhost:8080/"
        },
        "id": "JkSIZ2a8NMb_",
        "outputId": "0ff2791a-ffb6-4c89-eebd-cd35503343cf"
      },
      "execution_count": null,
      "outputs": [
        {
          "output_type": "execute_result",
          "data": {
            "text/plain": [
              "array(['Single', 'Married', 'Prefer not to say'], dtype=object)"
            ]
          },
          "metadata": {},
          "execution_count": 1809
        }
      ]
    },
    {
      "cell_type": "code",
      "source": [
        "df['Occupation'].unique()"
      ],
      "metadata": {
        "colab": {
          "base_uri": "https://localhost:8080/"
        },
        "id": "uMp5vup6NPN4",
        "outputId": "497b77f9-e9b2-45b9-cddb-bed12d169d56"
      },
      "execution_count": null,
      "outputs": [
        {
          "output_type": "execute_result",
          "data": {
            "text/plain": [
              "array(['Student', 'Employee', 'Self Employeed', 'House wife'],\n",
              "      dtype=object)"
            ]
          },
          "metadata": {},
          "execution_count": 1810
        }
      ]
    },
    {
      "cell_type": "code",
      "source": [
        "df['Monthly Income'].unique()"
      ],
      "metadata": {
        "colab": {
          "base_uri": "https://localhost:8080/"
        },
        "id": "JLxuBF9ARPa7",
        "outputId": "3f6f594b-b410-494e-de59-6e2afea87836"
      },
      "execution_count": null,
      "outputs": [
        {
          "output_type": "execute_result",
          "data": {
            "text/plain": [
              "array(['No Income', 'Below Rs.10000', 'More than 50000', '10001 to 25000',\n",
              "       '25001 to 50000'], dtype=object)"
            ]
          },
          "metadata": {},
          "execution_count": 1811
        }
      ]
    },
    {
      "cell_type": "code",
      "source": [
        "df['Educational Qualifications'].unique()"
      ],
      "metadata": {
        "colab": {
          "base_uri": "https://localhost:8080/"
        },
        "id": "3KTFxZ2INTLs",
        "outputId": "2a27ff1d-abc4-4f43-a0d5-fde03f22327b"
      },
      "execution_count": null,
      "outputs": [
        {
          "output_type": "execute_result",
          "data": {
            "text/plain": [
              "array(['Post Graduate', 'Graduate', 'Ph.D', 'Uneducated', 'School'],\n",
              "      dtype=object)"
            ]
          },
          "metadata": {},
          "execution_count": 1812
        }
      ]
    },
    {
      "cell_type": "code",
      "source": [
        "df['Output'].unique()"
      ],
      "metadata": {
        "colab": {
          "base_uri": "https://localhost:8080/"
        },
        "id": "wDzj227ENXu7",
        "outputId": "90c51f1b-e3f8-4a45-fa02-5156748f731d"
      },
      "execution_count": null,
      "outputs": [
        {
          "output_type": "execute_result",
          "data": {
            "text/plain": [
              "array(['Yes', 'No'], dtype=object)"
            ]
          },
          "metadata": {},
          "execution_count": 1813
        }
      ]
    },
    {
      "cell_type": "markdown",
      "source": [
        "#Label Encoding"
      ],
      "metadata": {
        "id": "Gv9NmtIE-Yor"
      }
    },
    {
      "cell_type": "code",
      "source": [
        "from sklearn.preprocessing import LabelEncoder\n",
        "le= LabelEncoder()\n",
        "df[['Gender','Output','Feedback']]= df[['Gender','Output','Feedback']].apply(LabelEncoder().fit_transform)\n",
        "df"
      ],
      "metadata": {
        "colab": {
          "base_uri": "https://localhost:8080/",
          "height": 423
        },
        "id": "fYLoZjd79ADV",
        "outputId": "4b30fec5-5f60-40f6-e7d2-57939d1c31d1"
      },
      "execution_count": null,
      "outputs": [
        {
          "output_type": "execute_result",
          "data": {
            "text/plain": [
              "     Age  Gender Marital Status Occupation  Monthly Income  \\\n",
              "0     20       0         Single    Student       No Income   \n",
              "1     24       0         Single    Student  Below Rs.10000   \n",
              "2     22       1         Single    Student  Below Rs.10000   \n",
              "3     22       0         Single    Student       No Income   \n",
              "4     22       1         Single    Student  Below Rs.10000   \n",
              "..   ...     ...            ...        ...             ...   \n",
              "383   23       0         Single    Student       No Income   \n",
              "384   23       0         Single    Student       No Income   \n",
              "385   22       0         Single    Student       No Income   \n",
              "386   23       1         Single    Student  Below Rs.10000   \n",
              "387   23       1         Single    Student       No Income   \n",
              "\n",
              "    Educational Qualifications  Family size  latitude  longitude  Pin code  \\\n",
              "0                Post Graduate            4   12.9766    77.5993    560001   \n",
              "1                     Graduate            3   12.9770    77.5773    560009   \n",
              "2                Post Graduate            3   12.9551    77.6593    560017   \n",
              "3                     Graduate            6   12.9473    77.5616    560019   \n",
              "4                Post Graduate            4   12.9850    77.5533    560010   \n",
              "..                         ...          ...       ...        ...       ...   \n",
              "383              Post Graduate            2   12.9766    77.5993    560001   \n",
              "384              Post Graduate            4   12.9854    77.7081    560048   \n",
              "385              Post Graduate            5   12.9850    77.5533    560010   \n",
              "386              Post Graduate            2   12.9770    77.5773    560009   \n",
              "387              Post Graduate            5   12.8988    77.5764    560078   \n",
              "\n",
              "     Output  Feedback  \n",
              "0         1         1  \n",
              "1         1         1  \n",
              "2         1         0  \n",
              "3         1         1  \n",
              "4         1         1  \n",
              "..      ...       ...  \n",
              "383       1         1  \n",
              "384       1         1  \n",
              "385       1         1  \n",
              "386       1         1  \n",
              "387       1         1  \n",
              "\n",
              "[388 rows x 12 columns]"
            ],
            "text/html": [
              "\n",
              "  <div id=\"df-04629a88-e054-4b4b-a32b-3c56bd5db5a5\" class=\"colab-df-container\">\n",
              "    <div>\n",
              "<style scoped>\n",
              "    .dataframe tbody tr th:only-of-type {\n",
              "        vertical-align: middle;\n",
              "    }\n",
              "\n",
              "    .dataframe tbody tr th {\n",
              "        vertical-align: top;\n",
              "    }\n",
              "\n",
              "    .dataframe thead th {\n",
              "        text-align: right;\n",
              "    }\n",
              "</style>\n",
              "<table border=\"1\" class=\"dataframe\">\n",
              "  <thead>\n",
              "    <tr style=\"text-align: right;\">\n",
              "      <th></th>\n",
              "      <th>Age</th>\n",
              "      <th>Gender</th>\n",
              "      <th>Marital Status</th>\n",
              "      <th>Occupation</th>\n",
              "      <th>Monthly Income</th>\n",
              "      <th>Educational Qualifications</th>\n",
              "      <th>Family size</th>\n",
              "      <th>latitude</th>\n",
              "      <th>longitude</th>\n",
              "      <th>Pin code</th>\n",
              "      <th>Output</th>\n",
              "      <th>Feedback</th>\n",
              "    </tr>\n",
              "  </thead>\n",
              "  <tbody>\n",
              "    <tr>\n",
              "      <th>0</th>\n",
              "      <td>20</td>\n",
              "      <td>0</td>\n",
              "      <td>Single</td>\n",
              "      <td>Student</td>\n",
              "      <td>No Income</td>\n",
              "      <td>Post Graduate</td>\n",
              "      <td>4</td>\n",
              "      <td>12.9766</td>\n",
              "      <td>77.5993</td>\n",
              "      <td>560001</td>\n",
              "      <td>1</td>\n",
              "      <td>1</td>\n",
              "    </tr>\n",
              "    <tr>\n",
              "      <th>1</th>\n",
              "      <td>24</td>\n",
              "      <td>0</td>\n",
              "      <td>Single</td>\n",
              "      <td>Student</td>\n",
              "      <td>Below Rs.10000</td>\n",
              "      <td>Graduate</td>\n",
              "      <td>3</td>\n",
              "      <td>12.9770</td>\n",
              "      <td>77.5773</td>\n",
              "      <td>560009</td>\n",
              "      <td>1</td>\n",
              "      <td>1</td>\n",
              "    </tr>\n",
              "    <tr>\n",
              "      <th>2</th>\n",
              "      <td>22</td>\n",
              "      <td>1</td>\n",
              "      <td>Single</td>\n",
              "      <td>Student</td>\n",
              "      <td>Below Rs.10000</td>\n",
              "      <td>Post Graduate</td>\n",
              "      <td>3</td>\n",
              "      <td>12.9551</td>\n",
              "      <td>77.6593</td>\n",
              "      <td>560017</td>\n",
              "      <td>1</td>\n",
              "      <td>0</td>\n",
              "    </tr>\n",
              "    <tr>\n",
              "      <th>3</th>\n",
              "      <td>22</td>\n",
              "      <td>0</td>\n",
              "      <td>Single</td>\n",
              "      <td>Student</td>\n",
              "      <td>No Income</td>\n",
              "      <td>Graduate</td>\n",
              "      <td>6</td>\n",
              "      <td>12.9473</td>\n",
              "      <td>77.5616</td>\n",
              "      <td>560019</td>\n",
              "      <td>1</td>\n",
              "      <td>1</td>\n",
              "    </tr>\n",
              "    <tr>\n",
              "      <th>4</th>\n",
              "      <td>22</td>\n",
              "      <td>1</td>\n",
              "      <td>Single</td>\n",
              "      <td>Student</td>\n",
              "      <td>Below Rs.10000</td>\n",
              "      <td>Post Graduate</td>\n",
              "      <td>4</td>\n",
              "      <td>12.9850</td>\n",
              "      <td>77.5533</td>\n",
              "      <td>560010</td>\n",
              "      <td>1</td>\n",
              "      <td>1</td>\n",
              "    </tr>\n",
              "    <tr>\n",
              "      <th>...</th>\n",
              "      <td>...</td>\n",
              "      <td>...</td>\n",
              "      <td>...</td>\n",
              "      <td>...</td>\n",
              "      <td>...</td>\n",
              "      <td>...</td>\n",
              "      <td>...</td>\n",
              "      <td>...</td>\n",
              "      <td>...</td>\n",
              "      <td>...</td>\n",
              "      <td>...</td>\n",
              "      <td>...</td>\n",
              "    </tr>\n",
              "    <tr>\n",
              "      <th>383</th>\n",
              "      <td>23</td>\n",
              "      <td>0</td>\n",
              "      <td>Single</td>\n",
              "      <td>Student</td>\n",
              "      <td>No Income</td>\n",
              "      <td>Post Graduate</td>\n",
              "      <td>2</td>\n",
              "      <td>12.9766</td>\n",
              "      <td>77.5993</td>\n",
              "      <td>560001</td>\n",
              "      <td>1</td>\n",
              "      <td>1</td>\n",
              "    </tr>\n",
              "    <tr>\n",
              "      <th>384</th>\n",
              "      <td>23</td>\n",
              "      <td>0</td>\n",
              "      <td>Single</td>\n",
              "      <td>Student</td>\n",
              "      <td>No Income</td>\n",
              "      <td>Post Graduate</td>\n",
              "      <td>4</td>\n",
              "      <td>12.9854</td>\n",
              "      <td>77.7081</td>\n",
              "      <td>560048</td>\n",
              "      <td>1</td>\n",
              "      <td>1</td>\n",
              "    </tr>\n",
              "    <tr>\n",
              "      <th>385</th>\n",
              "      <td>22</td>\n",
              "      <td>0</td>\n",
              "      <td>Single</td>\n",
              "      <td>Student</td>\n",
              "      <td>No Income</td>\n",
              "      <td>Post Graduate</td>\n",
              "      <td>5</td>\n",
              "      <td>12.9850</td>\n",
              "      <td>77.5533</td>\n",
              "      <td>560010</td>\n",
              "      <td>1</td>\n",
              "      <td>1</td>\n",
              "    </tr>\n",
              "    <tr>\n",
              "      <th>386</th>\n",
              "      <td>23</td>\n",
              "      <td>1</td>\n",
              "      <td>Single</td>\n",
              "      <td>Student</td>\n",
              "      <td>Below Rs.10000</td>\n",
              "      <td>Post Graduate</td>\n",
              "      <td>2</td>\n",
              "      <td>12.9770</td>\n",
              "      <td>77.5773</td>\n",
              "      <td>560009</td>\n",
              "      <td>1</td>\n",
              "      <td>1</td>\n",
              "    </tr>\n",
              "    <tr>\n",
              "      <th>387</th>\n",
              "      <td>23</td>\n",
              "      <td>1</td>\n",
              "      <td>Single</td>\n",
              "      <td>Student</td>\n",
              "      <td>No Income</td>\n",
              "      <td>Post Graduate</td>\n",
              "      <td>5</td>\n",
              "      <td>12.8988</td>\n",
              "      <td>77.5764</td>\n",
              "      <td>560078</td>\n",
              "      <td>1</td>\n",
              "      <td>1</td>\n",
              "    </tr>\n",
              "  </tbody>\n",
              "</table>\n",
              "<p>388 rows × 12 columns</p>\n",
              "</div>\n",
              "    <div class=\"colab-df-buttons\">\n",
              "\n",
              "  <div class=\"colab-df-container\">\n",
              "    <button class=\"colab-df-convert\" onclick=\"convertToInteractive('df-04629a88-e054-4b4b-a32b-3c56bd5db5a5')\"\n",
              "            title=\"Convert this dataframe to an interactive table.\"\n",
              "            style=\"display:none;\">\n",
              "\n",
              "  <svg xmlns=\"http://www.w3.org/2000/svg\" height=\"24px\" viewBox=\"0 -960 960 960\">\n",
              "    <path d=\"M120-120v-720h720v720H120Zm60-500h600v-160H180v160Zm220 220h160v-160H400v160Zm0 220h160v-160H400v160ZM180-400h160v-160H180v160Zm440 0h160v-160H620v160ZM180-180h160v-160H180v160Zm440 0h160v-160H620v160Z\"/>\n",
              "  </svg>\n",
              "    </button>\n",
              "\n",
              "  <style>\n",
              "    .colab-df-container {\n",
              "      display:flex;\n",
              "      gap: 12px;\n",
              "    }\n",
              "\n",
              "    .colab-df-convert {\n",
              "      background-color: #E8F0FE;\n",
              "      border: none;\n",
              "      border-radius: 50%;\n",
              "      cursor: pointer;\n",
              "      display: none;\n",
              "      fill: #1967D2;\n",
              "      height: 32px;\n",
              "      padding: 0 0 0 0;\n",
              "      width: 32px;\n",
              "    }\n",
              "\n",
              "    .colab-df-convert:hover {\n",
              "      background-color: #E2EBFA;\n",
              "      box-shadow: 0px 1px 2px rgba(60, 64, 67, 0.3), 0px 1px 3px 1px rgba(60, 64, 67, 0.15);\n",
              "      fill: #174EA6;\n",
              "    }\n",
              "\n",
              "    .colab-df-buttons div {\n",
              "      margin-bottom: 4px;\n",
              "    }\n",
              "\n",
              "    [theme=dark] .colab-df-convert {\n",
              "      background-color: #3B4455;\n",
              "      fill: #D2E3FC;\n",
              "    }\n",
              "\n",
              "    [theme=dark] .colab-df-convert:hover {\n",
              "      background-color: #434B5C;\n",
              "      box-shadow: 0px 1px 3px 1px rgba(0, 0, 0, 0.15);\n",
              "      filter: drop-shadow(0px 1px 2px rgba(0, 0, 0, 0.3));\n",
              "      fill: #FFFFFF;\n",
              "    }\n",
              "  </style>\n",
              "\n",
              "    <script>\n",
              "      const buttonEl =\n",
              "        document.querySelector('#df-04629a88-e054-4b4b-a32b-3c56bd5db5a5 button.colab-df-convert');\n",
              "      buttonEl.style.display =\n",
              "        google.colab.kernel.accessAllowed ? 'block' : 'none';\n",
              "\n",
              "      async function convertToInteractive(key) {\n",
              "        const element = document.querySelector('#df-04629a88-e054-4b4b-a32b-3c56bd5db5a5');\n",
              "        const dataTable =\n",
              "          await google.colab.kernel.invokeFunction('convertToInteractive',\n",
              "                                                    [key], {});\n",
              "        if (!dataTable) return;\n",
              "\n",
              "        const docLinkHtml = 'Like what you see? Visit the ' +\n",
              "          '<a target=\"_blank\" href=https://colab.research.google.com/notebooks/data_table.ipynb>data table notebook</a>'\n",
              "          + ' to learn more about interactive tables.';\n",
              "        element.innerHTML = '';\n",
              "        dataTable['output_type'] = 'display_data';\n",
              "        await google.colab.output.renderOutput(dataTable, element);\n",
              "        const docLink = document.createElement('div');\n",
              "        docLink.innerHTML = docLinkHtml;\n",
              "        element.appendChild(docLink);\n",
              "      }\n",
              "    </script>\n",
              "  </div>\n",
              "\n",
              "\n",
              "<div id=\"df-7625926b-d106-486a-b520-1c72457de9cb\">\n",
              "  <button class=\"colab-df-quickchart\" onclick=\"quickchart('df-7625926b-d106-486a-b520-1c72457de9cb')\"\n",
              "            title=\"Suggest charts\"\n",
              "            style=\"display:none;\">\n",
              "\n",
              "<svg xmlns=\"http://www.w3.org/2000/svg\" height=\"24px\"viewBox=\"0 0 24 24\"\n",
              "     width=\"24px\">\n",
              "    <g>\n",
              "        <path d=\"M19 3H5c-1.1 0-2 .9-2 2v14c0 1.1.9 2 2 2h14c1.1 0 2-.9 2-2V5c0-1.1-.9-2-2-2zM9 17H7v-7h2v7zm4 0h-2V7h2v10zm4 0h-2v-4h2v4z\"/>\n",
              "    </g>\n",
              "</svg>\n",
              "  </button>\n",
              "\n",
              "<style>\n",
              "  .colab-df-quickchart {\n",
              "      --bg-color: #E8F0FE;\n",
              "      --fill-color: #1967D2;\n",
              "      --hover-bg-color: #E2EBFA;\n",
              "      --hover-fill-color: #174EA6;\n",
              "      --disabled-fill-color: #AAA;\n",
              "      --disabled-bg-color: #DDD;\n",
              "  }\n",
              "\n",
              "  [theme=dark] .colab-df-quickchart {\n",
              "      --bg-color: #3B4455;\n",
              "      --fill-color: #D2E3FC;\n",
              "      --hover-bg-color: #434B5C;\n",
              "      --hover-fill-color: #FFFFFF;\n",
              "      --disabled-bg-color: #3B4455;\n",
              "      --disabled-fill-color: #666;\n",
              "  }\n",
              "\n",
              "  .colab-df-quickchart {\n",
              "    background-color: var(--bg-color);\n",
              "    border: none;\n",
              "    border-radius: 50%;\n",
              "    cursor: pointer;\n",
              "    display: none;\n",
              "    fill: var(--fill-color);\n",
              "    height: 32px;\n",
              "    padding: 0;\n",
              "    width: 32px;\n",
              "  }\n",
              "\n",
              "  .colab-df-quickchart:hover {\n",
              "    background-color: var(--hover-bg-color);\n",
              "    box-shadow: 0 1px 2px rgba(60, 64, 67, 0.3), 0 1px 3px 1px rgba(60, 64, 67, 0.15);\n",
              "    fill: var(--button-hover-fill-color);\n",
              "  }\n",
              "\n",
              "  .colab-df-quickchart-complete:disabled,\n",
              "  .colab-df-quickchart-complete:disabled:hover {\n",
              "    background-color: var(--disabled-bg-color);\n",
              "    fill: var(--disabled-fill-color);\n",
              "    box-shadow: none;\n",
              "  }\n",
              "\n",
              "  .colab-df-spinner {\n",
              "    border: 2px solid var(--fill-color);\n",
              "    border-color: transparent;\n",
              "    border-bottom-color: var(--fill-color);\n",
              "    animation:\n",
              "      spin 1s steps(1) infinite;\n",
              "  }\n",
              "\n",
              "  @keyframes spin {\n",
              "    0% {\n",
              "      border-color: transparent;\n",
              "      border-bottom-color: var(--fill-color);\n",
              "      border-left-color: var(--fill-color);\n",
              "    }\n",
              "    20% {\n",
              "      border-color: transparent;\n",
              "      border-left-color: var(--fill-color);\n",
              "      border-top-color: var(--fill-color);\n",
              "    }\n",
              "    30% {\n",
              "      border-color: transparent;\n",
              "      border-left-color: var(--fill-color);\n",
              "      border-top-color: var(--fill-color);\n",
              "      border-right-color: var(--fill-color);\n",
              "    }\n",
              "    40% {\n",
              "      border-color: transparent;\n",
              "      border-right-color: var(--fill-color);\n",
              "      border-top-color: var(--fill-color);\n",
              "    }\n",
              "    60% {\n",
              "      border-color: transparent;\n",
              "      border-right-color: var(--fill-color);\n",
              "    }\n",
              "    80% {\n",
              "      border-color: transparent;\n",
              "      border-right-color: var(--fill-color);\n",
              "      border-bottom-color: var(--fill-color);\n",
              "    }\n",
              "    90% {\n",
              "      border-color: transparent;\n",
              "      border-bottom-color: var(--fill-color);\n",
              "    }\n",
              "  }\n",
              "</style>\n",
              "\n",
              "  <script>\n",
              "    async function quickchart(key) {\n",
              "      const quickchartButtonEl =\n",
              "        document.querySelector('#' + key + ' button');\n",
              "      quickchartButtonEl.disabled = true;  // To prevent multiple clicks.\n",
              "      quickchartButtonEl.classList.add('colab-df-spinner');\n",
              "      try {\n",
              "        const charts = await google.colab.kernel.invokeFunction(\n",
              "            'suggestCharts', [key], {});\n",
              "      } catch (error) {\n",
              "        console.error('Error during call to suggestCharts:', error);\n",
              "      }\n",
              "      quickchartButtonEl.classList.remove('colab-df-spinner');\n",
              "      quickchartButtonEl.classList.add('colab-df-quickchart-complete');\n",
              "    }\n",
              "    (() => {\n",
              "      let quickchartButtonEl =\n",
              "        document.querySelector('#df-7625926b-d106-486a-b520-1c72457de9cb button');\n",
              "      quickchartButtonEl.style.display =\n",
              "        google.colab.kernel.accessAllowed ? 'block' : 'none';\n",
              "    })();\n",
              "  </script>\n",
              "</div>\n",
              "\n",
              "  <div id=\"id_ae7cd81f-8bf8-446e-b900-b5b175791ab6\">\n",
              "    <style>\n",
              "      .colab-df-generate {\n",
              "        background-color: #E8F0FE;\n",
              "        border: none;\n",
              "        border-radius: 50%;\n",
              "        cursor: pointer;\n",
              "        display: none;\n",
              "        fill: #1967D2;\n",
              "        height: 32px;\n",
              "        padding: 0 0 0 0;\n",
              "        width: 32px;\n",
              "      }\n",
              "\n",
              "      .colab-df-generate:hover {\n",
              "        background-color: #E2EBFA;\n",
              "        box-shadow: 0px 1px 2px rgba(60, 64, 67, 0.3), 0px 1px 3px 1px rgba(60, 64, 67, 0.15);\n",
              "        fill: #174EA6;\n",
              "      }\n",
              "\n",
              "      [theme=dark] .colab-df-generate {\n",
              "        background-color: #3B4455;\n",
              "        fill: #D2E3FC;\n",
              "      }\n",
              "\n",
              "      [theme=dark] .colab-df-generate:hover {\n",
              "        background-color: #434B5C;\n",
              "        box-shadow: 0px 1px 3px 1px rgba(0, 0, 0, 0.15);\n",
              "        filter: drop-shadow(0px 1px 2px rgba(0, 0, 0, 0.3));\n",
              "        fill: #FFFFFF;\n",
              "      }\n",
              "    </style>\n",
              "    <button class=\"colab-df-generate\" onclick=\"generateWithVariable('df')\"\n",
              "            title=\"Generate code using this dataframe.\"\n",
              "            style=\"display:none;\">\n",
              "\n",
              "  <svg xmlns=\"http://www.w3.org/2000/svg\" height=\"24px\"viewBox=\"0 0 24 24\"\n",
              "       width=\"24px\">\n",
              "    <path d=\"M7,19H8.4L18.45,9,17,7.55,7,17.6ZM5,21V16.75L18.45,3.32a2,2,0,0,1,2.83,0l1.4,1.43a1.91,1.91,0,0,1,.58,1.4,1.91,1.91,0,0,1-.58,1.4L9.25,21ZM18.45,9,17,7.55Zm-12,3A5.31,5.31,0,0,0,4.9,8.1,5.31,5.31,0,0,0,1,6.5,5.31,5.31,0,0,0,4.9,4.9,5.31,5.31,0,0,0,6.5,1,5.31,5.31,0,0,0,8.1,4.9,5.31,5.31,0,0,0,12,6.5,5.46,5.46,0,0,0,6.5,12Z\"/>\n",
              "  </svg>\n",
              "    </button>\n",
              "    <script>\n",
              "      (() => {\n",
              "      const buttonEl =\n",
              "        document.querySelector('#id_ae7cd81f-8bf8-446e-b900-b5b175791ab6 button.colab-df-generate');\n",
              "      buttonEl.style.display =\n",
              "        google.colab.kernel.accessAllowed ? 'block' : 'none';\n",
              "\n",
              "      buttonEl.onclick = () => {\n",
              "        google.colab.notebook.generateWithVariable('df');\n",
              "      }\n",
              "      })();\n",
              "    </script>\n",
              "  </div>\n",
              "\n",
              "    </div>\n",
              "  </div>\n"
            ],
            "application/vnd.google.colaboratory.intrinsic+json": {
              "type": "dataframe",
              "variable_name": "df",
              "summary": "{\n  \"name\": \"df\",\n  \"rows\": 388,\n  \"fields\": [\n    {\n      \"column\": \"Age\",\n      \"properties\": {\n        \"dtype\": \"number\",\n        \"std\": 2,\n        \"min\": 18,\n        \"max\": 33,\n        \"num_unique_values\": 16,\n        \"samples\": [\n          20,\n          24,\n          21\n        ],\n        \"semantic_type\": \"\",\n        \"description\": \"\"\n      }\n    },\n    {\n      \"column\": \"Gender\",\n      \"properties\": {\n        \"dtype\": \"number\",\n        \"std\": 0,\n        \"min\": 0,\n        \"max\": 1,\n        \"num_unique_values\": 2,\n        \"samples\": [\n          1,\n          0\n        ],\n        \"semantic_type\": \"\",\n        \"description\": \"\"\n      }\n    },\n    {\n      \"column\": \"Marital Status\",\n      \"properties\": {\n        \"dtype\": \"category\",\n        \"num_unique_values\": 3,\n        \"samples\": [\n          \"Single\",\n          \"Married\"\n        ],\n        \"semantic_type\": \"\",\n        \"description\": \"\"\n      }\n    },\n    {\n      \"column\": \"Occupation\",\n      \"properties\": {\n        \"dtype\": \"category\",\n        \"num_unique_values\": 4,\n        \"samples\": [\n          \"Employee\",\n          \"House wife\"\n        ],\n        \"semantic_type\": \"\",\n        \"description\": \"\"\n      }\n    },\n    {\n      \"column\": \"Monthly Income\",\n      \"properties\": {\n        \"dtype\": \"category\",\n        \"num_unique_values\": 5,\n        \"samples\": [\n          \"Below Rs.10000\",\n          \"25001 to 50000\"\n        ],\n        \"semantic_type\": \"\",\n        \"description\": \"\"\n      }\n    },\n    {\n      \"column\": \"Educational Qualifications\",\n      \"properties\": {\n        \"dtype\": \"category\",\n        \"num_unique_values\": 5,\n        \"samples\": [\n          \"Graduate\",\n          \"School\"\n        ],\n        \"semantic_type\": \"\",\n        \"description\": \"\"\n      }\n    },\n    {\n      \"column\": \"Family size\",\n      \"properties\": {\n        \"dtype\": \"number\",\n        \"std\": 1,\n        \"min\": 1,\n        \"max\": 6,\n        \"num_unique_values\": 6,\n        \"samples\": [\n          4,\n          3\n        ],\n        \"semantic_type\": \"\",\n        \"description\": \"\"\n      }\n    },\n    {\n      \"column\": \"latitude\",\n      \"properties\": {\n        \"dtype\": \"number\",\n        \"std\": 0.04448924862810607,\n        \"min\": 12.8652,\n        \"max\": 13.102,\n        \"num_unique_values\": 77,\n        \"samples\": [\n          12.985,\n          12.9335\n        ],\n        \"semantic_type\": \"\",\n        \"description\": \"\"\n      }\n    },\n    {\n      \"column\": \"longitude\",\n      \"properties\": {\n        \"dtype\": \"number\",\n        \"std\": 0.051353917012718464,\n        \"min\": 77.4842,\n        \"max\": 77.7582,\n        \"num_unique_values\": 76,\n        \"samples\": [\n          77.5533,\n          77.5691\n        ],\n        \"semantic_type\": \"\",\n        \"description\": \"\"\n      }\n    },\n    {\n      \"column\": \"Pin code\",\n      \"properties\": {\n        \"dtype\": \"number\",\n        \"std\": 31,\n        \"min\": 560001,\n        \"max\": 560109,\n        \"num_unique_values\": 77,\n        \"samples\": [\n          560010,\n          560028\n        ],\n        \"semantic_type\": \"\",\n        \"description\": \"\"\n      }\n    },\n    {\n      \"column\": \"Output\",\n      \"properties\": {\n        \"dtype\": \"number\",\n        \"std\": 0,\n        \"min\": 0,\n        \"max\": 1,\n        \"num_unique_values\": 2,\n        \"samples\": [\n          0,\n          1\n        ],\n        \"semantic_type\": \"\",\n        \"description\": \"\"\n      }\n    },\n    {\n      \"column\": \"Feedback\",\n      \"properties\": {\n        \"dtype\": \"number\",\n        \"std\": 0,\n        \"min\": 0,\n        \"max\": 1,\n        \"num_unique_values\": 2,\n        \"samples\": [\n          0,\n          1\n        ],\n        \"semantic_type\": \"\",\n        \"description\": \"\"\n      }\n    }\n  ]\n}"
            }
          },
          "metadata": {},
          "execution_count": 1814
        }
      ]
    },
    {
      "cell_type": "markdown",
      "source": [
        "#Setting Target Variables & Features"
      ],
      "metadata": {
        "id": "BFySBAcoTIuo"
      }
    },
    {
      "cell_type": "code",
      "source": [
        "X= df.iloc[:,:-1].values\n",
        "y= df.iloc[:,-1].values"
      ],
      "metadata": {
        "id": "Wk7tjCAbRx6g"
      },
      "execution_count": null,
      "outputs": []
    },
    {
      "cell_type": "code",
      "source": [
        "X"
      ],
      "metadata": {
        "colab": {
          "base_uri": "https://localhost:8080/"
        },
        "id": "1E4ibCQXRzwT",
        "outputId": "99cacfd9-a63e-4ed5-e53a-cc287305e85e"
      },
      "execution_count": null,
      "outputs": [
        {
          "output_type": "execute_result",
          "data": {
            "text/plain": [
              "array([[20, 0, 'Single', ..., 77.5993, 560001, 1],\n",
              "       [24, 0, 'Single', ..., 77.5773, 560009, 1],\n",
              "       [22, 1, 'Single', ..., 77.6593, 560017, 1],\n",
              "       ...,\n",
              "       [22, 0, 'Single', ..., 77.5533, 560010, 1],\n",
              "       [23, 1, 'Single', ..., 77.5773, 560009, 1],\n",
              "       [23, 1, 'Single', ..., 77.5764, 560078, 1]], dtype=object)"
            ]
          },
          "metadata": {},
          "execution_count": 1816
        }
      ]
    },
    {
      "cell_type": "code",
      "source": [
        "y"
      ],
      "metadata": {
        "colab": {
          "base_uri": "https://localhost:8080/"
        },
        "id": "MPOPx18YRzzx",
        "outputId": "cd11fe60-3c9a-4ca4-bbf0-ec5f2733507f"
      },
      "execution_count": null,
      "outputs": [
        {
          "output_type": "execute_result",
          "data": {
            "text/plain": [
              "array([1, 1, 0, 1, 1, 1, 1, 1, 1, 1, 1, 0, 1, 1, 1, 1, 1, 0, 0, 1, 1, 1,\n",
              "       1, 1, 1, 1, 1, 1, 1, 1, 1, 1, 1, 1, 1, 1, 1, 0, 1, 1, 0, 1, 1, 1,\n",
              "       1, 1, 1, 1, 0, 1, 1, 1, 1, 1, 1, 1, 1, 1, 1, 1, 1, 1, 1, 1, 1, 1,\n",
              "       1, 1, 1, 1, 1, 1, 1, 1, 1, 1, 1, 1, 1, 1, 1, 1, 1, 1, 1, 1, 1, 1,\n",
              "       1, 0, 1, 1, 1, 1, 1, 1, 1, 1, 1, 1, 1, 1, 1, 1, 0, 1, 1, 1, 1, 1,\n",
              "       1, 1, 1, 1, 1, 0, 1, 1, 1, 1, 1, 1, 1, 0, 0, 1, 1, 1, 1, 1, 1, 1,\n",
              "       1, 0, 1, 1, 1, 0, 1, 1, 1, 0, 1, 1, 0, 1, 1, 1, 1, 1, 1, 1, 1, 1,\n",
              "       1, 1, 1, 1, 0, 1, 1, 0, 1, 1, 1, 1, 0, 1, 1, 0, 1, 1, 1, 1, 1, 1,\n",
              "       1, 0, 0, 1, 1, 0, 1, 1, 1, 1, 1, 1, 0, 1, 0, 1, 1, 1, 1, 1, 1, 1,\n",
              "       1, 0, 1, 1, 1, 1, 1, 1, 0, 1, 1, 0, 0, 1, 0, 1, 1, 0, 1, 0, 1, 1,\n",
              "       1, 1, 1, 1, 1, 1, 1, 1, 0, 1, 1, 1, 0, 1, 1, 0, 1, 1, 1, 1, 1, 1,\n",
              "       1, 1, 0, 1, 0, 1, 0, 1, 1, 1, 1, 1, 1, 1, 0, 0, 1, 0, 1, 0, 0, 0,\n",
              "       1, 1, 0, 1, 1, 1, 1, 0, 1, 1, 1, 1, 1, 1, 0, 1, 1, 1, 1, 1, 1, 1,\n",
              "       1, 0, 1, 1, 1, 1, 0, 0, 0, 1, 1, 1, 0, 0, 0, 1, 1, 1, 1, 1, 1, 1,\n",
              "       1, 0, 1, 1, 1, 1, 1, 0, 1, 1, 1, 0, 1, 1, 0, 1, 1, 1, 1, 1, 1, 1,\n",
              "       1, 1, 1, 0, 1, 1, 0, 1, 1, 0, 1, 1, 0, 1, 0, 1, 1, 1, 1, 0, 1, 1,\n",
              "       1, 1, 1, 1, 1, 0, 1, 1, 1, 0, 1, 1, 0, 1, 1, 1, 1, 1, 1, 1, 1, 0,\n",
              "       0, 0, 1, 0, 1, 1, 1, 1, 1, 1, 1, 1, 1, 1])"
            ]
          },
          "metadata": {},
          "execution_count": 1817
        }
      ]
    },
    {
      "cell_type": "markdown",
      "source": [
        "#One Hot Encoding"
      ],
      "metadata": {
        "id": "zAN_xfCyPWxA"
      }
    },
    {
      "cell_type": "code",
      "source": [
        "from sklearn.compose import ColumnTransformer\n",
        "from sklearn.preprocessing import OneHotEncoder\n",
        "ct= ColumnTransformer(transformers=[('encoder',OneHotEncoder(),[2,3,4,5])],remainder='passthrough')\n",
        "X= np.array(ct.fit_transform(X))"
      ],
      "metadata": {
        "id": "kKbbMcIVPLW3"
      },
      "execution_count": null,
      "outputs": []
    },
    {
      "cell_type": "markdown",
      "source": [
        "#Splitting Dataset into Training Set & Testing Set"
      ],
      "metadata": {
        "id": "W6cqYG7sTQqV"
      }
    },
    {
      "cell_type": "code",
      "source": [
        "from sklearn.model_selection import train_test_split\n",
        "X_train,X_test,y_train,y_test= train_test_split(X,y,test_size=0.2,random_state=0)"
      ],
      "metadata": {
        "id": "8pb5nXGITXsX"
      },
      "execution_count": null,
      "outputs": []
    },
    {
      "cell_type": "code",
      "source": [
        "X_train[: 5]"
      ],
      "metadata": {
        "colab": {
          "base_uri": "https://localhost:8080/"
        },
        "id": "JH7H_Or2St-A",
        "outputId": "e1cde913-9a03-40a2-ec4a-fe52beddcfb4"
      },
      "execution_count": null,
      "outputs": [
        {
          "output_type": "execute_result",
          "data": {
            "text/plain": [
              "array([[1.0, 0.0, 0.0, 1.0, 0.0, 0.0, 0.0, 0.0, 1.0, 0.0, 0.0, 0.0, 1.0,\n",
              "        0.0, 0.0, 0.0, 0.0, 28, 0, 5, 12.9757, 77.5586, 560023, 0],\n",
              "       [0.0, 0.0, 1.0, 0.0, 0.0, 0.0, 1.0, 0.0, 0.0, 0.0, 0.0, 1.0, 0.0,\n",
              "        0.0, 1.0, 0.0, 0.0, 22, 0, 1, 12.8845, 77.6036, 560076, 1],\n",
              "       [0.0, 0.0, 1.0, 0.0, 0.0, 0.0, 1.0, 0.0, 0.0, 0.0, 0.0, 1.0, 0.0,\n",
              "        0.0, 1.0, 0.0, 0.0, 23, 0, 2, 12.9766, 77.5993, 560001, 1],\n",
              "       [0.0, 0.0, 1.0, 0.0, 0.0, 0.0, 1.0, 0.0, 0.0, 0.0, 0.0, 1.0, 0.0,\n",
              "        0.0, 1.0, 0.0, 0.0, 21, 0, 3, 12.9149, 77.5635, 560070, 1],\n",
              "       [0.0, 0.0, 1.0, 0.0, 0.0, 0.0, 1.0, 0.0, 0.0, 0.0, 0.0, 1.0, 1.0,\n",
              "        0.0, 0.0, 0.0, 0.0, 19, 0, 4, 12.9537, 77.6176, 560047, 1]],\n",
              "      dtype=object)"
            ]
          },
          "metadata": {},
          "execution_count": 1820
        }
      ]
    },
    {
      "cell_type": "code",
      "source": [
        "y_test"
      ],
      "metadata": {
        "colab": {
          "base_uri": "https://localhost:8080/"
        },
        "id": "5OAOPOYBPLcG",
        "outputId": "7cf0cfe8-c7ee-4a7a-f3b0-df17c3627c81"
      },
      "execution_count": null,
      "outputs": [
        {
          "output_type": "execute_result",
          "data": {
            "text/plain": [
              "array([1, 0, 0, 1, 1, 1, 1, 1, 1, 1, 1, 0, 1, 0, 0, 1, 1, 1, 1, 1, 1, 1,\n",
              "       1, 1, 1, 1, 1, 1, 1, 1, 1, 0, 1, 1, 1, 1, 1, 1, 0, 1, 1, 1, 1, 1,\n",
              "       1, 1, 1, 0, 1, 1, 1, 1, 0, 0, 1, 1, 0, 1, 0, 1, 1, 1, 1, 1, 1, 1,\n",
              "       1, 0, 1, 1, 1, 1, 1, 1, 0, 1, 1, 1])"
            ]
          },
          "metadata": {},
          "execution_count": 1821
        }
      ]
    },
    {
      "cell_type": "markdown",
      "source": [
        "#Feature Scaling"
      ],
      "metadata": {
        "id": "lYOmHGg1Ts9Q"
      }
    },
    {
      "cell_type": "code",
      "source": [
        "from sklearn.preprocessing import StandardScaler\n",
        "sc= StandardScaler()\n",
        "X_train= sc.fit_transform(X_train)\n",
        "X_test= sc.transform(X_test)"
      ],
      "metadata": {
        "id": "i65EdCMCPLes"
      },
      "execution_count": null,
      "outputs": []
    },
    {
      "cell_type": "code",
      "source": [
        "X_train[0:5]"
      ],
      "metadata": {
        "colab": {
          "base_uri": "https://localhost:8080/"
        },
        "id": "ARC47CjSPLhT",
        "outputId": "5f7c0a83-4f04-4941-90ff-13f448b4b8d3"
      },
      "execution_count": null,
      "outputs": [
        {
          "output_type": "execute_result",
          "data": {
            "text/plain": [
              "array([[ 1.61389317, -0.15199444, -1.52752523,  1.55131989, -0.15199444,\n",
              "        -0.39587425, -1.10194633, -0.35675303,  2.20205736, -0.26956328,\n",
              "        -0.43852901, -0.9745181 ,  1.08066284, -0.26956328, -0.88408664,\n",
              "        -0.16275769, -0.0805823 ,  1.1377725 , -1.1612428 ,  1.31092677,\n",
              "         0.0730299 , -0.80845468, -0.50872961, -1.86889101],\n",
              "       [-0.6196197 , -0.15199444,  0.65465367, -0.64461238, -0.15199444,\n",
              "        -0.39587425,  0.90748521, -0.35675303, -0.45412078, -0.26956328,\n",
              "        -0.43852901,  1.0261482 , -0.925358  , -0.26956328,  1.13111085,\n",
              "        -0.16275769, -0.0805823 , -0.86625861, -1.1612428 , -1.69934952,\n",
              "        -1.95695858,  0.10155587,  1.2040629 ,  0.53507668],\n",
              "       [-0.6196197 , -0.15199444,  0.65465367, -0.64461238, -0.15199444,\n",
              "        -0.39587425,  0.90748521, -0.35675303, -0.45412078, -0.26956328,\n",
              "        -0.43852901,  1.0261482 , -0.925358  , -0.26956328,  1.13111085,\n",
              "        -0.16275769, -0.0805823 , -0.53225343, -1.1612428 , -0.94678044,\n",
              "         0.09306268,  0.01459931, -1.21970008,  0.53507668],\n",
              "       [-0.6196197 , -0.15199444,  0.65465367, -0.64461238, -0.15199444,\n",
              "        -0.39587425,  0.90748521, -0.35675303, -0.45412078, -0.26956328,\n",
              "        -0.43852901,  1.0261482 , -0.925358  , -0.26956328,  1.13111085,\n",
              "        -0.16275769, -0.0805823 , -1.2002638 , -1.1612428 , -0.19421137,\n",
              "        -1.28029576, -0.70936465,  1.01016186,  0.53507668],\n",
              "       [-0.6196197 , -0.15199444,  0.65465367, -0.64461238, -0.15199444,\n",
              "        -0.39587425,  0.90748521, -0.35675303, -0.45412078, -0.26956328,\n",
              "        -0.43852901,  1.0261482 ,  1.08066284, -0.26956328, -0.88408664,\n",
              "        -0.16275769, -0.0805823 , -1.86827417, -1.1612428 ,  0.5583577 ,\n",
              "        -0.41666031,  0.38467027,  0.26687455,  0.53507668]])"
            ]
          },
          "metadata": {},
          "execution_count": 1823
        }
      ]
    },
    {
      "cell_type": "code",
      "source": [
        "X_test"
      ],
      "metadata": {
        "colab": {
          "base_uri": "https://localhost:8080/"
        },
        "id": "_1yAzZ93PLkq",
        "outputId": "b7580652-9092-4ff7-9b06-209fd7f6984c"
      },
      "execution_count": null,
      "outputs": [
        {
          "output_type": "execute_result",
          "data": {
            "text/plain": [
              "array([[-0.6196197 , -0.15199444,  0.65465367, ..., -1.11583603,\n",
              "         1.49491446,  0.53507668],\n",
              "       [ 1.61389317, -0.15199444, -1.52752523, ..., -0.33322695,\n",
              "        -1.18738324, -1.86889101],\n",
              "       [-0.6196197 ,  6.57918797, -1.52752523, ..., -0.4950066 ,\n",
              "        -0.60568013, -1.86889101],\n",
              "       ...,\n",
              "       [-0.6196197 , -0.15199444,  0.65465367, ...,  3.06212356,\n",
              "         0.88089451, -1.86889101],\n",
              "       [-0.6196197 , -0.15199444,  0.65465367, ...,  1.4706162 ,\n",
              "         1.75344918,  0.53507668],\n",
              "       [-0.6196197 , -0.15199444,  0.65465367, ..., -1.00056802,\n",
              "         1.97966706,  0.53507668]])"
            ]
          },
          "metadata": {},
          "execution_count": 1824
        }
      ]
    },
    {
      "cell_type": "markdown",
      "source": [
        "#Training Logistic Regression Model on Training Set"
      ],
      "metadata": {
        "id": "XJyjWBgIUWeS"
      }
    },
    {
      "cell_type": "code",
      "source": [
        "from sklearn.linear_model import LogisticRegression\n",
        "classifier= LogisticRegression()\n",
        "classifier.fit(X_train,y_train)"
      ],
      "metadata": {
        "colab": {
          "base_uri": "https://localhost:8080/",
          "height": 74
        },
        "id": "nARYQpFHPLpQ",
        "outputId": "6527572b-c189-4dc9-df4b-2b42fb0115c4"
      },
      "execution_count": null,
      "outputs": [
        {
          "output_type": "execute_result",
          "data": {
            "text/plain": [
              "LogisticRegression()"
            ],
            "text/html": [
              "<style>#sk-container-id-173 {color: black;}#sk-container-id-173 pre{padding: 0;}#sk-container-id-173 div.sk-toggleable {background-color: white;}#sk-container-id-173 label.sk-toggleable__label {cursor: pointer;display: block;width: 100%;margin-bottom: 0;padding: 0.3em;box-sizing: border-box;text-align: center;}#sk-container-id-173 label.sk-toggleable__label-arrow:before {content: \"▸\";float: left;margin-right: 0.25em;color: #696969;}#sk-container-id-173 label.sk-toggleable__label-arrow:hover:before {color: black;}#sk-container-id-173 div.sk-estimator:hover label.sk-toggleable__label-arrow:before {color: black;}#sk-container-id-173 div.sk-toggleable__content {max-height: 0;max-width: 0;overflow: hidden;text-align: left;background-color: #f0f8ff;}#sk-container-id-173 div.sk-toggleable__content pre {margin: 0.2em;color: black;border-radius: 0.25em;background-color: #f0f8ff;}#sk-container-id-173 input.sk-toggleable__control:checked~div.sk-toggleable__content {max-height: 200px;max-width: 100%;overflow: auto;}#sk-container-id-173 input.sk-toggleable__control:checked~label.sk-toggleable__label-arrow:before {content: \"▾\";}#sk-container-id-173 div.sk-estimator input.sk-toggleable__control:checked~label.sk-toggleable__label {background-color: #d4ebff;}#sk-container-id-173 div.sk-label input.sk-toggleable__control:checked~label.sk-toggleable__label {background-color: #d4ebff;}#sk-container-id-173 input.sk-hidden--visually {border: 0;clip: rect(1px 1px 1px 1px);clip: rect(1px, 1px, 1px, 1px);height: 1px;margin: -1px;overflow: hidden;padding: 0;position: absolute;width: 1px;}#sk-container-id-173 div.sk-estimator {font-family: monospace;background-color: #f0f8ff;border: 1px dotted black;border-radius: 0.25em;box-sizing: border-box;margin-bottom: 0.5em;}#sk-container-id-173 div.sk-estimator:hover {background-color: #d4ebff;}#sk-container-id-173 div.sk-parallel-item::after {content: \"\";width: 100%;border-bottom: 1px solid gray;flex-grow: 1;}#sk-container-id-173 div.sk-label:hover label.sk-toggleable__label {background-color: #d4ebff;}#sk-container-id-173 div.sk-serial::before {content: \"\";position: absolute;border-left: 1px solid gray;box-sizing: border-box;top: 0;bottom: 0;left: 50%;z-index: 0;}#sk-container-id-173 div.sk-serial {display: flex;flex-direction: column;align-items: center;background-color: white;padding-right: 0.2em;padding-left: 0.2em;position: relative;}#sk-container-id-173 div.sk-item {position: relative;z-index: 1;}#sk-container-id-173 div.sk-parallel {display: flex;align-items: stretch;justify-content: center;background-color: white;position: relative;}#sk-container-id-173 div.sk-item::before, #sk-container-id-173 div.sk-parallel-item::before {content: \"\";position: absolute;border-left: 1px solid gray;box-sizing: border-box;top: 0;bottom: 0;left: 50%;z-index: -1;}#sk-container-id-173 div.sk-parallel-item {display: flex;flex-direction: column;z-index: 1;position: relative;background-color: white;}#sk-container-id-173 div.sk-parallel-item:first-child::after {align-self: flex-end;width: 50%;}#sk-container-id-173 div.sk-parallel-item:last-child::after {align-self: flex-start;width: 50%;}#sk-container-id-173 div.sk-parallel-item:only-child::after {width: 0;}#sk-container-id-173 div.sk-dashed-wrapped {border: 1px dashed gray;margin: 0 0.4em 0.5em 0.4em;box-sizing: border-box;padding-bottom: 0.4em;background-color: white;}#sk-container-id-173 div.sk-label label {font-family: monospace;font-weight: bold;display: inline-block;line-height: 1.2em;}#sk-container-id-173 div.sk-label-container {text-align: center;}#sk-container-id-173 div.sk-container {/* jupyter's `normalize.less` sets `[hidden] { display: none; }` but bootstrap.min.css set `[hidden] { display: none !important; }` so we also need the `!important` here to be able to override the default hidden behavior on the sphinx rendered scikit-learn.org. See: https://github.com/scikit-learn/scikit-learn/issues/21755 */display: inline-block !important;position: relative;}#sk-container-id-173 div.sk-text-repr-fallback {display: none;}</style><div id=\"sk-container-id-173\" class=\"sk-top-container\"><div class=\"sk-text-repr-fallback\"><pre>LogisticRegression()</pre><b>In a Jupyter environment, please rerun this cell to show the HTML representation or trust the notebook. <br />On GitHub, the HTML representation is unable to render, please try loading this page with nbviewer.org.</b></div><div class=\"sk-container\" hidden><div class=\"sk-item\"><div class=\"sk-estimator sk-toggleable\"><input class=\"sk-toggleable__control sk-hidden--visually\" id=\"sk-estimator-id-173\" type=\"checkbox\" checked><label for=\"sk-estimator-id-173\" class=\"sk-toggleable__label sk-toggleable__label-arrow\">LogisticRegression</label><div class=\"sk-toggleable__content\"><pre>LogisticRegression()</pre></div></div></div></div></div>"
            ]
          },
          "metadata": {},
          "execution_count": 1825
        }
      ]
    },
    {
      "cell_type": "markdown",
      "source": [
        "#Predicting New Result"
      ],
      "metadata": {
        "id": "ut-tcUKAkanL"
      }
    },
    {
      "cell_type": "code",
      "source": [
        "print(classifier.predict(sc.transform([[0,0,1,0,0,0,1,0,1,1,0,1,1,1,0,1,0,1,21,0,5,12.9770,\t77.5773,\t560009]])))"
      ],
      "metadata": {
        "colab": {
          "base_uri": "https://localhost:8080/"
        },
        "id": "n39YfvpdjH7R",
        "outputId": "c83939cb-9606-4c75-e61f-311a0f8d908c"
      },
      "execution_count": null,
      "outputs": [
        {
          "output_type": "stream",
          "name": "stdout",
          "text": [
            "[1]\n"
          ]
        }
      ]
    },
    {
      "cell_type": "markdown",
      "source": [
        "#Predicting Test Set Results"
      ],
      "metadata": {
        "id": "CLc6WPUqUcoz"
      }
    },
    {
      "cell_type": "code",
      "source": [
        "y_pred= classifier.predict(X_test)"
      ],
      "metadata": {
        "id": "QjKEkBR-WtC1"
      },
      "execution_count": null,
      "outputs": []
    },
    {
      "cell_type": "code",
      "source": [
        "y_pred"
      ],
      "metadata": {
        "colab": {
          "base_uri": "https://localhost:8080/"
        },
        "id": "Tr0TwSlPVtrY",
        "outputId": "03f93601-46f4-4138-ce56-20e9c93997a7"
      },
      "execution_count": null,
      "outputs": [
        {
          "output_type": "execute_result",
          "data": {
            "text/plain": [
              "array([1, 1, 0, 1, 1, 1, 1, 1, 0, 1, 1, 1, 1, 0, 0, 1, 1, 0, 1, 1, 1, 1,\n",
              "       1, 1, 0, 1, 1, 1, 1, 1, 1, 0, 0, 1, 1, 1, 1, 1, 0, 1, 1, 1, 1, 1,\n",
              "       1, 1, 1, 1, 0, 1, 1, 1, 0, 0, 1, 1, 0, 1, 1, 1, 1, 1, 1, 1, 1, 1,\n",
              "       1, 1, 1, 1, 1, 1, 1, 0, 0, 1, 0, 1])"
            ]
          },
          "metadata": {},
          "execution_count": 1828
        }
      ]
    },
    {
      "cell_type": "code",
      "source": [
        "y_test"
      ],
      "metadata": {
        "colab": {
          "base_uri": "https://localhost:8080/"
        },
        "id": "aNn8JrLlVtn9",
        "outputId": "bdf8c994-38c9-4aa5-d3c8-00e46ccae476"
      },
      "execution_count": null,
      "outputs": [
        {
          "output_type": "execute_result",
          "data": {
            "text/plain": [
              "array([1, 0, 0, 1, 1, 1, 1, 1, 1, 1, 1, 0, 1, 0, 0, 1, 1, 1, 1, 1, 1, 1,\n",
              "       1, 1, 1, 1, 1, 1, 1, 1, 1, 0, 1, 1, 1, 1, 1, 1, 0, 1, 1, 1, 1, 1,\n",
              "       1, 1, 1, 0, 1, 1, 1, 1, 0, 0, 1, 1, 0, 1, 0, 1, 1, 1, 1, 1, 1, 1,\n",
              "       1, 0, 1, 1, 1, 1, 1, 1, 0, 1, 1, 1])"
            ]
          },
          "metadata": {},
          "execution_count": 1829
        }
      ]
    },
    {
      "cell_type": "code",
      "source": [
        "print(np.concatenate((y_pred.reshape(len(y_pred),1),y_test.reshape(len(y_test),1)),1))"
      ],
      "metadata": {
        "colab": {
          "base_uri": "https://localhost:8080/"
        },
        "id": "yK6rgWfkWu96",
        "outputId": "79cba418-1796-4d82-d72d-b93db8592678"
      },
      "execution_count": null,
      "outputs": [
        {
          "output_type": "stream",
          "name": "stdout",
          "text": [
            "[[1 1]\n",
            " [1 0]\n",
            " [0 0]\n",
            " [1 1]\n",
            " [1 1]\n",
            " [1 1]\n",
            " [1 1]\n",
            " [1 1]\n",
            " [0 1]\n",
            " [1 1]\n",
            " [1 1]\n",
            " [1 0]\n",
            " [1 1]\n",
            " [0 0]\n",
            " [0 0]\n",
            " [1 1]\n",
            " [1 1]\n",
            " [0 1]\n",
            " [1 1]\n",
            " [1 1]\n",
            " [1 1]\n",
            " [1 1]\n",
            " [1 1]\n",
            " [1 1]\n",
            " [0 1]\n",
            " [1 1]\n",
            " [1 1]\n",
            " [1 1]\n",
            " [1 1]\n",
            " [1 1]\n",
            " [1 1]\n",
            " [0 0]\n",
            " [0 1]\n",
            " [1 1]\n",
            " [1 1]\n",
            " [1 1]\n",
            " [1 1]\n",
            " [1 1]\n",
            " [0 0]\n",
            " [1 1]\n",
            " [1 1]\n",
            " [1 1]\n",
            " [1 1]\n",
            " [1 1]\n",
            " [1 1]\n",
            " [1 1]\n",
            " [1 1]\n",
            " [1 0]\n",
            " [0 1]\n",
            " [1 1]\n",
            " [1 1]\n",
            " [1 1]\n",
            " [0 0]\n",
            " [0 0]\n",
            " [1 1]\n",
            " [1 1]\n",
            " [0 0]\n",
            " [1 1]\n",
            " [1 0]\n",
            " [1 1]\n",
            " [1 1]\n",
            " [1 1]\n",
            " [1 1]\n",
            " [1 1]\n",
            " [1 1]\n",
            " [1 1]\n",
            " [1 1]\n",
            " [1 0]\n",
            " [1 1]\n",
            " [1 1]\n",
            " [1 1]\n",
            " [1 1]\n",
            " [1 1]\n",
            " [0 1]\n",
            " [0 0]\n",
            " [1 1]\n",
            " [0 1]\n",
            " [1 1]]\n"
          ]
        }
      ]
    },
    {
      "cell_type": "markdown",
      "source": [
        "#Making Confusion Matrix"
      ],
      "metadata": {
        "id": "NP2BezaMW9lO"
      }
    },
    {
      "cell_type": "code",
      "source": [
        "from sklearn.metrics import confusion_matrix,accuracy_score\n",
        "cm= confusion_matrix(y_test,y_pred)\n",
        "print(cm)\n",
        "accuracy_score(y_test,y_pred)"
      ],
      "metadata": {
        "colab": {
          "base_uri": "https://localhost:8080/"
        },
        "id": "6PcaZeuxVZsp",
        "outputId": "1cb31fac-d973-4246-91e8-c89fcf3c0cd9"
      },
      "execution_count": null,
      "outputs": [
        {
          "output_type": "stream",
          "name": "stdout",
          "text": [
            "[[ 9  5]\n",
            " [ 7 57]]\n"
          ]
        },
        {
          "output_type": "execute_result",
          "data": {
            "text/plain": [
              "0.8461538461538461"
            ]
          },
          "metadata": {},
          "execution_count": 1831
        }
      ]
    },
    {
      "cell_type": "markdown",
      "source": [
        "#KNN model"
      ],
      "metadata": {
        "id": "3jwfk6N3e3GO"
      }
    },
    {
      "cell_type": "code",
      "source": [
        "X"
      ],
      "metadata": {
        "colab": {
          "base_uri": "https://localhost:8080/"
        },
        "id": "tYayKHBWe9iu",
        "outputId": "74db8c7e-cb09-4493-825c-377dde6f18f0"
      },
      "execution_count": null,
      "outputs": [
        {
          "output_type": "execute_result",
          "data": {
            "text/plain": [
              "array([[0.0, 0.0, 1.0, ..., 77.5993, 560001, 1],\n",
              "       [0.0, 0.0, 1.0, ..., 77.5773, 560009, 1],\n",
              "       [0.0, 0.0, 1.0, ..., 77.6593, 560017, 1],\n",
              "       ...,\n",
              "       [0.0, 0.0, 1.0, ..., 77.5533, 560010, 1],\n",
              "       [0.0, 0.0, 1.0, ..., 77.5773, 560009, 1],\n",
              "       [0.0, 0.0, 1.0, ..., 77.5764, 560078, 1]], dtype=object)"
            ]
          },
          "metadata": {},
          "execution_count": 1832
        }
      ]
    },
    {
      "cell_type": "code",
      "source": [
        "y"
      ],
      "metadata": {
        "colab": {
          "base_uri": "https://localhost:8080/"
        },
        "id": "IiX9NFJ1e9f9",
        "outputId": "499b9537-a917-4de7-a2a7-d339626154a7"
      },
      "execution_count": null,
      "outputs": [
        {
          "output_type": "execute_result",
          "data": {
            "text/plain": [
              "array([1, 1, 0, 1, 1, 1, 1, 1, 1, 1, 1, 0, 1, 1, 1, 1, 1, 0, 0, 1, 1, 1,\n",
              "       1, 1, 1, 1, 1, 1, 1, 1, 1, 1, 1, 1, 1, 1, 1, 0, 1, 1, 0, 1, 1, 1,\n",
              "       1, 1, 1, 1, 0, 1, 1, 1, 1, 1, 1, 1, 1, 1, 1, 1, 1, 1, 1, 1, 1, 1,\n",
              "       1, 1, 1, 1, 1, 1, 1, 1, 1, 1, 1, 1, 1, 1, 1, 1, 1, 1, 1, 1, 1, 1,\n",
              "       1, 0, 1, 1, 1, 1, 1, 1, 1, 1, 1, 1, 1, 1, 1, 1, 0, 1, 1, 1, 1, 1,\n",
              "       1, 1, 1, 1, 1, 0, 1, 1, 1, 1, 1, 1, 1, 0, 0, 1, 1, 1, 1, 1, 1, 1,\n",
              "       1, 0, 1, 1, 1, 0, 1, 1, 1, 0, 1, 1, 0, 1, 1, 1, 1, 1, 1, 1, 1, 1,\n",
              "       1, 1, 1, 1, 0, 1, 1, 0, 1, 1, 1, 1, 0, 1, 1, 0, 1, 1, 1, 1, 1, 1,\n",
              "       1, 0, 0, 1, 1, 0, 1, 1, 1, 1, 1, 1, 0, 1, 0, 1, 1, 1, 1, 1, 1, 1,\n",
              "       1, 0, 1, 1, 1, 1, 1, 1, 0, 1, 1, 0, 0, 1, 0, 1, 1, 0, 1, 0, 1, 1,\n",
              "       1, 1, 1, 1, 1, 1, 1, 1, 0, 1, 1, 1, 0, 1, 1, 0, 1, 1, 1, 1, 1, 1,\n",
              "       1, 1, 0, 1, 0, 1, 0, 1, 1, 1, 1, 1, 1, 1, 0, 0, 1, 0, 1, 0, 0, 0,\n",
              "       1, 1, 0, 1, 1, 1, 1, 0, 1, 1, 1, 1, 1, 1, 0, 1, 1, 1, 1, 1, 1, 1,\n",
              "       1, 0, 1, 1, 1, 1, 0, 0, 0, 1, 1, 1, 0, 0, 0, 1, 1, 1, 1, 1, 1, 1,\n",
              "       1, 0, 1, 1, 1, 1, 1, 0, 1, 1, 1, 0, 1, 1, 0, 1, 1, 1, 1, 1, 1, 1,\n",
              "       1, 1, 1, 0, 1, 1, 0, 1, 1, 0, 1, 1, 0, 1, 0, 1, 1, 1, 1, 0, 1, 1,\n",
              "       1, 1, 1, 1, 1, 0, 1, 1, 1, 0, 1, 1, 0, 1, 1, 1, 1, 1, 1, 1, 1, 0,\n",
              "       0, 0, 1, 0, 1, 1, 1, 1, 1, 1, 1, 1, 1, 1])"
            ]
          },
          "metadata": {},
          "execution_count": 1833
        }
      ]
    },
    {
      "cell_type": "markdown",
      "source": [
        "#Splitting Dataset into Training & Testing Set"
      ],
      "metadata": {
        "id": "DJ6841qRkyPc"
      }
    },
    {
      "cell_type": "code",
      "source": [
        "from sklearn.model_selection import train_test_split\n",
        "X_train, X_test, y_train, y_test = train_test_split(X, y, test_size = 0.22, random_state = 0)"
      ],
      "metadata": {
        "id": "bUbflAEJe9dM"
      },
      "execution_count": null,
      "outputs": []
    },
    {
      "cell_type": "code",
      "source": [
        "X_train"
      ],
      "metadata": {
        "colab": {
          "base_uri": "https://localhost:8080/"
        },
        "id": "nAtxcP67e9lp",
        "outputId": "e2689cfd-8567-47a6-dea0-a8452e11478c"
      },
      "execution_count": null,
      "outputs": [
        {
          "output_type": "execute_result",
          "data": {
            "text/plain": [
              "array([[1.0, 0.0, 0.0, ..., 77.6529, 560075, 1],\n",
              "       [0.0, 0.0, 1.0, ..., 77.6044, 560029, 1],\n",
              "       [0.0, 0.0, 1.0, ..., 77.5931, 560092, 0],\n",
              "       ...,\n",
              "       [0.0, 1.0, 0.0, ..., 77.5877, 560006, 0],\n",
              "       [0.0, 0.0, 1.0, ..., 77.5773, 560009, 1],\n",
              "       [0.0, 1.0, 0.0, ..., 77.6804, 560016, 1]], dtype=object)"
            ]
          },
          "metadata": {},
          "execution_count": 1835
        }
      ]
    },
    {
      "cell_type": "code",
      "source": [
        "y_train"
      ],
      "metadata": {
        "colab": {
          "base_uri": "https://localhost:8080/"
        },
        "id": "fYp9FSJRe9n9",
        "outputId": "84e3a0ea-0842-4224-f3ff-6a4486ad84a5"
      },
      "execution_count": null,
      "outputs": [
        {
          "output_type": "execute_result",
          "data": {
            "text/plain": [
              "array([1, 1, 0, 0, 1, 1, 1, 1, 1, 0, 1, 1, 0, 0, 1, 1, 0, 1, 1, 1, 0, 0,\n",
              "       1, 1, 1, 1, 1, 1, 1, 0, 1, 1, 1, 1, 1, 1, 1, 1, 0, 1, 0, 1, 1, 1,\n",
              "       1, 1, 1, 1, 1, 1, 1, 1, 0, 1, 1, 1, 0, 1, 0, 1, 1, 0, 1, 0, 1, 1,\n",
              "       1, 1, 1, 1, 1, 1, 1, 1, 1, 1, 1, 1, 1, 1, 1, 1, 0, 1, 0, 1, 1, 1,\n",
              "       1, 1, 1, 1, 0, 0, 1, 1, 0, 0, 1, 0, 1, 1, 1, 1, 1, 1, 1, 1, 1, 1,\n",
              "       1, 1, 1, 1, 0, 1, 1, 1, 0, 1, 1, 0, 1, 1, 1, 1, 0, 1, 1, 0, 0, 1,\n",
              "       1, 1, 1, 1, 0, 1, 1, 1, 1, 1, 1, 1, 1, 1, 1, 1, 1, 1, 1, 1, 1, 1,\n",
              "       1, 1, 1, 1, 0, 1, 1, 1, 0, 1, 0, 0, 1, 1, 1, 1, 1, 1, 1, 1, 1, 0,\n",
              "       1, 1, 1, 0, 1, 1, 0, 1, 1, 0, 1, 1, 1, 1, 1, 1, 0, 1, 1, 1, 0, 1,\n",
              "       1, 0, 1, 1, 1, 1, 1, 1, 1, 1, 0, 0, 0, 1, 0, 1, 0, 0, 1, 0, 1, 1,\n",
              "       1, 1, 1, 1, 1, 1, 1, 0, 1, 1, 1, 1, 1, 1, 1, 1, 1, 1, 1, 1, 0, 1,\n",
              "       1, 1, 1, 1, 1, 1, 1, 1, 1, 1, 1, 1, 1, 0, 1, 1, 1, 1, 1, 1, 1, 1,\n",
              "       1, 1, 1, 0, 1, 1, 1, 1, 1, 0, 1, 1, 0, 1, 1, 1, 1, 1, 0, 1, 1, 1,\n",
              "       1, 1, 1, 0, 1, 1, 1, 1, 1, 1, 1, 1, 1, 1, 1, 1])"
            ]
          },
          "metadata": {},
          "execution_count": 1836
        }
      ]
    },
    {
      "cell_type": "code",
      "source": [
        "X_test"
      ],
      "metadata": {
        "colab": {
          "base_uri": "https://localhost:8080/"
        },
        "id": "daE42JJze9qv",
        "outputId": "eeecdd46-2383-4195-e623-47a736942b4e"
      },
      "execution_count": null,
      "outputs": [
        {
          "output_type": "execute_result",
          "data": {
            "text/plain": [
              "array([[0.0, 0.0, 1.0, ..., 77.5434, 560085, 1],\n",
              "       [1.0, 0.0, 0.0, ..., 77.5821, 560002, 0],\n",
              "       [0.0, 1.0, 0.0, ..., 77.5741, 560020, 0],\n",
              "       ...,\n",
              "       [0.0, 0.0, 1.0, ..., 77.6407, 560095, 0],\n",
              "       [1.0, 0.0, 0.0, ..., 77.6821, 560036, 1],\n",
              "       [0.0, 0.0, 1.0, ..., 77.5533, 560010, 1]], dtype=object)"
            ]
          },
          "metadata": {},
          "execution_count": 1837
        }
      ]
    },
    {
      "cell_type": "code",
      "source": [
        "y_test"
      ],
      "metadata": {
        "colab": {
          "base_uri": "https://localhost:8080/"
        },
        "id": "3FgDKWxNe9uH",
        "outputId": "ce8bbf27-cbe2-42b7-b568-40aef9ac457b"
      },
      "execution_count": null,
      "outputs": [
        {
          "output_type": "execute_result",
          "data": {
            "text/plain": [
              "array([1, 0, 0, 1, 1, 1, 1, 1, 1, 1, 1, 0, 1, 0, 0, 1, 1, 1, 1, 1, 1, 1,\n",
              "       1, 1, 1, 1, 1, 1, 1, 1, 1, 0, 1, 1, 1, 1, 1, 1, 0, 1, 1, 1, 1, 1,\n",
              "       1, 1, 1, 0, 1, 1, 1, 1, 0, 0, 1, 1, 0, 1, 0, 1, 1, 1, 1, 1, 1, 1,\n",
              "       1, 0, 1, 1, 1, 1, 1, 1, 0, 1, 1, 1, 0, 1, 1, 1, 1, 1, 1, 1])"
            ]
          },
          "metadata": {},
          "execution_count": 1838
        }
      ]
    },
    {
      "cell_type": "markdown",
      "source": [
        "#Feature Scaling"
      ],
      "metadata": {
        "id": "DrXAM8V5kvn9"
      }
    },
    {
      "cell_type": "code",
      "source": [
        "from sklearn.preprocessing import StandardScaler\n",
        "sc = StandardScaler()\n",
        "X_train = sc.fit_transform(X_train)\n",
        "X_test = sc.transform(X_test)"
      ],
      "metadata": {
        "id": "OQSB8nbhfU4C"
      },
      "execution_count": null,
      "outputs": []
    },
    {
      "cell_type": "code",
      "source": [
        "X_train"
      ],
      "metadata": {
        "colab": {
          "base_uri": "https://localhost:8080/"
        },
        "id": "JFyKtupIfU7Y",
        "outputId": "434020de-ea68-4b25-cdd5-bf10a994a4cb"
      },
      "execution_count": null,
      "outputs": [
        {
          "output_type": "execute_result",
          "data": {
            "text/plain": [
              "array([[ 1.61097427, -0.1540416 , -1.52272168, ...,  1.09642984,\n",
              "         1.17781002,  0.53395354],\n",
              "       [-0.62074238, -0.1540416 ,  0.65671883, ...,  0.11930086,\n",
              "        -0.30992746,  0.53395354],\n",
              "       [-0.62074238, -0.1540416 ,  0.65671883, ..., -0.10836011,\n",
              "         1.72762605, -1.87282212],\n",
              "       ...,\n",
              "       [-0.62074238,  6.49175301, -1.52272168, ..., -0.21715386,\n",
              "        -1.0537962 , -1.87282212],\n",
              "       [-0.62074238, -0.1540416 ,  0.65671883, ..., -0.42668254,\n",
              "        -0.95676984,  0.53395354],\n",
              "       [-0.62074238,  6.49175301, -1.52272168, ...,  1.65047204,\n",
              "        -0.73037501,  0.53395354]])"
            ]
          },
          "metadata": {},
          "execution_count": 1840
        }
      ]
    },
    {
      "cell_type": "code",
      "source": [
        "X_test"
      ],
      "metadata": {
        "colab": {
          "base_uri": "https://localhost:8080/"
        },
        "id": "xYxcs2rbfaxm",
        "outputId": "110c243c-b2ba-49fb-eba3-8a334b3fdac5"
      },
      "execution_count": null,
      "outputs": [
        {
          "output_type": "execute_result",
          "data": {
            "text/plain": [
              "array([[-0.62074238, -0.1540416 ,  0.65671883, ..., -1.10966548,\n",
              "         1.50123122,  0.53395354],\n",
              "       [ 1.61097427, -0.1540416 , -1.52272168, ..., -0.329977  ,\n",
              "        -1.18316468, -1.87282212],\n",
              "       [-0.62074238,  6.49175301, -1.52272168, ..., -0.49115291,\n",
              "        -0.60100653, -1.87282212],\n",
              "       ...,\n",
              "       [-0.62074238, -0.1540416 ,  0.65671883, ...,  0.85063657,\n",
              "         1.82465241, -1.87282212],\n",
              "       [ 1.61097427, -0.1540416 , -1.52272168, ...,  1.68472192,\n",
              "        -0.08353263,  0.53395354],\n",
              "       [-0.62074238, -0.1540416 ,  0.65671883, ..., -0.91021028,\n",
              "        -0.92442773,  0.53395354]])"
            ]
          },
          "metadata": {},
          "execution_count": 1841
        }
      ]
    },
    {
      "cell_type": "markdown",
      "source": [
        "#Training KNN model on Training Dataset"
      ],
      "metadata": {
        "id": "RtcZ-YoUkpwk"
      }
    },
    {
      "cell_type": "code",
      "source": [
        "from sklearn.neighbors import KNeighborsClassifier\n",
        "classifier = KNeighborsClassifier(n_neighbors = 13, metric = 'manhattan')\n",
        "classifier.fit(X_train, y_train)"
      ],
      "metadata": {
        "colab": {
          "base_uri": "https://localhost:8080/",
          "height": 74
        },
        "id": "Jq85G9yac78l",
        "outputId": "d33341b1-d36d-45ce-b3bc-3d609bf6adae"
      },
      "execution_count": null,
      "outputs": [
        {
          "output_type": "execute_result",
          "data": {
            "text/plain": [
              "KNeighborsClassifier(metric='manhattan', n_neighbors=13)"
            ],
            "text/html": [
              "<style>#sk-container-id-174 {color: black;}#sk-container-id-174 pre{padding: 0;}#sk-container-id-174 div.sk-toggleable {background-color: white;}#sk-container-id-174 label.sk-toggleable__label {cursor: pointer;display: block;width: 100%;margin-bottom: 0;padding: 0.3em;box-sizing: border-box;text-align: center;}#sk-container-id-174 label.sk-toggleable__label-arrow:before {content: \"▸\";float: left;margin-right: 0.25em;color: #696969;}#sk-container-id-174 label.sk-toggleable__label-arrow:hover:before {color: black;}#sk-container-id-174 div.sk-estimator:hover label.sk-toggleable__label-arrow:before {color: black;}#sk-container-id-174 div.sk-toggleable__content {max-height: 0;max-width: 0;overflow: hidden;text-align: left;background-color: #f0f8ff;}#sk-container-id-174 div.sk-toggleable__content pre {margin: 0.2em;color: black;border-radius: 0.25em;background-color: #f0f8ff;}#sk-container-id-174 input.sk-toggleable__control:checked~div.sk-toggleable__content {max-height: 200px;max-width: 100%;overflow: auto;}#sk-container-id-174 input.sk-toggleable__control:checked~label.sk-toggleable__label-arrow:before {content: \"▾\";}#sk-container-id-174 div.sk-estimator input.sk-toggleable__control:checked~label.sk-toggleable__label {background-color: #d4ebff;}#sk-container-id-174 div.sk-label input.sk-toggleable__control:checked~label.sk-toggleable__label {background-color: #d4ebff;}#sk-container-id-174 input.sk-hidden--visually {border: 0;clip: rect(1px 1px 1px 1px);clip: rect(1px, 1px, 1px, 1px);height: 1px;margin: -1px;overflow: hidden;padding: 0;position: absolute;width: 1px;}#sk-container-id-174 div.sk-estimator {font-family: monospace;background-color: #f0f8ff;border: 1px dotted black;border-radius: 0.25em;box-sizing: border-box;margin-bottom: 0.5em;}#sk-container-id-174 div.sk-estimator:hover {background-color: #d4ebff;}#sk-container-id-174 div.sk-parallel-item::after {content: \"\";width: 100%;border-bottom: 1px solid gray;flex-grow: 1;}#sk-container-id-174 div.sk-label:hover label.sk-toggleable__label {background-color: #d4ebff;}#sk-container-id-174 div.sk-serial::before {content: \"\";position: absolute;border-left: 1px solid gray;box-sizing: border-box;top: 0;bottom: 0;left: 50%;z-index: 0;}#sk-container-id-174 div.sk-serial {display: flex;flex-direction: column;align-items: center;background-color: white;padding-right: 0.2em;padding-left: 0.2em;position: relative;}#sk-container-id-174 div.sk-item {position: relative;z-index: 1;}#sk-container-id-174 div.sk-parallel {display: flex;align-items: stretch;justify-content: center;background-color: white;position: relative;}#sk-container-id-174 div.sk-item::before, #sk-container-id-174 div.sk-parallel-item::before {content: \"\";position: absolute;border-left: 1px solid gray;box-sizing: border-box;top: 0;bottom: 0;left: 50%;z-index: -1;}#sk-container-id-174 div.sk-parallel-item {display: flex;flex-direction: column;z-index: 1;position: relative;background-color: white;}#sk-container-id-174 div.sk-parallel-item:first-child::after {align-self: flex-end;width: 50%;}#sk-container-id-174 div.sk-parallel-item:last-child::after {align-self: flex-start;width: 50%;}#sk-container-id-174 div.sk-parallel-item:only-child::after {width: 0;}#sk-container-id-174 div.sk-dashed-wrapped {border: 1px dashed gray;margin: 0 0.4em 0.5em 0.4em;box-sizing: border-box;padding-bottom: 0.4em;background-color: white;}#sk-container-id-174 div.sk-label label {font-family: monospace;font-weight: bold;display: inline-block;line-height: 1.2em;}#sk-container-id-174 div.sk-label-container {text-align: center;}#sk-container-id-174 div.sk-container {/* jupyter's `normalize.less` sets `[hidden] { display: none; }` but bootstrap.min.css set `[hidden] { display: none !important; }` so we also need the `!important` here to be able to override the default hidden behavior on the sphinx rendered scikit-learn.org. See: https://github.com/scikit-learn/scikit-learn/issues/21755 */display: inline-block !important;position: relative;}#sk-container-id-174 div.sk-text-repr-fallback {display: none;}</style><div id=\"sk-container-id-174\" class=\"sk-top-container\"><div class=\"sk-text-repr-fallback\"><pre>KNeighborsClassifier(metric=&#x27;manhattan&#x27;, n_neighbors=13)</pre><b>In a Jupyter environment, please rerun this cell to show the HTML representation or trust the notebook. <br />On GitHub, the HTML representation is unable to render, please try loading this page with nbviewer.org.</b></div><div class=\"sk-container\" hidden><div class=\"sk-item\"><div class=\"sk-estimator sk-toggleable\"><input class=\"sk-toggleable__control sk-hidden--visually\" id=\"sk-estimator-id-174\" type=\"checkbox\" checked><label for=\"sk-estimator-id-174\" class=\"sk-toggleable__label sk-toggleable__label-arrow\">KNeighborsClassifier</label><div class=\"sk-toggleable__content\"><pre>KNeighborsClassifier(metric=&#x27;manhattan&#x27;, n_neighbors=13)</pre></div></div></div></div></div>"
            ]
          },
          "metadata": {},
          "execution_count": 1842
        }
      ]
    },
    {
      "cell_type": "markdown",
      "source": [
        "#Predicting New Result"
      ],
      "metadata": {
        "id": "H_AU2GyWkkCM"
      }
    },
    {
      "cell_type": "code",
      "source": [
        "print(classifier.predict(sc.transform([[0,0,1,0,0,0,1,0,1,1,0,1,1,1,0,1,0,1,21,0,5,12.9770,\t77.5773,560009]])))"
      ],
      "metadata": {
        "colab": {
          "base_uri": "https://localhost:8080/"
        },
        "outputId": "e1c5716f-b365-4e6d-eb35-12e63a2d609d",
        "id": "-0LyX2HXkkCN"
      },
      "execution_count": null,
      "outputs": [
        {
          "output_type": "stream",
          "name": "stdout",
          "text": [
            "[1]\n"
          ]
        }
      ]
    },
    {
      "cell_type": "code",
      "source": [
        "y_pred= classifier.predict(X_test)\n",
        "print(np.concatenate((y_pred.reshape(len(y_pred),1), y_test.reshape(len(y_test),1)),1))"
      ],
      "metadata": {
        "colab": {
          "base_uri": "https://localhost:8080/"
        },
        "id": "hL6G1GTTd6mF",
        "outputId": "93bbbd3b-2fcf-41aa-e26b-96b6d957b841"
      },
      "execution_count": null,
      "outputs": [
        {
          "output_type": "stream",
          "name": "stdout",
          "text": [
            "[[1 1]\n",
            " [1 0]\n",
            " [1 0]\n",
            " [1 1]\n",
            " [1 1]\n",
            " [1 1]\n",
            " [1 1]\n",
            " [1 1]\n",
            " [1 1]\n",
            " [1 1]\n",
            " [1 1]\n",
            " [1 0]\n",
            " [1 1]\n",
            " [0 0]\n",
            " [0 0]\n",
            " [1 1]\n",
            " [1 1]\n",
            " [1 1]\n",
            " [1 1]\n",
            " [1 1]\n",
            " [1 1]\n",
            " [1 1]\n",
            " [1 1]\n",
            " [1 1]\n",
            " [1 1]\n",
            " [1 1]\n",
            " [1 1]\n",
            " [1 1]\n",
            " [1 1]\n",
            " [1 1]\n",
            " [1 1]\n",
            " [1 0]\n",
            " [1 1]\n",
            " [1 1]\n",
            " [1 1]\n",
            " [1 1]\n",
            " [1 1]\n",
            " [1 1]\n",
            " [1 0]\n",
            " [1 1]\n",
            " [1 1]\n",
            " [1 1]\n",
            " [1 1]\n",
            " [1 1]\n",
            " [1 1]\n",
            " [1 1]\n",
            " [1 1]\n",
            " [1 0]\n",
            " [1 1]\n",
            " [1 1]\n",
            " [1 1]\n",
            " [1 1]\n",
            " [1 0]\n",
            " [0 0]\n",
            " [1 1]\n",
            " [1 1]\n",
            " [1 0]\n",
            " [1 1]\n",
            " [0 0]\n",
            " [1 1]\n",
            " [1 1]\n",
            " [1 1]\n",
            " [1 1]\n",
            " [1 1]\n",
            " [1 1]\n",
            " [1 1]\n",
            " [1 1]\n",
            " [1 0]\n",
            " [1 1]\n",
            " [1 1]\n",
            " [1 1]\n",
            " [1 1]\n",
            " [1 1]\n",
            " [1 1]\n",
            " [1 0]\n",
            " [1 1]\n",
            " [1 1]\n",
            " [1 1]\n",
            " [0 0]\n",
            " [1 1]\n",
            " [1 1]\n",
            " [1 1]\n",
            " [1 1]\n",
            " [1 1]\n",
            " [1 1]\n",
            " [1 1]]\n"
          ]
        }
      ]
    },
    {
      "cell_type": "markdown",
      "source": [
        "#Making Confusion Metrix"
      ],
      "metadata": {
        "id": "BWejojgpw3gm"
      }
    },
    {
      "cell_type": "code",
      "source": [
        "from sklearn.metrics import confusion_matrix, accuracy_score\n",
        "cm = confusion_matrix(y_test, y_pred)\n",
        "print(cm)\n",
        "accuracy_score(y_test, y_pred)"
      ],
      "metadata": {
        "colab": {
          "base_uri": "https://localhost:8080/"
        },
        "id": "UtqmS0Oyd8Kq",
        "outputId": "6de817b4-ff20-4cb8-9493-18de451057e0"
      },
      "execution_count": null,
      "outputs": [
        {
          "output_type": "stream",
          "name": "stdout",
          "text": [
            "[[ 5 10]\n",
            " [ 0 71]]\n"
          ]
        },
        {
          "output_type": "execute_result",
          "data": {
            "text/plain": [
              "0.8837209302325582"
            ]
          },
          "metadata": {},
          "execution_count": 1845
        }
      ]
    },
    {
      "cell_type": "markdown",
      "source": [
        "#SVM Classifier Model"
      ],
      "metadata": {
        "id": "nJbN05P3w--9"
      }
    },
    {
      "cell_type": "code",
      "source": [
        "X"
      ],
      "metadata": {
        "id": "jnaUT4Tdd-oa",
        "colab": {
          "base_uri": "https://localhost:8080/"
        },
        "outputId": "53b34b96-c8ac-4b78-ac5e-42db180a9114"
      },
      "execution_count": null,
      "outputs": [
        {
          "output_type": "execute_result",
          "data": {
            "text/plain": [
              "array([[0.0, 0.0, 1.0, ..., 77.5993, 560001, 1],\n",
              "       [0.0, 0.0, 1.0, ..., 77.5773, 560009, 1],\n",
              "       [0.0, 0.0, 1.0, ..., 77.6593, 560017, 1],\n",
              "       ...,\n",
              "       [0.0, 0.0, 1.0, ..., 77.5533, 560010, 1],\n",
              "       [0.0, 0.0, 1.0, ..., 77.5773, 560009, 1],\n",
              "       [0.0, 0.0, 1.0, ..., 77.5764, 560078, 1]], dtype=object)"
            ]
          },
          "metadata": {},
          "execution_count": 1846
        }
      ]
    },
    {
      "cell_type": "code",
      "source": [
        "y"
      ],
      "metadata": {
        "colab": {
          "base_uri": "https://localhost:8080/"
        },
        "id": "42iPuVgOxD9l",
        "outputId": "89bea82e-afab-4d5e-d073-96208e059a20"
      },
      "execution_count": null,
      "outputs": [
        {
          "output_type": "execute_result",
          "data": {
            "text/plain": [
              "array([1, 1, 0, 1, 1, 1, 1, 1, 1, 1, 1, 0, 1, 1, 1, 1, 1, 0, 0, 1, 1, 1,\n",
              "       1, 1, 1, 1, 1, 1, 1, 1, 1, 1, 1, 1, 1, 1, 1, 0, 1, 1, 0, 1, 1, 1,\n",
              "       1, 1, 1, 1, 0, 1, 1, 1, 1, 1, 1, 1, 1, 1, 1, 1, 1, 1, 1, 1, 1, 1,\n",
              "       1, 1, 1, 1, 1, 1, 1, 1, 1, 1, 1, 1, 1, 1, 1, 1, 1, 1, 1, 1, 1, 1,\n",
              "       1, 0, 1, 1, 1, 1, 1, 1, 1, 1, 1, 1, 1, 1, 1, 1, 0, 1, 1, 1, 1, 1,\n",
              "       1, 1, 1, 1, 1, 0, 1, 1, 1, 1, 1, 1, 1, 0, 0, 1, 1, 1, 1, 1, 1, 1,\n",
              "       1, 0, 1, 1, 1, 0, 1, 1, 1, 0, 1, 1, 0, 1, 1, 1, 1, 1, 1, 1, 1, 1,\n",
              "       1, 1, 1, 1, 0, 1, 1, 0, 1, 1, 1, 1, 0, 1, 1, 0, 1, 1, 1, 1, 1, 1,\n",
              "       1, 0, 0, 1, 1, 0, 1, 1, 1, 1, 1, 1, 0, 1, 0, 1, 1, 1, 1, 1, 1, 1,\n",
              "       1, 0, 1, 1, 1, 1, 1, 1, 0, 1, 1, 0, 0, 1, 0, 1, 1, 0, 1, 0, 1, 1,\n",
              "       1, 1, 1, 1, 1, 1, 1, 1, 0, 1, 1, 1, 0, 1, 1, 0, 1, 1, 1, 1, 1, 1,\n",
              "       1, 1, 0, 1, 0, 1, 0, 1, 1, 1, 1, 1, 1, 1, 0, 0, 1, 0, 1, 0, 0, 0,\n",
              "       1, 1, 0, 1, 1, 1, 1, 0, 1, 1, 1, 1, 1, 1, 0, 1, 1, 1, 1, 1, 1, 1,\n",
              "       1, 0, 1, 1, 1, 1, 0, 0, 0, 1, 1, 1, 0, 0, 0, 1, 1, 1, 1, 1, 1, 1,\n",
              "       1, 0, 1, 1, 1, 1, 1, 0, 1, 1, 1, 0, 1, 1, 0, 1, 1, 1, 1, 1, 1, 1,\n",
              "       1, 1, 1, 0, 1, 1, 0, 1, 1, 0, 1, 1, 0, 1, 0, 1, 1, 1, 1, 0, 1, 1,\n",
              "       1, 1, 1, 1, 1, 0, 1, 1, 1, 0, 1, 1, 0, 1, 1, 1, 1, 1, 1, 1, 1, 0,\n",
              "       0, 0, 1, 0, 1, 1, 1, 1, 1, 1, 1, 1, 1, 1])"
            ]
          },
          "metadata": {},
          "execution_count": 1847
        }
      ]
    },
    {
      "cell_type": "markdown",
      "source": [
        "#Splitting dataset into Train Set and Test Set"
      ],
      "metadata": {
        "id": "8TVIIT0SxHPZ"
      }
    },
    {
      "cell_type": "code",
      "source": [
        "from sklearn.model_selection import train_test_split\n",
        "X_train, X_test, y_train, y_test = train_test_split(X, y, test_size = 0.24, random_state = 0)"
      ],
      "metadata": {
        "id": "hpGZt-1txEv5"
      },
      "execution_count": null,
      "outputs": []
    },
    {
      "cell_type": "code",
      "source": [
        "X_train"
      ],
      "metadata": {
        "colab": {
          "base_uri": "https://localhost:8080/"
        },
        "id": "h7CDTGUgxHhu",
        "outputId": "67fd205a-85ec-4678-81a7-20fe9e343c18"
      },
      "execution_count": null,
      "outputs": [
        {
          "output_type": "execute_result",
          "data": {
            "text/plain": [
              "array([[1.0, 0.0, 0.0, ..., 77.6848, 560103, 1],\n",
              "       [1.0, 0.0, 0.0, ..., 77.54, 560022, 0],\n",
              "       [0.0, 0.0, 1.0, ..., 77.5987, 560051, 1],\n",
              "       ...,\n",
              "       [0.0, 1.0, 0.0, ..., 77.5877, 560006, 0],\n",
              "       [0.0, 0.0, 1.0, ..., 77.5773, 560009, 1],\n",
              "       [0.0, 1.0, 0.0, ..., 77.6804, 560016, 1]], dtype=object)"
            ]
          },
          "metadata": {},
          "execution_count": 1849
        }
      ]
    },
    {
      "cell_type": "code",
      "source": [
        "y_train"
      ],
      "metadata": {
        "colab": {
          "base_uri": "https://localhost:8080/"
        },
        "id": "I2aXYccTxL1c",
        "outputId": "2b8c65d2-4bb7-484f-b3e5-990d84dec808"
      },
      "execution_count": null,
      "outputs": [
        {
          "output_type": "execute_result",
          "data": {
            "text/plain": [
              "array([1, 0, 1, 1, 0, 0, 1, 1, 0, 1, 1, 1, 0, 0, 1, 1, 1, 1, 1, 1, 1, 0,\n",
              "       1, 1, 1, 1, 1, 1, 1, 1, 0, 1, 0, 1, 1, 1, 1, 1, 1, 1, 1, 1, 1, 1,\n",
              "       0, 1, 1, 1, 0, 1, 0, 1, 1, 0, 1, 0, 1, 1, 1, 1, 1, 1, 1, 1, 1, 1,\n",
              "       1, 1, 1, 1, 1, 1, 1, 1, 0, 1, 0, 1, 1, 1, 1, 1, 1, 1, 0, 0, 1, 1,\n",
              "       0, 0, 1, 0, 1, 1, 1, 1, 1, 1, 1, 1, 1, 1, 1, 1, 1, 1, 0, 1, 1, 1,\n",
              "       0, 1, 1, 0, 1, 1, 1, 1, 0, 1, 1, 0, 0, 1, 1, 1, 1, 1, 0, 1, 1, 1,\n",
              "       1, 1, 1, 1, 1, 1, 1, 1, 1, 1, 1, 1, 1, 1, 1, 1, 1, 1, 0, 1, 1, 1,\n",
              "       0, 1, 0, 0, 1, 1, 1, 1, 1, 1, 1, 1, 1, 0, 1, 1, 1, 0, 1, 1, 0, 1,\n",
              "       1, 0, 1, 1, 1, 1, 1, 1, 0, 1, 1, 1, 0, 1, 1, 0, 1, 1, 1, 1, 1, 1,\n",
              "       1, 1, 0, 0, 0, 1, 0, 1, 0, 0, 1, 0, 1, 1, 1, 1, 1, 1, 1, 1, 1, 0,\n",
              "       1, 1, 1, 1, 1, 1, 1, 1, 1, 1, 1, 1, 0, 1, 1, 1, 1, 1, 1, 1, 1, 1,\n",
              "       1, 1, 1, 1, 1, 0, 1, 1, 1, 1, 1, 1, 1, 1, 1, 1, 1, 0, 1, 1, 1, 1,\n",
              "       1, 0, 1, 1, 0, 1, 1, 1, 1, 1, 0, 1, 1, 1, 1, 1, 1, 0, 1, 1, 1, 1,\n",
              "       1, 1, 1, 1, 1, 1, 1, 1])"
            ]
          },
          "metadata": {},
          "execution_count": 1850
        }
      ]
    },
    {
      "cell_type": "code",
      "source": [
        "X_test"
      ],
      "metadata": {
        "colab": {
          "base_uri": "https://localhost:8080/"
        },
        "id": "37SKu806xNuY",
        "outputId": "beb5cbe9-92e3-41e4-dab4-2b1b7e3e0f54"
      },
      "execution_count": null,
      "outputs": [
        {
          "output_type": "execute_result",
          "data": {
            "text/plain": [
              "array([[0.0, 0.0, 1.0, ..., 77.5434, 560085, 1],\n",
              "       [1.0, 0.0, 0.0, ..., 77.5821, 560002, 0],\n",
              "       [0.0, 1.0, 0.0, ..., 77.5741, 560020, 0],\n",
              "       ...,\n",
              "       [0.0, 0.0, 1.0, ..., 77.5773, 560009, 1],\n",
              "       [0.0, 0.0, 1.0, ..., 77.539, 560096, 1],\n",
              "       [0.0, 0.0, 1.0, ..., 77.6407, 560095, 0]], dtype=object)"
            ]
          },
          "metadata": {},
          "execution_count": 1851
        }
      ]
    },
    {
      "cell_type": "code",
      "source": [
        "y_test"
      ],
      "metadata": {
        "colab": {
          "base_uri": "https://localhost:8080/"
        },
        "id": "qQhNUOrGxP1L",
        "outputId": "44918576-8051-4bee-f663-9d009b720700"
      },
      "execution_count": null,
      "outputs": [
        {
          "output_type": "execute_result",
          "data": {
            "text/plain": [
              "array([1, 0, 0, 1, 1, 1, 1, 1, 1, 1, 1, 0, 1, 0, 0, 1, 1, 1, 1, 1, 1, 1,\n",
              "       1, 1, 1, 1, 1, 1, 1, 1, 1, 0, 1, 1, 1, 1, 1, 1, 0, 1, 1, 1, 1, 1,\n",
              "       1, 1, 1, 0, 1, 1, 1, 1, 0, 0, 1, 1, 0, 1, 0, 1, 1, 1, 1, 1, 1, 1,\n",
              "       1, 0, 1, 1, 1, 1, 1, 1, 0, 1, 1, 1, 0, 1, 1, 1, 1, 1, 1, 1, 1, 1,\n",
              "       0, 0, 1, 1, 1, 1])"
            ]
          },
          "metadata": {},
          "execution_count": 1852
        }
      ]
    },
    {
      "cell_type": "markdown",
      "source": [
        "#Feature Scaling"
      ],
      "metadata": {
        "id": "6BYASSnhxUUY"
      }
    },
    {
      "cell_type": "code",
      "source": [
        "from sklearn.preprocessing import StandardScaler\n",
        "sc = StandardScaler()\n",
        "X_train = sc.fit_transform(X_train)\n",
        "X_test = sc.transform(X_test)"
      ],
      "metadata": {
        "id": "wV6c2a37xRyQ"
      },
      "execution_count": null,
      "outputs": []
    },
    {
      "cell_type": "code",
      "source": [
        "X_train"
      ],
      "metadata": {
        "colab": {
          "base_uri": "https://localhost:8080/"
        },
        "id": "G7zsfYq5xUh6",
        "outputId": "a2e57869-356e-4954-e727-d2dba94abb1e"
      },
      "execution_count": null,
      "outputs": [
        {
          "output_type": "execute_result",
          "data": {
            "text/plain": [
              "array([[ 1.62161328e+00, -1.56173762e-01, -1.53000297e+00, ...,\n",
              "         1.72920082e+00,  2.11591318e+00,  5.27504379e-01],\n",
              "       [ 1.62161328e+00, -1.56173762e-01, -1.53000297e+00, ...,\n",
              "        -1.17281025e+00, -5.25816738e-01, -1.89571886e+00],\n",
              "       [-6.16669839e-01, -1.56173762e-01,  6.53593502e-01, ...,\n",
              "         3.62655948e-03,  4.19987800e-01,  5.27504379e-01],\n",
              "       ...,\n",
              "       [-6.16669839e-01,  6.40312424e+00, -1.53000297e+00, ...,\n",
              "        -2.16830083e-01, -1.04763993e+00, -1.89571886e+00],\n",
              "       [-6.16669839e-01, -1.56173762e-01,  6.53593502e-01, ...,\n",
              "        -4.25261817e-01, -9.49798082e-01,  5.27504379e-01],\n",
              "       [-6.16669839e-01,  6.40312424e+00, -1.53000297e+00, ...,\n",
              "         1.64101817e+00, -7.21500435e-01,  5.27504379e-01]])"
            ]
          },
          "metadata": {},
          "execution_count": 1854
        }
      ]
    },
    {
      "cell_type": "code",
      "source": [
        "X_test"
      ],
      "metadata": {
        "colab": {
          "base_uri": "https://localhost:8080/"
        },
        "id": "qbjTW3anxZH3",
        "outputId": "ab889262-cd56-424e-f37e-18a3fe250d09"
      },
      "execution_count": null,
      "outputs": [
        {
          "output_type": "execute_result",
          "data": {
            "text/plain": [
              "array([[-0.61666984, -0.15617376,  0.6535935 , ..., -1.10466911,\n",
              "         1.52886208,  0.52750438],\n",
              "       [ 1.62161328, -0.15617376, -1.53000297, ..., -0.32906256,\n",
              "        -1.17809573, -1.89571886],\n",
              "       [-0.61666984,  6.40312424, -1.53000297, ..., -0.48939466,\n",
              "        -0.59104464, -1.89571886],\n",
              "       ...,\n",
              "       [-0.61666984, -0.15617376,  0.6535935 , ..., -0.42526182,\n",
              "        -0.94979808,  0.52750438],\n",
              "       [-0.61666984, -0.15617376,  0.6535935 , ..., -1.19285176,\n",
              "         1.88761553,  0.52750438],\n",
              "       [-0.61666984, -0.15617376,  0.6535935 , ...,  0.8453701 ,\n",
              "         1.85500158, -1.89571886]])"
            ]
          },
          "metadata": {},
          "execution_count": 1855
        }
      ]
    },
    {
      "cell_type": "markdown",
      "source": [
        "#Training SVM classifier model on training set"
      ],
      "metadata": {
        "id": "dgXzXluFxdJD"
      }
    },
    {
      "cell_type": "code",
      "source": [
        "from sklearn.svm import SVC\n",
        "classifier = SVC(kernel = 'poly', random_state = 0)\n",
        "classifier.fit(X_train, y_train)"
      ],
      "metadata": {
        "colab": {
          "base_uri": "https://localhost:8080/",
          "height": 74
        },
        "id": "gUnbuErTxbU-",
        "outputId": "a18d8297-4163-4164-90a2-facec6b2fd82"
      },
      "execution_count": null,
      "outputs": [
        {
          "output_type": "execute_result",
          "data": {
            "text/plain": [
              "SVC(kernel='poly', random_state=0)"
            ],
            "text/html": [
              "<style>#sk-container-id-175 {color: black;}#sk-container-id-175 pre{padding: 0;}#sk-container-id-175 div.sk-toggleable {background-color: white;}#sk-container-id-175 label.sk-toggleable__label {cursor: pointer;display: block;width: 100%;margin-bottom: 0;padding: 0.3em;box-sizing: border-box;text-align: center;}#sk-container-id-175 label.sk-toggleable__label-arrow:before {content: \"▸\";float: left;margin-right: 0.25em;color: #696969;}#sk-container-id-175 label.sk-toggleable__label-arrow:hover:before {color: black;}#sk-container-id-175 div.sk-estimator:hover label.sk-toggleable__label-arrow:before {color: black;}#sk-container-id-175 div.sk-toggleable__content {max-height: 0;max-width: 0;overflow: hidden;text-align: left;background-color: #f0f8ff;}#sk-container-id-175 div.sk-toggleable__content pre {margin: 0.2em;color: black;border-radius: 0.25em;background-color: #f0f8ff;}#sk-container-id-175 input.sk-toggleable__control:checked~div.sk-toggleable__content {max-height: 200px;max-width: 100%;overflow: auto;}#sk-container-id-175 input.sk-toggleable__control:checked~label.sk-toggleable__label-arrow:before {content: \"▾\";}#sk-container-id-175 div.sk-estimator input.sk-toggleable__control:checked~label.sk-toggleable__label {background-color: #d4ebff;}#sk-container-id-175 div.sk-label input.sk-toggleable__control:checked~label.sk-toggleable__label {background-color: #d4ebff;}#sk-container-id-175 input.sk-hidden--visually {border: 0;clip: rect(1px 1px 1px 1px);clip: rect(1px, 1px, 1px, 1px);height: 1px;margin: -1px;overflow: hidden;padding: 0;position: absolute;width: 1px;}#sk-container-id-175 div.sk-estimator {font-family: monospace;background-color: #f0f8ff;border: 1px dotted black;border-radius: 0.25em;box-sizing: border-box;margin-bottom: 0.5em;}#sk-container-id-175 div.sk-estimator:hover {background-color: #d4ebff;}#sk-container-id-175 div.sk-parallel-item::after {content: \"\";width: 100%;border-bottom: 1px solid gray;flex-grow: 1;}#sk-container-id-175 div.sk-label:hover label.sk-toggleable__label {background-color: #d4ebff;}#sk-container-id-175 div.sk-serial::before {content: \"\";position: absolute;border-left: 1px solid gray;box-sizing: border-box;top: 0;bottom: 0;left: 50%;z-index: 0;}#sk-container-id-175 div.sk-serial {display: flex;flex-direction: column;align-items: center;background-color: white;padding-right: 0.2em;padding-left: 0.2em;position: relative;}#sk-container-id-175 div.sk-item {position: relative;z-index: 1;}#sk-container-id-175 div.sk-parallel {display: flex;align-items: stretch;justify-content: center;background-color: white;position: relative;}#sk-container-id-175 div.sk-item::before, #sk-container-id-175 div.sk-parallel-item::before {content: \"\";position: absolute;border-left: 1px solid gray;box-sizing: border-box;top: 0;bottom: 0;left: 50%;z-index: -1;}#sk-container-id-175 div.sk-parallel-item {display: flex;flex-direction: column;z-index: 1;position: relative;background-color: white;}#sk-container-id-175 div.sk-parallel-item:first-child::after {align-self: flex-end;width: 50%;}#sk-container-id-175 div.sk-parallel-item:last-child::after {align-self: flex-start;width: 50%;}#sk-container-id-175 div.sk-parallel-item:only-child::after {width: 0;}#sk-container-id-175 div.sk-dashed-wrapped {border: 1px dashed gray;margin: 0 0.4em 0.5em 0.4em;box-sizing: border-box;padding-bottom: 0.4em;background-color: white;}#sk-container-id-175 div.sk-label label {font-family: monospace;font-weight: bold;display: inline-block;line-height: 1.2em;}#sk-container-id-175 div.sk-label-container {text-align: center;}#sk-container-id-175 div.sk-container {/* jupyter's `normalize.less` sets `[hidden] { display: none; }` but bootstrap.min.css set `[hidden] { display: none !important; }` so we also need the `!important` here to be able to override the default hidden behavior on the sphinx rendered scikit-learn.org. See: https://github.com/scikit-learn/scikit-learn/issues/21755 */display: inline-block !important;position: relative;}#sk-container-id-175 div.sk-text-repr-fallback {display: none;}</style><div id=\"sk-container-id-175\" class=\"sk-top-container\"><div class=\"sk-text-repr-fallback\"><pre>SVC(kernel=&#x27;poly&#x27;, random_state=0)</pre><b>In a Jupyter environment, please rerun this cell to show the HTML representation or trust the notebook. <br />On GitHub, the HTML representation is unable to render, please try loading this page with nbviewer.org.</b></div><div class=\"sk-container\" hidden><div class=\"sk-item\"><div class=\"sk-estimator sk-toggleable\"><input class=\"sk-toggleable__control sk-hidden--visually\" id=\"sk-estimator-id-175\" type=\"checkbox\" checked><label for=\"sk-estimator-id-175\" class=\"sk-toggleable__label sk-toggleable__label-arrow\">SVC</label><div class=\"sk-toggleable__content\"><pre>SVC(kernel=&#x27;poly&#x27;, random_state=0)</pre></div></div></div></div></div>"
            ]
          },
          "metadata": {},
          "execution_count": 1856
        }
      ]
    },
    {
      "cell_type": "markdown",
      "source": [
        "#Predicting New Result"
      ],
      "metadata": {
        "id": "JRjDOZr4k9Ga"
      }
    },
    {
      "cell_type": "code",
      "source": [
        "print(classifier.predict(sc.transform([[0,0,1,0,0,0,1,0,1,1,0,1,1,1,0,1,0,1,21,0,5,12.9770,\t77.5773,560009]])))"
      ],
      "metadata": {
        "colab": {
          "base_uri": "https://localhost:8080/"
        },
        "outputId": "f1106cd8-947e-4819-ac4e-fc86b13ae53c",
        "id": "fnhVoy1Tk9Go"
      },
      "execution_count": null,
      "outputs": [
        {
          "output_type": "stream",
          "name": "stdout",
          "text": [
            "[1]\n"
          ]
        }
      ]
    },
    {
      "cell_type": "markdown",
      "source": [
        "#Predicting Test set result\n"
      ],
      "metadata": {
        "id": "xbbBUpopxuWf"
      }
    },
    {
      "cell_type": "code",
      "source": [
        "y_pred= classifier.predict(X_test)\n",
        "print(np.concatenate((y_pred.reshape(len(y_pred),1), y_test.reshape(len(y_test),1)),1))"
      ],
      "metadata": {
        "colab": {
          "base_uri": "https://localhost:8080/"
        },
        "id": "MLFj3XrdxdY4",
        "outputId": "0f44678c-863b-4bbb-aff0-63b65d2f3594"
      },
      "execution_count": null,
      "outputs": [
        {
          "output_type": "stream",
          "name": "stdout",
          "text": [
            "[[1 1]\n",
            " [0 0]\n",
            " [0 0]\n",
            " [1 1]\n",
            " [1 1]\n",
            " [1 1]\n",
            " [1 1]\n",
            " [1 1]\n",
            " [1 1]\n",
            " [1 1]\n",
            " [1 1]\n",
            " [1 0]\n",
            " [1 1]\n",
            " [0 0]\n",
            " [0 0]\n",
            " [1 1]\n",
            " [1 1]\n",
            " [1 1]\n",
            " [1 1]\n",
            " [1 1]\n",
            " [1 1]\n",
            " [1 1]\n",
            " [1 1]\n",
            " [1 1]\n",
            " [1 1]\n",
            " [1 1]\n",
            " [1 1]\n",
            " [1 1]\n",
            " [1 1]\n",
            " [1 1]\n",
            " [1 1]\n",
            " [0 0]\n",
            " [1 1]\n",
            " [1 1]\n",
            " [1 1]\n",
            " [1 1]\n",
            " [1 1]\n",
            " [1 1]\n",
            " [0 0]\n",
            " [1 1]\n",
            " [1 1]\n",
            " [1 1]\n",
            " [1 1]\n",
            " [1 1]\n",
            " [1 1]\n",
            " [1 1]\n",
            " [1 1]\n",
            " [1 0]\n",
            " [1 1]\n",
            " [1 1]\n",
            " [1 1]\n",
            " [1 1]\n",
            " [0 0]\n",
            " [0 0]\n",
            " [1 1]\n",
            " [1 1]\n",
            " [1 0]\n",
            " [1 1]\n",
            " [0 0]\n",
            " [1 1]\n",
            " [1 1]\n",
            " [1 1]\n",
            " [1 1]\n",
            " [1 1]\n",
            " [1 1]\n",
            " [1 1]\n",
            " [1 1]\n",
            " [1 0]\n",
            " [1 1]\n",
            " [0 1]\n",
            " [1 1]\n",
            " [1 1]\n",
            " [1 1]\n",
            " [0 1]\n",
            " [1 0]\n",
            " [1 1]\n",
            " [1 1]\n",
            " [1 1]\n",
            " [0 0]\n",
            " [1 1]\n",
            " [1 1]\n",
            " [1 1]\n",
            " [1 1]\n",
            " [1 1]\n",
            " [1 1]\n",
            " [1 1]\n",
            " [1 1]\n",
            " [1 1]\n",
            " [0 0]\n",
            " [0 0]\n",
            " [1 1]\n",
            " [1 1]\n",
            " [1 1]\n",
            " [1 1]]\n"
          ]
        }
      ]
    },
    {
      "cell_type": "markdown",
      "source": [
        "#Making Confusion Metrix"
      ],
      "metadata": {
        "id": "CDlJHWe2x1dr"
      }
    },
    {
      "cell_type": "code",
      "source": [
        "from sklearn.metrics import confusion_matrix, accuracy_score\n",
        "cm = confusion_matrix(y_test, y_pred)\n",
        "print(cm)\n",
        "accuracy_score(y_test, y_pred)"
      ],
      "metadata": {
        "colab": {
          "base_uri": "https://localhost:8080/"
        },
        "id": "DT4fKR2oxukC",
        "outputId": "ce279700-44e4-4761-84cd-307d1990fea4"
      },
      "execution_count": null,
      "outputs": [
        {
          "output_type": "stream",
          "name": "stdout",
          "text": [
            "[[12  5]\n",
            " [ 2 75]]\n"
          ]
        },
        {
          "output_type": "execute_result",
          "data": {
            "text/plain": [
              "0.925531914893617"
            ]
          },
          "metadata": {},
          "execution_count": 1859
        }
      ]
    },
    {
      "cell_type": "markdown",
      "source": [
        "#Naive Bayes"
      ],
      "metadata": {
        "id": "rdv46MOHbcju"
      }
    },
    {
      "cell_type": "code",
      "source": [
        "X"
      ],
      "metadata": {
        "colab": {
          "base_uri": "https://localhost:8080/"
        },
        "outputId": "7d747863-f02d-4f0b-abb8-caf1d3050c10",
        "id": "GtqqWNuUbau7"
      },
      "execution_count": null,
      "outputs": [
        {
          "output_type": "execute_result",
          "data": {
            "text/plain": [
              "array([[0.0, 0.0, 1.0, ..., 77.5993, 560001, 1],\n",
              "       [0.0, 0.0, 1.0, ..., 77.5773, 560009, 1],\n",
              "       [0.0, 0.0, 1.0, ..., 77.6593, 560017, 1],\n",
              "       ...,\n",
              "       [0.0, 0.0, 1.0, ..., 77.5533, 560010, 1],\n",
              "       [0.0, 0.0, 1.0, ..., 77.5773, 560009, 1],\n",
              "       [0.0, 0.0, 1.0, ..., 77.5764, 560078, 1]], dtype=object)"
            ]
          },
          "metadata": {},
          "execution_count": 1860
        }
      ]
    },
    {
      "cell_type": "code",
      "source": [
        "y"
      ],
      "metadata": {
        "colab": {
          "base_uri": "https://localhost:8080/"
        },
        "outputId": "7e28e990-b6cd-43ac-905b-835a907b047c",
        "id": "x5GyD4YTbau8"
      },
      "execution_count": null,
      "outputs": [
        {
          "output_type": "execute_result",
          "data": {
            "text/plain": [
              "array([1, 1, 0, 1, 1, 1, 1, 1, 1, 1, 1, 0, 1, 1, 1, 1, 1, 0, 0, 1, 1, 1,\n",
              "       1, 1, 1, 1, 1, 1, 1, 1, 1, 1, 1, 1, 1, 1, 1, 0, 1, 1, 0, 1, 1, 1,\n",
              "       1, 1, 1, 1, 0, 1, 1, 1, 1, 1, 1, 1, 1, 1, 1, 1, 1, 1, 1, 1, 1, 1,\n",
              "       1, 1, 1, 1, 1, 1, 1, 1, 1, 1, 1, 1, 1, 1, 1, 1, 1, 1, 1, 1, 1, 1,\n",
              "       1, 0, 1, 1, 1, 1, 1, 1, 1, 1, 1, 1, 1, 1, 1, 1, 0, 1, 1, 1, 1, 1,\n",
              "       1, 1, 1, 1, 1, 0, 1, 1, 1, 1, 1, 1, 1, 0, 0, 1, 1, 1, 1, 1, 1, 1,\n",
              "       1, 0, 1, 1, 1, 0, 1, 1, 1, 0, 1, 1, 0, 1, 1, 1, 1, 1, 1, 1, 1, 1,\n",
              "       1, 1, 1, 1, 0, 1, 1, 0, 1, 1, 1, 1, 0, 1, 1, 0, 1, 1, 1, 1, 1, 1,\n",
              "       1, 0, 0, 1, 1, 0, 1, 1, 1, 1, 1, 1, 0, 1, 0, 1, 1, 1, 1, 1, 1, 1,\n",
              "       1, 0, 1, 1, 1, 1, 1, 1, 0, 1, 1, 0, 0, 1, 0, 1, 1, 0, 1, 0, 1, 1,\n",
              "       1, 1, 1, 1, 1, 1, 1, 1, 0, 1, 1, 1, 0, 1, 1, 0, 1, 1, 1, 1, 1, 1,\n",
              "       1, 1, 0, 1, 0, 1, 0, 1, 1, 1, 1, 1, 1, 1, 0, 0, 1, 0, 1, 0, 0, 0,\n",
              "       1, 1, 0, 1, 1, 1, 1, 0, 1, 1, 1, 1, 1, 1, 0, 1, 1, 1, 1, 1, 1, 1,\n",
              "       1, 0, 1, 1, 1, 1, 0, 0, 0, 1, 1, 1, 0, 0, 0, 1, 1, 1, 1, 1, 1, 1,\n",
              "       1, 0, 1, 1, 1, 1, 1, 0, 1, 1, 1, 0, 1, 1, 0, 1, 1, 1, 1, 1, 1, 1,\n",
              "       1, 1, 1, 0, 1, 1, 0, 1, 1, 0, 1, 1, 0, 1, 0, 1, 1, 1, 1, 0, 1, 1,\n",
              "       1, 1, 1, 1, 1, 0, 1, 1, 1, 0, 1, 1, 0, 1, 1, 1, 1, 1, 1, 1, 1, 0,\n",
              "       0, 0, 1, 0, 1, 1, 1, 1, 1, 1, 1, 1, 1, 1])"
            ]
          },
          "metadata": {},
          "execution_count": 1861
        }
      ]
    },
    {
      "cell_type": "markdown",
      "source": [
        "#Splitting dataset into Train Set and Test Set"
      ],
      "metadata": {
        "id": "oIGIL43Xbau9"
      }
    },
    {
      "cell_type": "code",
      "source": [
        "from sklearn.model_selection import train_test_split\n",
        "X_train, X_test, y_train, y_test = train_test_split(X, y, test_size = 0.15, random_state = 0)"
      ],
      "metadata": {
        "id": "LNIX7jIfbau9"
      },
      "execution_count": null,
      "outputs": []
    },
    {
      "cell_type": "code",
      "source": [
        "X_train"
      ],
      "metadata": {
        "colab": {
          "base_uri": "https://localhost:8080/"
        },
        "outputId": "96a4a008-4c80-4aeb-ea21-2dce87df8718",
        "id": "f-vNVcj6bau9"
      },
      "execution_count": null,
      "outputs": [
        {
          "output_type": "execute_result",
          "data": {
            "text/plain": [
              "array([[0.0, 0.0, 1.0, ..., 77.6408, 560038, 1],\n",
              "       [0.0, 0.0, 1.0, ..., 77.5713, 560003, 1],\n",
              "       [0.0, 0.0, 1.0, ..., 77.5635, 560070, 1],\n",
              "       ...,\n",
              "       [0.0, 1.0, 0.0, ..., 77.5877, 560006, 0],\n",
              "       [0.0, 0.0, 1.0, ..., 77.5773, 560009, 1],\n",
              "       [0.0, 1.0, 0.0, ..., 77.6804, 560016, 1]], dtype=object)"
            ]
          },
          "metadata": {},
          "execution_count": 1863
        }
      ]
    },
    {
      "cell_type": "code",
      "source": [
        "y_train"
      ],
      "metadata": {
        "colab": {
          "base_uri": "https://localhost:8080/"
        },
        "outputId": "ebbf8797-b4ba-4aae-d42b-ba8238132d40",
        "id": "UDDIdmodbau9"
      },
      "execution_count": null,
      "outputs": [
        {
          "output_type": "execute_result",
          "data": {
            "text/plain": [
              "array([1, 1, 1, 1, 1, 1, 1, 1, 0, 1, 1, 1, 1, 1, 1, 0, 1, 1, 1, 0, 1, 1,\n",
              "       1, 1, 1, 1, 1, 1, 1, 0, 0, 1, 1, 1, 1, 1, 0, 1, 1, 0, 0, 1, 1, 0,\n",
              "       1, 1, 1, 0, 0, 1, 1, 1, 1, 1, 1, 1, 0, 1, 1, 1, 1, 1, 1, 1, 1, 0,\n",
              "       1, 0, 1, 1, 1, 1, 1, 1, 1, 1, 1, 1, 1, 0, 1, 1, 1, 0, 1, 0, 1, 1,\n",
              "       0, 1, 0, 1, 1, 1, 1, 1, 1, 1, 1, 1, 1, 1, 1, 1, 1, 1, 1, 1, 1, 0,\n",
              "       1, 0, 1, 1, 1, 1, 1, 1, 1, 0, 0, 1, 1, 0, 0, 1, 0, 1, 1, 1, 1, 1,\n",
              "       1, 1, 1, 1, 1, 1, 1, 1, 1, 0, 1, 1, 1, 0, 1, 1, 0, 1, 1, 1, 1, 0,\n",
              "       1, 1, 0, 0, 1, 1, 1, 1, 1, 0, 1, 1, 1, 1, 1, 1, 1, 1, 1, 1, 1, 1,\n",
              "       1, 1, 1, 1, 1, 1, 1, 1, 1, 0, 1, 1, 1, 0, 1, 0, 0, 1, 1, 1, 1, 1,\n",
              "       1, 1, 1, 1, 0, 1, 1, 1, 0, 1, 1, 0, 1, 1, 0, 1, 1, 1, 1, 1, 1, 0,\n",
              "       1, 1, 1, 0, 1, 1, 0, 1, 1, 1, 1, 1, 1, 1, 1, 0, 0, 0, 1, 0, 1, 0,\n",
              "       0, 1, 0, 1, 1, 1, 1, 1, 1, 1, 1, 1, 0, 1, 1, 1, 1, 1, 1, 1, 1, 1,\n",
              "       1, 1, 1, 0, 1, 1, 1, 1, 1, 1, 1, 1, 1, 1, 1, 1, 1, 1, 0, 1, 1, 1,\n",
              "       1, 1, 1, 1, 1, 1, 1, 1, 0, 1, 1, 1, 1, 1, 0, 1, 1, 0, 1, 1, 1, 1,\n",
              "       1, 0, 1, 1, 1, 1, 1, 1, 0, 1, 1, 1, 1, 1, 1, 1, 1, 1, 1, 1, 1])"
            ]
          },
          "metadata": {},
          "execution_count": 1864
        }
      ]
    },
    {
      "cell_type": "code",
      "source": [
        "X_test"
      ],
      "metadata": {
        "colab": {
          "base_uri": "https://localhost:8080/"
        },
        "outputId": "39f2823a-640a-4882-e756-f3b3ff762132",
        "id": "US3jVpz7bau-"
      },
      "execution_count": null,
      "outputs": [
        {
          "output_type": "execute_result",
          "data": {
            "text/plain": [
              "array([[0.0, 0.0, 1.0, ..., 77.5434, 560085, 1],\n",
              "       [1.0, 0.0, 0.0, ..., 77.5821, 560002, 0],\n",
              "       [0.0, 1.0, 0.0, ..., 77.5741, 560020, 0],\n",
              "       ...,\n",
              "       [0.0, 0.0, 1.0, ..., 77.5877, 560006, 0],\n",
              "       [0.0, 0.0, 1.0, ..., 77.6131, 560042, 1],\n",
              "       [1.0, 0.0, 0.0, ..., 77.7582, 560067, 0]], dtype=object)"
            ]
          },
          "metadata": {},
          "execution_count": 1865
        }
      ]
    },
    {
      "cell_type": "code",
      "source": [
        "y_test"
      ],
      "metadata": {
        "colab": {
          "base_uri": "https://localhost:8080/"
        },
        "outputId": "bc566b4b-f471-4689-ae11-b11353e63708",
        "id": "QCf4zbXRbau-"
      },
      "execution_count": null,
      "outputs": [
        {
          "output_type": "execute_result",
          "data": {
            "text/plain": [
              "array([1, 0, 0, 1, 1, 1, 1, 1, 1, 1, 1, 0, 1, 0, 0, 1, 1, 1, 1, 1, 1, 1,\n",
              "       1, 1, 1, 1, 1, 1, 1, 1, 1, 0, 1, 1, 1, 1, 1, 1, 0, 1, 1, 1, 1, 1,\n",
              "       1, 1, 1, 0, 1, 1, 1, 1, 0, 0, 1, 1, 0, 1, 0])"
            ]
          },
          "metadata": {},
          "execution_count": 1866
        }
      ]
    },
    {
      "cell_type": "markdown",
      "source": [
        "#Feature Scaling"
      ],
      "metadata": {
        "id": "4oEq8OAPbau_"
      }
    },
    {
      "cell_type": "code",
      "source": [
        "from sklearn.preprocessing import StandardScaler\n",
        "sc = StandardScaler()\n",
        "X_train = sc.fit_transform(X_train)\n",
        "X_test = sc.transform(X_test)"
      ],
      "metadata": {
        "id": "cvNViJ0lbau_"
      },
      "execution_count": null,
      "outputs": []
    },
    {
      "cell_type": "code",
      "source": [
        "X_train"
      ],
      "metadata": {
        "colab": {
          "base_uri": "https://localhost:8080/"
        },
        "outputId": "17d33fbb-21c2-4ed4-db8b-d0f3c33031b3",
        "id": "GUPtEsypbau_"
      },
      "execution_count": null,
      "outputs": [
        {
          "output_type": "execute_result",
          "data": {
            "text/plain": [
              "array([[-0.63245553, -0.15786741,  0.67032769, ...,  0.82713006,\n",
              "        -0.04162701,  0.53400023],\n",
              "       [-0.63245553, -0.15786741,  0.67032769, ..., -0.55295914,\n",
              "        -1.16419144,  0.53400023],\n",
              "       [-0.63245553, -0.15786741,  0.67032769, ..., -0.70784685,\n",
              "         0.98471761,  0.53400023],\n",
              "       ...,\n",
              "       [-0.63245553,  6.33442973, -1.49180769, ..., -0.2272978 ,\n",
              "        -1.06797163, -1.87265836],\n",
              "       [-0.63245553, -0.15786741,  0.67032769, ..., -0.43381475,\n",
              "        -0.97175182,  0.53400023],\n",
              "       [-0.63245553,  6.33442973, -1.49180769, ...,  1.61348304,\n",
              "        -0.74723894,  0.53400023]])"
            ]
          },
          "metadata": {},
          "execution_count": 1868
        }
      ]
    },
    {
      "cell_type": "code",
      "source": [
        "X_test"
      ],
      "metadata": {
        "colab": {
          "base_uri": "https://localhost:8080/"
        },
        "outputId": "b2814269-8e21-41ef-9602-fc6b24f407a8",
        "id": "VN6FPBbCbau_"
      },
      "execution_count": null,
      "outputs": [
        {
          "output_type": "execute_result",
          "data": {
            "text/plain": [
              "array([[-0.63245553, -0.15786741,  0.67032769, ..., -1.10698056,\n",
              "         1.46581665,  0.53400023],\n",
              "       [ 1.58113883, -0.15786741, -1.49180769, ..., -0.33849923,\n",
              "        -1.19626471, -1.87265836],\n",
              "       [-0.63245553,  6.33442973, -1.49180769, ..., -0.49735842,\n",
              "        -0.61894586, -1.87265836],\n",
              "       ...,\n",
              "       [-0.63245553, -0.15786741,  0.67032769, ..., -0.2272978 ,\n",
              "        -1.06797163, -1.87265836],\n",
              "       [-0.63245553, -0.15786741,  0.67032769, ...,  0.27708012,\n",
              "         0.08666607,  0.53400023],\n",
              "       [ 1.58113883, -0.15786741, -1.49180769, ...,  3.15838864,\n",
              "         0.8884978 , -1.87265836]])"
            ]
          },
          "metadata": {},
          "execution_count": 1869
        }
      ]
    },
    {
      "cell_type": "markdown",
      "source": [
        "#Training Naive Bayes Classification model"
      ],
      "metadata": {
        "id": "u_uZ_XBOkEnu"
      }
    },
    {
      "cell_type": "markdown",
      "source": [
        "##Gaussian NB"
      ],
      "metadata": {
        "id": "RY_Xe8S5lMd3"
      }
    },
    {
      "cell_type": "code",
      "source": [
        "from sklearn.naive_bayes import GaussianNB\n",
        "classifier = GaussianNB()\n",
        "classifier.fit(X_train, y_train)"
      ],
      "metadata": {
        "colab": {
          "base_uri": "https://localhost:8080/",
          "height": 74
        },
        "outputId": "1bdc26a2-0deb-4c2f-a3c1-e8f9b7b4bb45",
        "id": "RQoaHNYckEnu"
      },
      "execution_count": null,
      "outputs": [
        {
          "output_type": "execute_result",
          "data": {
            "text/plain": [
              "GaussianNB()"
            ],
            "text/html": [
              "<style>#sk-container-id-176 {color: black;}#sk-container-id-176 pre{padding: 0;}#sk-container-id-176 div.sk-toggleable {background-color: white;}#sk-container-id-176 label.sk-toggleable__label {cursor: pointer;display: block;width: 100%;margin-bottom: 0;padding: 0.3em;box-sizing: border-box;text-align: center;}#sk-container-id-176 label.sk-toggleable__label-arrow:before {content: \"▸\";float: left;margin-right: 0.25em;color: #696969;}#sk-container-id-176 label.sk-toggleable__label-arrow:hover:before {color: black;}#sk-container-id-176 div.sk-estimator:hover label.sk-toggleable__label-arrow:before {color: black;}#sk-container-id-176 div.sk-toggleable__content {max-height: 0;max-width: 0;overflow: hidden;text-align: left;background-color: #f0f8ff;}#sk-container-id-176 div.sk-toggleable__content pre {margin: 0.2em;color: black;border-radius: 0.25em;background-color: #f0f8ff;}#sk-container-id-176 input.sk-toggleable__control:checked~div.sk-toggleable__content {max-height: 200px;max-width: 100%;overflow: auto;}#sk-container-id-176 input.sk-toggleable__control:checked~label.sk-toggleable__label-arrow:before {content: \"▾\";}#sk-container-id-176 div.sk-estimator input.sk-toggleable__control:checked~label.sk-toggleable__label {background-color: #d4ebff;}#sk-container-id-176 div.sk-label input.sk-toggleable__control:checked~label.sk-toggleable__label {background-color: #d4ebff;}#sk-container-id-176 input.sk-hidden--visually {border: 0;clip: rect(1px 1px 1px 1px);clip: rect(1px, 1px, 1px, 1px);height: 1px;margin: -1px;overflow: hidden;padding: 0;position: absolute;width: 1px;}#sk-container-id-176 div.sk-estimator {font-family: monospace;background-color: #f0f8ff;border: 1px dotted black;border-radius: 0.25em;box-sizing: border-box;margin-bottom: 0.5em;}#sk-container-id-176 div.sk-estimator:hover {background-color: #d4ebff;}#sk-container-id-176 div.sk-parallel-item::after {content: \"\";width: 100%;border-bottom: 1px solid gray;flex-grow: 1;}#sk-container-id-176 div.sk-label:hover label.sk-toggleable__label {background-color: #d4ebff;}#sk-container-id-176 div.sk-serial::before {content: \"\";position: absolute;border-left: 1px solid gray;box-sizing: border-box;top: 0;bottom: 0;left: 50%;z-index: 0;}#sk-container-id-176 div.sk-serial {display: flex;flex-direction: column;align-items: center;background-color: white;padding-right: 0.2em;padding-left: 0.2em;position: relative;}#sk-container-id-176 div.sk-item {position: relative;z-index: 1;}#sk-container-id-176 div.sk-parallel {display: flex;align-items: stretch;justify-content: center;background-color: white;position: relative;}#sk-container-id-176 div.sk-item::before, #sk-container-id-176 div.sk-parallel-item::before {content: \"\";position: absolute;border-left: 1px solid gray;box-sizing: border-box;top: 0;bottom: 0;left: 50%;z-index: -1;}#sk-container-id-176 div.sk-parallel-item {display: flex;flex-direction: column;z-index: 1;position: relative;background-color: white;}#sk-container-id-176 div.sk-parallel-item:first-child::after {align-self: flex-end;width: 50%;}#sk-container-id-176 div.sk-parallel-item:last-child::after {align-self: flex-start;width: 50%;}#sk-container-id-176 div.sk-parallel-item:only-child::after {width: 0;}#sk-container-id-176 div.sk-dashed-wrapped {border: 1px dashed gray;margin: 0 0.4em 0.5em 0.4em;box-sizing: border-box;padding-bottom: 0.4em;background-color: white;}#sk-container-id-176 div.sk-label label {font-family: monospace;font-weight: bold;display: inline-block;line-height: 1.2em;}#sk-container-id-176 div.sk-label-container {text-align: center;}#sk-container-id-176 div.sk-container {/* jupyter's `normalize.less` sets `[hidden] { display: none; }` but bootstrap.min.css set `[hidden] { display: none !important; }` so we also need the `!important` here to be able to override the default hidden behavior on the sphinx rendered scikit-learn.org. See: https://github.com/scikit-learn/scikit-learn/issues/21755 */display: inline-block !important;position: relative;}#sk-container-id-176 div.sk-text-repr-fallback {display: none;}</style><div id=\"sk-container-id-176\" class=\"sk-top-container\"><div class=\"sk-text-repr-fallback\"><pre>GaussianNB()</pre><b>In a Jupyter environment, please rerun this cell to show the HTML representation or trust the notebook. <br />On GitHub, the HTML representation is unable to render, please try loading this page with nbviewer.org.</b></div><div class=\"sk-container\" hidden><div class=\"sk-item\"><div class=\"sk-estimator sk-toggleable\"><input class=\"sk-toggleable__control sk-hidden--visually\" id=\"sk-estimator-id-176\" type=\"checkbox\" checked><label for=\"sk-estimator-id-176\" class=\"sk-toggleable__label sk-toggleable__label-arrow\">GaussianNB</label><div class=\"sk-toggleable__content\"><pre>GaussianNB()</pre></div></div></div></div></div>"
            ]
          },
          "metadata": {},
          "execution_count": 1870
        }
      ]
    },
    {
      "cell_type": "markdown",
      "source": [
        "#Predicting New Result"
      ],
      "metadata": {
        "id": "EmTz033blCCd"
      }
    },
    {
      "cell_type": "code",
      "source": [
        "print(classifier.predict(sc.transform([[0,0,1,0,0,0,1,0,1,1,0,1,1,1,0,1,0,1,21,0,5,12.9770,\t77.5773,560009]])))"
      ],
      "metadata": {
        "colab": {
          "base_uri": "https://localhost:8080/"
        },
        "outputId": "c451ddef-4bb8-4f48-ec95-9184514a651e",
        "id": "jjCgFoLWlCCm"
      },
      "execution_count": null,
      "outputs": [
        {
          "output_type": "stream",
          "name": "stdout",
          "text": [
            "[0]\n"
          ]
        }
      ]
    },
    {
      "cell_type": "markdown",
      "source": [
        "#Predicting Test set result"
      ],
      "metadata": {
        "id": "U9v_dYHHkEnv"
      }
    },
    {
      "cell_type": "code",
      "source": [
        "y_pred= classifier.predict(X_test)\n",
        "print(np.concatenate((y_pred.reshape(len(y_pred),1), y_test.reshape(len(y_test),1)),1))"
      ],
      "metadata": {
        "colab": {
          "base_uri": "https://localhost:8080/"
        },
        "outputId": "4501f4de-7253-4257-d4d1-86446b89c581",
        "id": "bhrZmqbTkEnv"
      },
      "execution_count": null,
      "outputs": [
        {
          "output_type": "stream",
          "name": "stdout",
          "text": [
            "[[0 1]\n",
            " [0 0]\n",
            " [0 0]\n",
            " [0 1]\n",
            " [0 1]\n",
            " [0 1]\n",
            " [0 1]\n",
            " [0 1]\n",
            " [0 1]\n",
            " [0 1]\n",
            " [0 1]\n",
            " [1 0]\n",
            " [0 1]\n",
            " [0 0]\n",
            " [0 0]\n",
            " [0 1]\n",
            " [0 1]\n",
            " [0 1]\n",
            " [1 1]\n",
            " [0 1]\n",
            " [0 1]\n",
            " [0 1]\n",
            " [0 1]\n",
            " [1 1]\n",
            " [0 1]\n",
            " [0 1]\n",
            " [0 1]\n",
            " [0 1]\n",
            " [0 1]\n",
            " [0 1]\n",
            " [0 1]\n",
            " [0 0]\n",
            " [0 1]\n",
            " [0 1]\n",
            " [0 1]\n",
            " [0 1]\n",
            " [0 1]\n",
            " [0 1]\n",
            " [0 0]\n",
            " [0 1]\n",
            " [0 1]\n",
            " [0 1]\n",
            " [0 1]\n",
            " [0 1]\n",
            " [0 1]\n",
            " [0 1]\n",
            " [0 1]\n",
            " [0 0]\n",
            " [0 1]\n",
            " [0 1]\n",
            " [0 1]\n",
            " [0 1]\n",
            " [0 0]\n",
            " [0 0]\n",
            " [0 1]\n",
            " [0 1]\n",
            " [0 0]\n",
            " [0 1]\n",
            " [0 0]]\n"
          ]
        }
      ]
    },
    {
      "cell_type": "markdown",
      "source": [
        "#Making Confusion Metrix"
      ],
      "metadata": {
        "id": "r-S8G_Y1kEnv"
      }
    },
    {
      "cell_type": "code",
      "source": [
        "from sklearn.metrics import confusion_matrix, accuracy_score\n",
        "cm = confusion_matrix(y_test, y_pred)\n",
        "print(cm)\n",
        "accuracy_score(y_test, y_pred)"
      ],
      "metadata": {
        "colab": {
          "base_uri": "https://localhost:8080/"
        },
        "outputId": "b95258cf-cf31-4932-fff6-d0ddac6dfa70",
        "id": "1jmJv2sGkEnv"
      },
      "execution_count": null,
      "outputs": [
        {
          "output_type": "stream",
          "name": "stdout",
          "text": [
            "[[11  1]\n",
            " [45  2]]\n"
          ]
        },
        {
          "output_type": "execute_result",
          "data": {
            "text/plain": [
              "0.22033898305084745"
            ]
          },
          "metadata": {},
          "execution_count": 1873
        }
      ]
    },
    {
      "cell_type": "markdown",
      "source": [
        "#Bernoulli NB"
      ],
      "metadata": {
        "id": "U2ohBdTAfwTV"
      }
    },
    {
      "cell_type": "markdown",
      "source": [
        "#Splitting dataset into Train Set and Test Set"
      ],
      "metadata": {
        "id": "5jMsQUKnfmZR"
      }
    },
    {
      "cell_type": "code",
      "source": [
        "from sklearn.model_selection import train_test_split\n",
        "X_train, X_test, y_train, y_test = train_test_split(X, y, test_size = 0.12, random_state = 0)"
      ],
      "metadata": {
        "id": "4xD4kJnqfmZj"
      },
      "execution_count": null,
      "outputs": []
    },
    {
      "cell_type": "markdown",
      "source": [
        "#Feature Scaling"
      ],
      "metadata": {
        "id": "mN9JAOqpfmZk"
      }
    },
    {
      "cell_type": "code",
      "source": [
        "from sklearn.preprocessing import StandardScaler\n",
        "sc = StandardScaler()\n",
        "X_train = sc.fit_transform(X_train)\n",
        "X_test = sc.transform(X_test)"
      ],
      "metadata": {
        "id": "-_mAmrAWfmZk"
      },
      "execution_count": null,
      "outputs": []
    },
    {
      "cell_type": "markdown",
      "source": [
        "##Training BernoulliNB model"
      ],
      "metadata": {
        "id": "S6uKHUExlbR7"
      }
    },
    {
      "cell_type": "code",
      "source": [
        "from sklearn.naive_bayes import BernoulliNB\n",
        "classifier = BernoulliNB()\n",
        "classifier.fit(X_train, y_train)"
      ],
      "metadata": {
        "colab": {
          "base_uri": "https://localhost:8080/",
          "height": 74
        },
        "outputId": "7e428e69-ee2d-4193-b50f-58ee46021e19",
        "id": "FQWKnfTydrrI"
      },
      "execution_count": null,
      "outputs": [
        {
          "output_type": "execute_result",
          "data": {
            "text/plain": [
              "BernoulliNB()"
            ],
            "text/html": [
              "<style>#sk-container-id-177 {color: black;}#sk-container-id-177 pre{padding: 0;}#sk-container-id-177 div.sk-toggleable {background-color: white;}#sk-container-id-177 label.sk-toggleable__label {cursor: pointer;display: block;width: 100%;margin-bottom: 0;padding: 0.3em;box-sizing: border-box;text-align: center;}#sk-container-id-177 label.sk-toggleable__label-arrow:before {content: \"▸\";float: left;margin-right: 0.25em;color: #696969;}#sk-container-id-177 label.sk-toggleable__label-arrow:hover:before {color: black;}#sk-container-id-177 div.sk-estimator:hover label.sk-toggleable__label-arrow:before {color: black;}#sk-container-id-177 div.sk-toggleable__content {max-height: 0;max-width: 0;overflow: hidden;text-align: left;background-color: #f0f8ff;}#sk-container-id-177 div.sk-toggleable__content pre {margin: 0.2em;color: black;border-radius: 0.25em;background-color: #f0f8ff;}#sk-container-id-177 input.sk-toggleable__control:checked~div.sk-toggleable__content {max-height: 200px;max-width: 100%;overflow: auto;}#sk-container-id-177 input.sk-toggleable__control:checked~label.sk-toggleable__label-arrow:before {content: \"▾\";}#sk-container-id-177 div.sk-estimator input.sk-toggleable__control:checked~label.sk-toggleable__label {background-color: #d4ebff;}#sk-container-id-177 div.sk-label input.sk-toggleable__control:checked~label.sk-toggleable__label {background-color: #d4ebff;}#sk-container-id-177 input.sk-hidden--visually {border: 0;clip: rect(1px 1px 1px 1px);clip: rect(1px, 1px, 1px, 1px);height: 1px;margin: -1px;overflow: hidden;padding: 0;position: absolute;width: 1px;}#sk-container-id-177 div.sk-estimator {font-family: monospace;background-color: #f0f8ff;border: 1px dotted black;border-radius: 0.25em;box-sizing: border-box;margin-bottom: 0.5em;}#sk-container-id-177 div.sk-estimator:hover {background-color: #d4ebff;}#sk-container-id-177 div.sk-parallel-item::after {content: \"\";width: 100%;border-bottom: 1px solid gray;flex-grow: 1;}#sk-container-id-177 div.sk-label:hover label.sk-toggleable__label {background-color: #d4ebff;}#sk-container-id-177 div.sk-serial::before {content: \"\";position: absolute;border-left: 1px solid gray;box-sizing: border-box;top: 0;bottom: 0;left: 50%;z-index: 0;}#sk-container-id-177 div.sk-serial {display: flex;flex-direction: column;align-items: center;background-color: white;padding-right: 0.2em;padding-left: 0.2em;position: relative;}#sk-container-id-177 div.sk-item {position: relative;z-index: 1;}#sk-container-id-177 div.sk-parallel {display: flex;align-items: stretch;justify-content: center;background-color: white;position: relative;}#sk-container-id-177 div.sk-item::before, #sk-container-id-177 div.sk-parallel-item::before {content: \"\";position: absolute;border-left: 1px solid gray;box-sizing: border-box;top: 0;bottom: 0;left: 50%;z-index: -1;}#sk-container-id-177 div.sk-parallel-item {display: flex;flex-direction: column;z-index: 1;position: relative;background-color: white;}#sk-container-id-177 div.sk-parallel-item:first-child::after {align-self: flex-end;width: 50%;}#sk-container-id-177 div.sk-parallel-item:last-child::after {align-self: flex-start;width: 50%;}#sk-container-id-177 div.sk-parallel-item:only-child::after {width: 0;}#sk-container-id-177 div.sk-dashed-wrapped {border: 1px dashed gray;margin: 0 0.4em 0.5em 0.4em;box-sizing: border-box;padding-bottom: 0.4em;background-color: white;}#sk-container-id-177 div.sk-label label {font-family: monospace;font-weight: bold;display: inline-block;line-height: 1.2em;}#sk-container-id-177 div.sk-label-container {text-align: center;}#sk-container-id-177 div.sk-container {/* jupyter's `normalize.less` sets `[hidden] { display: none; }` but bootstrap.min.css set `[hidden] { display: none !important; }` so we also need the `!important` here to be able to override the default hidden behavior on the sphinx rendered scikit-learn.org. See: https://github.com/scikit-learn/scikit-learn/issues/21755 */display: inline-block !important;position: relative;}#sk-container-id-177 div.sk-text-repr-fallback {display: none;}</style><div id=\"sk-container-id-177\" class=\"sk-top-container\"><div class=\"sk-text-repr-fallback\"><pre>BernoulliNB()</pre><b>In a Jupyter environment, please rerun this cell to show the HTML representation or trust the notebook. <br />On GitHub, the HTML representation is unable to render, please try loading this page with nbviewer.org.</b></div><div class=\"sk-container\" hidden><div class=\"sk-item\"><div class=\"sk-estimator sk-toggleable\"><input class=\"sk-toggleable__control sk-hidden--visually\" id=\"sk-estimator-id-177\" type=\"checkbox\" checked><label for=\"sk-estimator-id-177\" class=\"sk-toggleable__label sk-toggleable__label-arrow\">BernoulliNB</label><div class=\"sk-toggleable__content\"><pre>BernoulliNB()</pre></div></div></div></div></div>"
            ]
          },
          "metadata": {},
          "execution_count": 1876
        }
      ]
    },
    {
      "cell_type": "markdown",
      "source": [
        "#Predicting New Result"
      ],
      "metadata": {
        "id": "tCYOIZEtlScV"
      }
    },
    {
      "cell_type": "code",
      "source": [
        "print(classifier.predict(sc.transform([[0,0,1,0,0,0,1,0,1,1,0,1,1,1,0,1,0,1,21,0,5,12.9770,\t77.5773,560009]])))"
      ],
      "metadata": {
        "colab": {
          "base_uri": "https://localhost:8080/"
        },
        "outputId": "af9d5760-ab7b-4ec1-b7f6-3d3ea4e2c619",
        "id": "OPD7_370lScx"
      },
      "execution_count": null,
      "outputs": [
        {
          "output_type": "stream",
          "name": "stdout",
          "text": [
            "[1]\n"
          ]
        }
      ]
    },
    {
      "cell_type": "code",
      "source": [
        "y_pred= classifier.predict(X_test)\n",
        "print(np.concatenate((y_pred.reshape(len(y_pred),1), y_test.reshape(len(y_test),1)),1))"
      ],
      "metadata": {
        "colab": {
          "base_uri": "https://localhost:8080/"
        },
        "id": "T8WxR5bpeFtQ",
        "outputId": "08c337bd-a0ac-4389-984f-57f066eb6bfc"
      },
      "execution_count": null,
      "outputs": [
        {
          "output_type": "stream",
          "name": "stdout",
          "text": [
            "[[1 1]\n",
            " [0 0]\n",
            " [0 0]\n",
            " [1 1]\n",
            " [1 1]\n",
            " [1 1]\n",
            " [1 1]\n",
            " [1 1]\n",
            " [1 1]\n",
            " [1 1]\n",
            " [0 1]\n",
            " [1 0]\n",
            " [1 1]\n",
            " [0 0]\n",
            " [0 0]\n",
            " [1 1]\n",
            " [1 1]\n",
            " [0 1]\n",
            " [0 1]\n",
            " [1 1]\n",
            " [1 1]\n",
            " [1 1]\n",
            " [1 1]\n",
            " [1 1]\n",
            " [1 1]\n",
            " [1 1]\n",
            " [0 1]\n",
            " [1 1]\n",
            " [1 1]\n",
            " [1 1]\n",
            " [1 1]\n",
            " [0 0]\n",
            " [1 1]\n",
            " [1 1]\n",
            " [1 1]\n",
            " [1 1]\n",
            " [1 1]\n",
            " [0 1]\n",
            " [0 0]\n",
            " [1 1]\n",
            " [1 1]\n",
            " [1 1]\n",
            " [1 1]\n",
            " [1 1]\n",
            " [1 1]\n",
            " [1 1]\n",
            " [1 1]]\n"
          ]
        }
      ]
    },
    {
      "cell_type": "code",
      "source": [
        "from sklearn.metrics import confusion_matrix, accuracy_score\n",
        "cm = confusion_matrix(y_test, y_pred)\n",
        "print(cm)\n",
        "accuracy_score(y_test, y_pred)"
      ],
      "metadata": {
        "colab": {
          "base_uri": "https://localhost:8080/"
        },
        "id": "huf3d0nEdwrr",
        "outputId": "394fa26d-a238-4786-b0ee-6360494792e8"
      },
      "execution_count": null,
      "outputs": [
        {
          "output_type": "stream",
          "name": "stdout",
          "text": [
            "[[ 6  1]\n",
            " [ 5 35]]\n"
          ]
        },
        {
          "output_type": "execute_result",
          "data": {
            "text/plain": [
              "0.8723404255319149"
            ]
          },
          "metadata": {},
          "execution_count": 1879
        }
      ]
    },
    {
      "cell_type": "markdown",
      "source": [
        "#Decision Tree Classifier"
      ],
      "metadata": {
        "id": "yY8LbPZbbzKY"
      }
    },
    {
      "cell_type": "code",
      "source": [
        "X"
      ],
      "metadata": {
        "colab": {
          "base_uri": "https://localhost:8080/"
        },
        "outputId": "2bc25484-f7f9-4ac7-c817-a379ee3a0e4e",
        "id": "Rmn3AKEibwjv"
      },
      "execution_count": null,
      "outputs": [
        {
          "output_type": "execute_result",
          "data": {
            "text/plain": [
              "array([[0.0, 0.0, 1.0, ..., 77.5993, 560001, 1],\n",
              "       [0.0, 0.0, 1.0, ..., 77.5773, 560009, 1],\n",
              "       [0.0, 0.0, 1.0, ..., 77.6593, 560017, 1],\n",
              "       ...,\n",
              "       [0.0, 0.0, 1.0, ..., 77.5533, 560010, 1],\n",
              "       [0.0, 0.0, 1.0, ..., 77.5773, 560009, 1],\n",
              "       [0.0, 0.0, 1.0, ..., 77.5764, 560078, 1]], dtype=object)"
            ]
          },
          "metadata": {},
          "execution_count": 1880
        }
      ]
    },
    {
      "cell_type": "code",
      "source": [
        "y"
      ],
      "metadata": {
        "colab": {
          "base_uri": "https://localhost:8080/"
        },
        "outputId": "514e817e-37c4-4da7-ddf6-e1c7a21b1466",
        "id": "TSuW-xzbbwkC"
      },
      "execution_count": null,
      "outputs": [
        {
          "output_type": "execute_result",
          "data": {
            "text/plain": [
              "array([1, 1, 0, 1, 1, 1, 1, 1, 1, 1, 1, 0, 1, 1, 1, 1, 1, 0, 0, 1, 1, 1,\n",
              "       1, 1, 1, 1, 1, 1, 1, 1, 1, 1, 1, 1, 1, 1, 1, 0, 1, 1, 0, 1, 1, 1,\n",
              "       1, 1, 1, 1, 0, 1, 1, 1, 1, 1, 1, 1, 1, 1, 1, 1, 1, 1, 1, 1, 1, 1,\n",
              "       1, 1, 1, 1, 1, 1, 1, 1, 1, 1, 1, 1, 1, 1, 1, 1, 1, 1, 1, 1, 1, 1,\n",
              "       1, 0, 1, 1, 1, 1, 1, 1, 1, 1, 1, 1, 1, 1, 1, 1, 0, 1, 1, 1, 1, 1,\n",
              "       1, 1, 1, 1, 1, 0, 1, 1, 1, 1, 1, 1, 1, 0, 0, 1, 1, 1, 1, 1, 1, 1,\n",
              "       1, 0, 1, 1, 1, 0, 1, 1, 1, 0, 1, 1, 0, 1, 1, 1, 1, 1, 1, 1, 1, 1,\n",
              "       1, 1, 1, 1, 0, 1, 1, 0, 1, 1, 1, 1, 0, 1, 1, 0, 1, 1, 1, 1, 1, 1,\n",
              "       1, 0, 0, 1, 1, 0, 1, 1, 1, 1, 1, 1, 0, 1, 0, 1, 1, 1, 1, 1, 1, 1,\n",
              "       1, 0, 1, 1, 1, 1, 1, 1, 0, 1, 1, 0, 0, 1, 0, 1, 1, 0, 1, 0, 1, 1,\n",
              "       1, 1, 1, 1, 1, 1, 1, 1, 0, 1, 1, 1, 0, 1, 1, 0, 1, 1, 1, 1, 1, 1,\n",
              "       1, 1, 0, 1, 0, 1, 0, 1, 1, 1, 1, 1, 1, 1, 0, 0, 1, 0, 1, 0, 0, 0,\n",
              "       1, 1, 0, 1, 1, 1, 1, 0, 1, 1, 1, 1, 1, 1, 0, 1, 1, 1, 1, 1, 1, 1,\n",
              "       1, 0, 1, 1, 1, 1, 0, 0, 0, 1, 1, 1, 0, 0, 0, 1, 1, 1, 1, 1, 1, 1,\n",
              "       1, 0, 1, 1, 1, 1, 1, 0, 1, 1, 1, 0, 1, 1, 0, 1, 1, 1, 1, 1, 1, 1,\n",
              "       1, 1, 1, 0, 1, 1, 0, 1, 1, 0, 1, 1, 0, 1, 0, 1, 1, 1, 1, 0, 1, 1,\n",
              "       1, 1, 1, 1, 1, 0, 1, 1, 1, 0, 1, 1, 0, 1, 1, 1, 1, 1, 1, 1, 1, 0,\n",
              "       0, 0, 1, 0, 1, 1, 1, 1, 1, 1, 1, 1, 1, 1])"
            ]
          },
          "metadata": {},
          "execution_count": 1881
        }
      ]
    },
    {
      "cell_type": "markdown",
      "source": [
        "#Splitting dataset into Train Set and Test Set"
      ],
      "metadata": {
        "id": "Y3rEIotObwkC"
      }
    },
    {
      "cell_type": "code",
      "source": [
        "from sklearn.model_selection import train_test_split\n",
        "X_train, X_test, y_train, y_test = train_test_split(X, y, test_size = 0.12, random_state = 0)"
      ],
      "metadata": {
        "id": "VZxVOESCbwkC"
      },
      "execution_count": null,
      "outputs": []
    },
    {
      "cell_type": "code",
      "source": [
        "X_train"
      ],
      "metadata": {
        "colab": {
          "base_uri": "https://localhost:8080/"
        },
        "outputId": "f0375769-fa63-442b-9bb8-0378774cbd46",
        "id": "_VGyUwk9bwkD"
      },
      "execution_count": null,
      "outputs": [
        {
          "output_type": "execute_result",
          "data": {
            "text/plain": [
              "array([[0.0, 0.0, 1.0, ..., 77.539, 560096, 1],\n",
              "       [1.0, 0.0, 0.0, ..., 77.6131, 560042, 0],\n",
              "       [0.0, 0.0, 1.0, ..., 77.5773, 560009, 1],\n",
              "       ...,\n",
              "       [0.0, 1.0, 0.0, ..., 77.5877, 560006, 0],\n",
              "       [0.0, 0.0, 1.0, ..., 77.5773, 560009, 1],\n",
              "       [0.0, 1.0, 0.0, ..., 77.6804, 560016, 1]], dtype=object)"
            ]
          },
          "metadata": {},
          "execution_count": 1883
        }
      ]
    },
    {
      "cell_type": "code",
      "source": [
        "y_train"
      ],
      "metadata": {
        "colab": {
          "base_uri": "https://localhost:8080/"
        },
        "outputId": "27227ec6-ec78-4e18-9d62-224b21fd558f",
        "id": "pnq0EkwMbwkD"
      },
      "execution_count": null,
      "outputs": [
        {
          "output_type": "execute_result",
          "data": {
            "text/plain": [
              "array([0, 1, 1, 1, 1, 0, 0, 1, 1, 0, 1, 0, 1, 1, 1, 1, 1, 1, 1, 1, 0, 1,\n",
              "       1, 1, 1, 1, 1, 0, 1, 1, 1, 0, 1, 1, 1, 1, 1, 1, 1, 1, 1, 0, 0, 1,\n",
              "       1, 1, 1, 1, 0, 1, 1, 0, 0, 1, 1, 0, 1, 1, 1, 0, 0, 1, 1, 1, 1, 1,\n",
              "       1, 1, 0, 1, 1, 1, 1, 1, 1, 1, 1, 0, 1, 0, 1, 1, 1, 1, 1, 1, 1, 1,\n",
              "       1, 1, 1, 0, 1, 1, 1, 0, 1, 0, 1, 1, 0, 1, 0, 1, 1, 1, 1, 1, 1, 1,\n",
              "       1, 1, 1, 1, 1, 1, 1, 1, 1, 1, 1, 0, 1, 0, 1, 1, 1, 1, 1, 1, 1, 0,\n",
              "       0, 1, 1, 0, 0, 1, 0, 1, 1, 1, 1, 1, 1, 1, 1, 1, 1, 1, 1, 1, 1, 0,\n",
              "       1, 1, 1, 0, 1, 1, 0, 1, 1, 1, 1, 0, 1, 1, 0, 0, 1, 1, 1, 1, 1, 0,\n",
              "       1, 1, 1, 1, 1, 1, 1, 1, 1, 1, 1, 1, 1, 1, 1, 1, 1, 1, 1, 1, 1, 0,\n",
              "       1, 1, 1, 0, 1, 0, 0, 1, 1, 1, 1, 1, 1, 1, 1, 1, 0, 1, 1, 1, 0, 1,\n",
              "       1, 0, 1, 1, 0, 1, 1, 1, 1, 1, 1, 0, 1, 1, 1, 0, 1, 1, 0, 1, 1, 1,\n",
              "       1, 1, 1, 1, 1, 0, 0, 0, 1, 0, 1, 0, 0, 1, 0, 1, 1, 1, 1, 1, 1, 1,\n",
              "       1, 1, 0, 1, 1, 1, 1, 1, 1, 1, 1, 1, 1, 1, 1, 0, 1, 1, 1, 1, 1, 1,\n",
              "       1, 1, 1, 1, 1, 1, 1, 1, 0, 1, 1, 1, 1, 1, 1, 1, 1, 1, 1, 1, 0, 1,\n",
              "       1, 1, 1, 1, 0, 1, 1, 0, 1, 1, 1, 1, 1, 0, 1, 1, 1, 1, 1, 1, 0, 1,\n",
              "       1, 1, 1, 1, 1, 1, 1, 1, 1, 1, 1])"
            ]
          },
          "metadata": {},
          "execution_count": 1884
        }
      ]
    },
    {
      "cell_type": "code",
      "source": [
        "X_test"
      ],
      "metadata": {
        "colab": {
          "base_uri": "https://localhost:8080/"
        },
        "outputId": "48b2fa44-1c95-4042-fe2d-56841e0d27ed",
        "id": "K4-DUJbAbwkD"
      },
      "execution_count": null,
      "outputs": [
        {
          "output_type": "execute_result",
          "data": {
            "text/plain": [
              "array([[0.0, 0.0, 1.0, ..., 77.5434, 560085, 1],\n",
              "       [1.0, 0.0, 0.0, ..., 77.5821, 560002, 0],\n",
              "       [0.0, 1.0, 0.0, ..., 77.5741, 560020, 0],\n",
              "       ...,\n",
              "       [0.0, 0.0, 1.0, ..., 77.5585, 560050, 1],\n",
              "       [1.0, 0.0, 0.0, ..., 77.6221, 560034, 1],\n",
              "       [0.0, 0.0, 1.0, ..., 77.5995, 560046, 1]], dtype=object)"
            ]
          },
          "metadata": {},
          "execution_count": 1885
        }
      ]
    },
    {
      "cell_type": "code",
      "source": [
        "y_test"
      ],
      "metadata": {
        "colab": {
          "base_uri": "https://localhost:8080/"
        },
        "outputId": "fe4885ac-5889-409a-b250-3765f7c78be4",
        "id": "mv-6EH31bwkD"
      },
      "execution_count": null,
      "outputs": [
        {
          "output_type": "execute_result",
          "data": {
            "text/plain": [
              "array([1, 0, 0, 1, 1, 1, 1, 1, 1, 1, 1, 0, 1, 0, 0, 1, 1, 1, 1, 1, 1, 1,\n",
              "       1, 1, 1, 1, 1, 1, 1, 1, 1, 0, 1, 1, 1, 1, 1, 1, 0, 1, 1, 1, 1, 1,\n",
              "       1, 1, 1])"
            ]
          },
          "metadata": {},
          "execution_count": 1886
        }
      ]
    },
    {
      "cell_type": "markdown",
      "source": [
        "#Feature Scaling"
      ],
      "metadata": {
        "id": "goMPue7XbwkD"
      }
    },
    {
      "cell_type": "code",
      "source": [
        "from sklearn.preprocessing import StandardScaler\n",
        "sc = StandardScaler()\n",
        "X_train = sc.fit_transform(X_train)\n",
        "X_test = sc.transform(X_test)"
      ],
      "metadata": {
        "id": "myQdeZcabwkD"
      },
      "execution_count": null,
      "outputs": []
    },
    {
      "cell_type": "code",
      "source": [
        "X_train"
      ],
      "metadata": {
        "colab": {
          "base_uri": "https://localhost:8080/"
        },
        "outputId": "7b4e5636-d042-4ead-e364-8bf055d9521b",
        "id": "x1sYWBuebwkD"
      },
      "execution_count": null,
      "outputs": [
        {
          "output_type": "execute_result",
          "data": {
            "text/plain": [
              "array([[-0.6350529 , -0.16464639,  0.67621369, ..., -1.17843123,\n",
              "         1.79847458,  0.5445897 ],\n",
              "       [ 1.57467198, -0.16464639, -1.47882247, ...,  0.27087486,\n",
              "         0.07640548, -1.83624477],\n",
              "       [-0.6350529 , -0.16464639,  0.67621369, ..., -0.42932971,\n",
              "        -0.97597009,  0.5445897 ],\n",
              "       ...,\n",
              "       [-0.6350529 ,  6.07362239, -1.47882247, ..., -0.22591833,\n",
              "        -1.07164059, -1.83624477],\n",
              "       [-0.6350529 , -0.16464639,  0.67621369, ..., -0.42932971,\n",
              "        -0.97597009,  0.5445897 ],\n",
              "       [-0.6350529 ,  6.07362239, -1.47882247, ...,  1.5871812 ,\n",
              "        -0.75273891,  0.5445897 ]])"
            ]
          },
          "metadata": {},
          "execution_count": 1888
        }
      ]
    },
    {
      "cell_type": "code",
      "source": [
        "X_test"
      ],
      "metadata": {
        "colab": {
          "base_uri": "https://localhost:8080/"
        },
        "outputId": "3ea7cc94-267e-4567-efba-476f17ea218d",
        "id": "HEgb4XPMbwkD"
      },
      "execution_count": null,
      "outputs": [
        {
          "output_type": "execute_result",
          "data": {
            "text/plain": [
              "array([[-6.35052896e-01, -1.64646390e-01,  6.76213692e-01, ...,\n",
              "        -1.09237257e+00,  1.44768273e+00,  5.44589705e-01],\n",
              "       [ 1.57467198e+00, -1.64646390e-01, -1.47882247e+00, ...,\n",
              "        -3.35447530e-01, -1.19920127e+00, -1.83624477e+00],\n",
              "       [-6.35052896e-01,  6.07362239e+00, -1.47882247e+00, ...,\n",
              "        -4.91917824e-01, -6.25178233e-01, -1.83624477e+00],\n",
              "       ...,\n",
              "       [-6.35052896e-01, -1.64646390e-01,  6.76213692e-01, ...,\n",
              "        -7.97034895e-01,  3.31526826e-01,  5.44589705e-01],\n",
              "       [ 1.57467198e+00, -1.64646390e-01, -1.47882247e+00, ...,\n",
              "         4.46903936e-01, -1.78715872e-01,  5.44589705e-01],\n",
              "       [-6.35052896e-01, -1.64646390e-01,  6.76213692e-01, ...,\n",
              "         4.87535737e-03,  2.03966152e-01,  5.44589705e-01]])"
            ]
          },
          "metadata": {},
          "execution_count": 1889
        }
      ]
    },
    {
      "cell_type": "markdown",
      "source": [
        "#Training Decision Tree Classification model"
      ],
      "metadata": {
        "id": "0YYmGQSaixx4"
      }
    },
    {
      "cell_type": "code",
      "source": [
        "from sklearn.tree import DecisionTreeClassifier\n",
        "classifier = DecisionTreeClassifier(criterion = 'entropy', random_state = 0)\n",
        "classifier.fit(X_train, y_train)"
      ],
      "metadata": {
        "colab": {
          "base_uri": "https://localhost:8080/",
          "height": 74
        },
        "id": "0e2KRHtJfwWo",
        "outputId": "25e1e88c-87ec-41a0-84c6-9170dfaf6d25"
      },
      "execution_count": null,
      "outputs": [
        {
          "output_type": "execute_result",
          "data": {
            "text/plain": [
              "DecisionTreeClassifier(criterion='entropy', random_state=0)"
            ],
            "text/html": [
              "<style>#sk-container-id-178 {color: black;}#sk-container-id-178 pre{padding: 0;}#sk-container-id-178 div.sk-toggleable {background-color: white;}#sk-container-id-178 label.sk-toggleable__label {cursor: pointer;display: block;width: 100%;margin-bottom: 0;padding: 0.3em;box-sizing: border-box;text-align: center;}#sk-container-id-178 label.sk-toggleable__label-arrow:before {content: \"▸\";float: left;margin-right: 0.25em;color: #696969;}#sk-container-id-178 label.sk-toggleable__label-arrow:hover:before {color: black;}#sk-container-id-178 div.sk-estimator:hover label.sk-toggleable__label-arrow:before {color: black;}#sk-container-id-178 div.sk-toggleable__content {max-height: 0;max-width: 0;overflow: hidden;text-align: left;background-color: #f0f8ff;}#sk-container-id-178 div.sk-toggleable__content pre {margin: 0.2em;color: black;border-radius: 0.25em;background-color: #f0f8ff;}#sk-container-id-178 input.sk-toggleable__control:checked~div.sk-toggleable__content {max-height: 200px;max-width: 100%;overflow: auto;}#sk-container-id-178 input.sk-toggleable__control:checked~label.sk-toggleable__label-arrow:before {content: \"▾\";}#sk-container-id-178 div.sk-estimator input.sk-toggleable__control:checked~label.sk-toggleable__label {background-color: #d4ebff;}#sk-container-id-178 div.sk-label input.sk-toggleable__control:checked~label.sk-toggleable__label {background-color: #d4ebff;}#sk-container-id-178 input.sk-hidden--visually {border: 0;clip: rect(1px 1px 1px 1px);clip: rect(1px, 1px, 1px, 1px);height: 1px;margin: -1px;overflow: hidden;padding: 0;position: absolute;width: 1px;}#sk-container-id-178 div.sk-estimator {font-family: monospace;background-color: #f0f8ff;border: 1px dotted black;border-radius: 0.25em;box-sizing: border-box;margin-bottom: 0.5em;}#sk-container-id-178 div.sk-estimator:hover {background-color: #d4ebff;}#sk-container-id-178 div.sk-parallel-item::after {content: \"\";width: 100%;border-bottom: 1px solid gray;flex-grow: 1;}#sk-container-id-178 div.sk-label:hover label.sk-toggleable__label {background-color: #d4ebff;}#sk-container-id-178 div.sk-serial::before {content: \"\";position: absolute;border-left: 1px solid gray;box-sizing: border-box;top: 0;bottom: 0;left: 50%;z-index: 0;}#sk-container-id-178 div.sk-serial {display: flex;flex-direction: column;align-items: center;background-color: white;padding-right: 0.2em;padding-left: 0.2em;position: relative;}#sk-container-id-178 div.sk-item {position: relative;z-index: 1;}#sk-container-id-178 div.sk-parallel {display: flex;align-items: stretch;justify-content: center;background-color: white;position: relative;}#sk-container-id-178 div.sk-item::before, #sk-container-id-178 div.sk-parallel-item::before {content: \"\";position: absolute;border-left: 1px solid gray;box-sizing: border-box;top: 0;bottom: 0;left: 50%;z-index: -1;}#sk-container-id-178 div.sk-parallel-item {display: flex;flex-direction: column;z-index: 1;position: relative;background-color: white;}#sk-container-id-178 div.sk-parallel-item:first-child::after {align-self: flex-end;width: 50%;}#sk-container-id-178 div.sk-parallel-item:last-child::after {align-self: flex-start;width: 50%;}#sk-container-id-178 div.sk-parallel-item:only-child::after {width: 0;}#sk-container-id-178 div.sk-dashed-wrapped {border: 1px dashed gray;margin: 0 0.4em 0.5em 0.4em;box-sizing: border-box;padding-bottom: 0.4em;background-color: white;}#sk-container-id-178 div.sk-label label {font-family: monospace;font-weight: bold;display: inline-block;line-height: 1.2em;}#sk-container-id-178 div.sk-label-container {text-align: center;}#sk-container-id-178 div.sk-container {/* jupyter's `normalize.less` sets `[hidden] { display: none; }` but bootstrap.min.css set `[hidden] { display: none !important; }` so we also need the `!important` here to be able to override the default hidden behavior on the sphinx rendered scikit-learn.org. See: https://github.com/scikit-learn/scikit-learn/issues/21755 */display: inline-block !important;position: relative;}#sk-container-id-178 div.sk-text-repr-fallback {display: none;}</style><div id=\"sk-container-id-178\" class=\"sk-top-container\"><div class=\"sk-text-repr-fallback\"><pre>DecisionTreeClassifier(criterion=&#x27;entropy&#x27;, random_state=0)</pre><b>In a Jupyter environment, please rerun this cell to show the HTML representation or trust the notebook. <br />On GitHub, the HTML representation is unable to render, please try loading this page with nbviewer.org.</b></div><div class=\"sk-container\" hidden><div class=\"sk-item\"><div class=\"sk-estimator sk-toggleable\"><input class=\"sk-toggleable__control sk-hidden--visually\" id=\"sk-estimator-id-178\" type=\"checkbox\" checked><label for=\"sk-estimator-id-178\" class=\"sk-toggleable__label sk-toggleable__label-arrow\">DecisionTreeClassifier</label><div class=\"sk-toggleable__content\"><pre>DecisionTreeClassifier(criterion=&#x27;entropy&#x27;, random_state=0)</pre></div></div></div></div></div>"
            ]
          },
          "metadata": {},
          "execution_count": 1890
        }
      ]
    },
    {
      "cell_type": "markdown",
      "source": [
        "#Predicting New Result"
      ],
      "metadata": {
        "id": "KwQ6wxmzllPZ"
      }
    },
    {
      "cell_type": "code",
      "source": [
        "print(classifier.predict(sc.transform([[0,0,1,0,0,0,1,0,1,1,0,1,1,1,0,1,0,1,21,0,5,12.9770,\t77.5773,560009]])))"
      ],
      "metadata": {
        "colab": {
          "base_uri": "https://localhost:8080/"
        },
        "outputId": "ab2ab80f-f50e-4126-fecf-ccb567ba23d8",
        "id": "kzmAtRrTllPp"
      },
      "execution_count": null,
      "outputs": [
        {
          "output_type": "stream",
          "name": "stdout",
          "text": [
            "[1]\n"
          ]
        }
      ]
    },
    {
      "cell_type": "markdown",
      "source": [
        "#Predicting Test set result"
      ],
      "metadata": {
        "id": "NJ8oM3mmixx6"
      }
    },
    {
      "cell_type": "code",
      "source": [
        "y_pred= classifier.predict(X_test)\n",
        "print(np.concatenate((y_pred.reshape(len(y_pred),1), y_test.reshape(len(y_test),1)),1))"
      ],
      "metadata": {
        "colab": {
          "base_uri": "https://localhost:8080/"
        },
        "outputId": "6d87646a-cec6-417f-8702-92ab6d9facb3",
        "id": "rTrRLZTAixx6"
      },
      "execution_count": null,
      "outputs": [
        {
          "output_type": "stream",
          "name": "stdout",
          "text": [
            "[[1 1]\n",
            " [1 0]\n",
            " [0 0]\n",
            " [1 1]\n",
            " [0 1]\n",
            " [1 1]\n",
            " [1 1]\n",
            " [0 1]\n",
            " [1 1]\n",
            " [1 1]\n",
            " [0 1]\n",
            " [0 0]\n",
            " [1 1]\n",
            " [0 0]\n",
            " [0 0]\n",
            " [1 1]\n",
            " [1 1]\n",
            " [1 1]\n",
            " [1 1]\n",
            " [1 1]\n",
            " [1 1]\n",
            " [1 1]\n",
            " [1 1]\n",
            " [1 1]\n",
            " [1 1]\n",
            " [1 1]\n",
            " [1 1]\n",
            " [1 1]\n",
            " [1 1]\n",
            " [1 1]\n",
            " [1 1]\n",
            " [0 0]\n",
            " [0 1]\n",
            " [1 1]\n",
            " [1 1]\n",
            " [1 1]\n",
            " [1 1]\n",
            " [1 1]\n",
            " [0 0]\n",
            " [1 1]\n",
            " [1 1]\n",
            " [1 1]\n",
            " [1 1]\n",
            " [1 1]\n",
            " [1 1]\n",
            " [1 1]\n",
            " [1 1]]\n"
          ]
        }
      ]
    },
    {
      "cell_type": "markdown",
      "source": [
        "#Making Confusion Metrix"
      ],
      "metadata": {
        "id": "AHXVSsjIixx6"
      }
    },
    {
      "cell_type": "code",
      "source": [
        "from sklearn.metrics import confusion_matrix, accuracy_score\n",
        "cm = confusion_matrix(y_test, y_pred)\n",
        "print(cm)\n",
        "accuracy_score(y_test, y_pred)"
      ],
      "metadata": {
        "colab": {
          "base_uri": "https://localhost:8080/"
        },
        "outputId": "8178192d-37c4-443a-dc27-fa853ffc66df",
        "id": "Iz7UJUMaixx6"
      },
      "execution_count": null,
      "outputs": [
        {
          "output_type": "stream",
          "name": "stdout",
          "text": [
            "[[ 6  1]\n",
            " [ 4 36]]\n"
          ]
        },
        {
          "output_type": "execute_result",
          "data": {
            "text/plain": [
              "0.8936170212765957"
            ]
          },
          "metadata": {},
          "execution_count": 1893
        }
      ]
    },
    {
      "cell_type": "markdown",
      "source": [
        "#Random Forest Classifier"
      ],
      "metadata": {
        "id": "qrWs-7nVc0JB"
      }
    },
    {
      "cell_type": "code",
      "source": [
        "X"
      ],
      "metadata": {
        "colab": {
          "base_uri": "https://localhost:8080/"
        },
        "outputId": "c10e85b6-00d4-4e98-91c4-73691d4eae67",
        "id": "VbwN74PEc0JP"
      },
      "execution_count": null,
      "outputs": [
        {
          "output_type": "execute_result",
          "data": {
            "text/plain": [
              "array([[0.0, 0.0, 1.0, ..., 77.5993, 560001, 1],\n",
              "       [0.0, 0.0, 1.0, ..., 77.5773, 560009, 1],\n",
              "       [0.0, 0.0, 1.0, ..., 77.6593, 560017, 1],\n",
              "       ...,\n",
              "       [0.0, 0.0, 1.0, ..., 77.5533, 560010, 1],\n",
              "       [0.0, 0.0, 1.0, ..., 77.5773, 560009, 1],\n",
              "       [0.0, 0.0, 1.0, ..., 77.5764, 560078, 1]], dtype=object)"
            ]
          },
          "metadata": {},
          "execution_count": 1894
        }
      ]
    },
    {
      "cell_type": "code",
      "source": [
        "y"
      ],
      "metadata": {
        "colab": {
          "base_uri": "https://localhost:8080/"
        },
        "outputId": "b9cee25c-04d8-4d63-c3aa-ac448c7f8fc5",
        "id": "rfrj6b7Oc0JP"
      },
      "execution_count": null,
      "outputs": [
        {
          "output_type": "execute_result",
          "data": {
            "text/plain": [
              "array([1, 1, 0, 1, 1, 1, 1, 1, 1, 1, 1, 0, 1, 1, 1, 1, 1, 0, 0, 1, 1, 1,\n",
              "       1, 1, 1, 1, 1, 1, 1, 1, 1, 1, 1, 1, 1, 1, 1, 0, 1, 1, 0, 1, 1, 1,\n",
              "       1, 1, 1, 1, 0, 1, 1, 1, 1, 1, 1, 1, 1, 1, 1, 1, 1, 1, 1, 1, 1, 1,\n",
              "       1, 1, 1, 1, 1, 1, 1, 1, 1, 1, 1, 1, 1, 1, 1, 1, 1, 1, 1, 1, 1, 1,\n",
              "       1, 0, 1, 1, 1, 1, 1, 1, 1, 1, 1, 1, 1, 1, 1, 1, 0, 1, 1, 1, 1, 1,\n",
              "       1, 1, 1, 1, 1, 0, 1, 1, 1, 1, 1, 1, 1, 0, 0, 1, 1, 1, 1, 1, 1, 1,\n",
              "       1, 0, 1, 1, 1, 0, 1, 1, 1, 0, 1, 1, 0, 1, 1, 1, 1, 1, 1, 1, 1, 1,\n",
              "       1, 1, 1, 1, 0, 1, 1, 0, 1, 1, 1, 1, 0, 1, 1, 0, 1, 1, 1, 1, 1, 1,\n",
              "       1, 0, 0, 1, 1, 0, 1, 1, 1, 1, 1, 1, 0, 1, 0, 1, 1, 1, 1, 1, 1, 1,\n",
              "       1, 0, 1, 1, 1, 1, 1, 1, 0, 1, 1, 0, 0, 1, 0, 1, 1, 0, 1, 0, 1, 1,\n",
              "       1, 1, 1, 1, 1, 1, 1, 1, 0, 1, 1, 1, 0, 1, 1, 0, 1, 1, 1, 1, 1, 1,\n",
              "       1, 1, 0, 1, 0, 1, 0, 1, 1, 1, 1, 1, 1, 1, 0, 0, 1, 0, 1, 0, 0, 0,\n",
              "       1, 1, 0, 1, 1, 1, 1, 0, 1, 1, 1, 1, 1, 1, 0, 1, 1, 1, 1, 1, 1, 1,\n",
              "       1, 0, 1, 1, 1, 1, 0, 0, 0, 1, 1, 1, 0, 0, 0, 1, 1, 1, 1, 1, 1, 1,\n",
              "       1, 0, 1, 1, 1, 1, 1, 0, 1, 1, 1, 0, 1, 1, 0, 1, 1, 1, 1, 1, 1, 1,\n",
              "       1, 1, 1, 0, 1, 1, 0, 1, 1, 0, 1, 1, 0, 1, 0, 1, 1, 1, 1, 0, 1, 1,\n",
              "       1, 1, 1, 1, 1, 0, 1, 1, 1, 0, 1, 1, 0, 1, 1, 1, 1, 1, 1, 1, 1, 0,\n",
              "       0, 0, 1, 0, 1, 1, 1, 1, 1, 1, 1, 1, 1, 1])"
            ]
          },
          "metadata": {},
          "execution_count": 1895
        }
      ]
    },
    {
      "cell_type": "markdown",
      "source": [
        "#Splitting dataset into Train Set and Test Set"
      ],
      "metadata": {
        "id": "eJF17rDBc0JQ"
      }
    },
    {
      "cell_type": "code",
      "source": [
        "from sklearn.model_selection import train_test_split\n",
        "X_train, X_test, y_train, y_test = train_test_split(X, y, test_size = 0.1, random_state = 0)"
      ],
      "metadata": {
        "id": "mEnBSC0yc0JQ"
      },
      "execution_count": null,
      "outputs": []
    },
    {
      "cell_type": "code",
      "source": [
        "X_train"
      ],
      "metadata": {
        "colab": {
          "base_uri": "https://localhost:8080/"
        },
        "outputId": "8c409305-2992-468b-c569-2ec419f4b82e",
        "id": "MVnXLx4Xc0JQ"
      },
      "execution_count": null,
      "outputs": [
        {
          "output_type": "execute_result",
          "data": {
            "text/plain": [
              "array([[0.0, 0.0, 1.0, ..., 77.5773, 560009, 1],\n",
              "       [0.0, 0.0, 1.0, ..., 77.75, 560066, 1],\n",
              "       [0.0, 0.0, 1.0, ..., 77.5764, 560078, 1],\n",
              "       ...,\n",
              "       [0.0, 1.0, 0.0, ..., 77.5877, 560006, 0],\n",
              "       [0.0, 0.0, 1.0, ..., 77.5773, 560009, 1],\n",
              "       [0.0, 1.0, 0.0, ..., 77.6804, 560016, 1]], dtype=object)"
            ]
          },
          "metadata": {},
          "execution_count": 1897
        }
      ]
    },
    {
      "cell_type": "code",
      "source": [
        "y_train"
      ],
      "metadata": {
        "colab": {
          "base_uri": "https://localhost:8080/"
        },
        "outputId": "bb100fd4-1054-4d1a-fa37-07e6bba0d61c",
        "id": "LQjnQq2Cc0JQ"
      },
      "execution_count": null,
      "outputs": [
        {
          "output_type": "execute_result",
          "data": {
            "text/plain": [
              "array([1, 1, 1, 1, 1, 1, 1, 1, 0, 1, 1, 1, 1, 0, 0, 1, 1, 0, 1, 0, 1, 1,\n",
              "       1, 1, 1, 1, 1, 1, 0, 1, 1, 1, 1, 1, 1, 0, 1, 1, 1, 0, 1, 1, 1, 1,\n",
              "       1, 1, 1, 1, 1, 0, 0, 1, 1, 1, 1, 1, 0, 1, 1, 0, 0, 1, 1, 0, 1, 1,\n",
              "       1, 0, 0, 1, 1, 1, 1, 1, 1, 1, 0, 1, 1, 1, 1, 1, 1, 1, 1, 0, 1, 0,\n",
              "       1, 1, 1, 1, 1, 1, 1, 1, 1, 1, 1, 0, 1, 1, 1, 0, 1, 0, 1, 1, 0, 1,\n",
              "       0, 1, 1, 1, 1, 1, 1, 1, 1, 1, 1, 1, 1, 1, 1, 1, 1, 1, 1, 0, 1, 0,\n",
              "       1, 1, 1, 1, 1, 1, 1, 0, 0, 1, 1, 0, 0, 1, 0, 1, 1, 1, 1, 1, 1, 1,\n",
              "       1, 1, 1, 1, 1, 1, 1, 0, 1, 1, 1, 0, 1, 1, 0, 1, 1, 1, 1, 0, 1, 1,\n",
              "       0, 0, 1, 1, 1, 1, 1, 0, 1, 1, 1, 1, 1, 1, 1, 1, 1, 1, 1, 1, 1, 1,\n",
              "       1, 1, 1, 1, 1, 1, 1, 0, 1, 1, 1, 0, 1, 0, 0, 1, 1, 1, 1, 1, 1, 1,\n",
              "       1, 1, 0, 1, 1, 1, 0, 1, 1, 0, 1, 1, 0, 1, 1, 1, 1, 1, 1, 0, 1, 1,\n",
              "       1, 0, 1, 1, 0, 1, 1, 1, 1, 1, 1, 1, 1, 0, 0, 0, 1, 0, 1, 0, 0, 1,\n",
              "       0, 1, 1, 1, 1, 1, 1, 1, 1, 1, 0, 1, 1, 1, 1, 1, 1, 1, 1, 1, 1, 1,\n",
              "       1, 0, 1, 1, 1, 1, 1, 1, 1, 1, 1, 1, 1, 1, 1, 1, 0, 1, 1, 1, 1, 1,\n",
              "       1, 1, 1, 1, 1, 1, 0, 1, 1, 1, 1, 1, 0, 1, 1, 0, 1, 1, 1, 1, 1, 0,\n",
              "       1, 1, 1, 1, 1, 1, 0, 1, 1, 1, 1, 1, 1, 1, 1, 1, 1, 1, 1])"
            ]
          },
          "metadata": {},
          "execution_count": 1898
        }
      ]
    },
    {
      "cell_type": "code",
      "source": [
        "X_test"
      ],
      "metadata": {
        "colab": {
          "base_uri": "https://localhost:8080/"
        },
        "outputId": "830b35cd-9db1-4d21-bb59-4b264f1687cd",
        "id": "i7nbAZGsc0JR"
      },
      "execution_count": null,
      "outputs": [
        {
          "output_type": "execute_result",
          "data": {
            "text/plain": [
              "array([[0.0, 0.0, 1.0, 0.0, 0.0, 0.0, 1.0, 0.0, 0.0, 0.0, 0.0, 1.0, 0.0,\n",
              "        0.0, 1.0, 0.0, 0.0, 22, 1, 3, 12.9306, 77.5434, 560085, 1],\n",
              "       [1.0, 0.0, 0.0, 0.0, 0.0, 1.0, 0.0, 0.0, 0.0, 0.0, 1.0, 0.0, 0.0,\n",
              "        1.0, 0.0, 0.0, 0.0, 24, 1, 6, 12.9635, 77.5821, 560002, 0],\n",
              "       [0.0, 1.0, 0.0, 1.0, 0.0, 0.0, 0.0, 1.0, 0.0, 0.0, 0.0, 0.0, 1.0,\n",
              "        0.0, 0.0, 0.0, 0.0, 23, 0, 3, 12.9889, 77.5741, 560020, 0],\n",
              "       [0.0, 0.0, 1.0, 1.0, 0.0, 0.0, 0.0, 1.0, 0.0, 0.0, 0.0, 0.0, 1.0,\n",
              "        0.0, 0.0, 0.0, 0.0, 23, 0, 6, 12.9551, 77.6593, 560017, 1],\n",
              "       [0.0, 0.0, 1.0, 0.0, 0.0, 0.0, 1.0, 0.0, 0.0, 0.0, 0.0, 1.0, 1.0,\n",
              "        0.0, 0.0, 0.0, 0.0, 23, 1, 4, 13.0103, 77.5796, 560080, 1],\n",
              "       [0.0, 0.0, 1.0, 0.0, 0.0, 0.0, 1.0, 0.0, 0.0, 0.0, 0.0, 1.0, 1.0,\n",
              "        0.0, 0.0, 0.0, 0.0, 23, 1, 3, 13.0223, 77.7132, 560049, 1],\n",
              "       [1.0, 0.0, 0.0, 1.0, 0.0, 0.0, 0.0, 0.0, 0.0, 0.0, 1.0, 0.0, 0.0,\n",
              "        0.0, 1.0, 0.0, 0.0, 27, 0, 2, 12.9299, 77.6848, 560103, 1],\n",
              "       [0.0, 0.0, 1.0, 0.0, 0.0, 0.0, 1.0, 0.0, 0.0, 0.0, 0.0, 1.0, 1.0,\n",
              "        0.0, 0.0, 0.0, 0.0, 21, 0, 2, 13.0103, 77.5796, 560080, 1],\n",
              "       [0.0, 0.0, 1.0, 0.0, 0.0, 0.0, 1.0, 1.0, 0.0, 0.0, 0.0, 0.0, 0.0,\n",
              "        0.0, 1.0, 0.0, 0.0, 24, 0, 3, 12.9335, 77.5691, 560028, 0],\n",
              "       [0.0, 0.0, 1.0, 0.0, 0.0, 0.0, 1.0, 0.0, 0.0, 0.0, 0.0, 1.0, 1.0,\n",
              "        0.0, 0.0, 0.0, 0.0, 19, 1, 6, 12.9442, 77.6076, 560030, 1],\n",
              "       [1.0, 0.0, 0.0, 1.0, 0.0, 0.0, 0.0, 0.0, 1.0, 0.0, 0.0, 0.0, 1.0,\n",
              "        0.0, 0.0, 0.0, 0.0, 25, 1, 2, 12.998, 77.6227, 560005, 1],\n",
              "       [0.0, 1.0, 0.0, 0.0, 1.0, 0.0, 0.0, 0.0, 0.0, 0.0, 0.0, 1.0, 1.0,\n",
              "        0.0, 0.0, 0.0, 0.0, 32, 0, 5, 12.982, 77.6256, 560008, 1],\n",
              "       [0.0, 0.0, 1.0, 0.0, 0.0, 1.0, 0.0, 0.0, 1.0, 0.0, 0.0, 0.0, 0.0,\n",
              "        0.0, 1.0, 0.0, 0.0, 26, 0, 3, 12.9635, 77.5821, 560002, 1],\n",
              "       [0.0, 1.0, 0.0, 1.0, 0.0, 0.0, 0.0, 0.0, 0.0, 1.0, 0.0, 0.0, 1.0,\n",
              "        0.0, 0.0, 0.0, 0.0, 31, 1, 1, 12.9866, 77.4904, 560091, 0],\n",
              "       [1.0, 0.0, 0.0, 1.0, 0.0, 0.0, 0.0, 0.0, 0.0, 1.0, 0.0, 0.0, 1.0,\n",
              "        0.0, 0.0, 0.0, 0.0, 26, 0, 6, 12.9859, 77.6713, 560093, 0],\n",
              "       [0.0, 0.0, 1.0, 0.0, 0.0, 0.0, 1.0, 0.0, 0.0, 0.0, 0.0, 1.0, 0.0,\n",
              "        0.0, 1.0, 0.0, 0.0, 25, 1, 4, 13.0067, 77.545, 560086, 1],\n",
              "       [0.0, 0.0, 1.0, 0.0, 0.0, 0.0, 1.0, 0.0, 0.0, 0.0, 0.0, 1.0, 0.0,\n",
              "        0.0, 1.0, 0.0, 0.0, 23, 0, 4, 13.0487, 77.5923, 560024, 1],\n",
              "       [1.0, 0.0, 0.0, 0.0, 0.0, 1.0, 0.0, 0.0, 0.0, 0.0, 1.0, 0.0, 0.0,\n",
              "        0.0, 0.0, 1.0, 0.0, 25, 1, 2, 13.0626, 77.5284, 560015, 1],\n",
              "       [1.0, 0.0, 0.0, 0.0, 1.0, 0.0, 0.0, 0.0, 0.0, 0.0, 0.0, 1.0, 0.0,\n",
              "        0.0, 0.0, 1.0, 0.0, 30, 0, 6, 12.9828, 77.6131, 560042, 0],\n",
              "       [0.0, 0.0, 1.0, 0.0, 0.0, 0.0, 1.0, 0.0, 0.0, 0.0, 0.0, 1.0, 0.0,\n",
              "        0.0, 1.0, 0.0, 0.0, 24, 1, 3, 12.977, 77.5773, 560009, 1],\n",
              "       [0.0, 0.0, 1.0, 0.0, 0.0, 0.0, 1.0, 0.0, 0.0, 0.0, 0.0, 1.0, 1.0,\n",
              "        0.0, 0.0, 0.0, 0.0, 24, 1, 2, 12.9561, 77.5921, 560027, 1],\n",
              "       [0.0, 0.0, 1.0, 0.0, 0.0, 0.0, 1.0, 0.0, 0.0, 0.0, 0.0, 1.0, 0.0,\n",
              "        1.0, 0.0, 0.0, 0.0, 25, 0, 3, 12.9048, 77.6821, 560036, 1],\n",
              "       [0.0, 0.0, 1.0, 0.0, 0.0, 1.0, 0.0, 1.0, 0.0, 0.0, 0.0, 0.0, 0.0,\n",
              "        0.0, 1.0, 0.0, 0.0, 28, 1, 2, 12.9149, 77.5635, 560070, 1],\n",
              "       [0.0, 0.0, 1.0, 0.0, 0.0, 0.0, 1.0, 0.0, 0.0, 0.0, 0.0, 1.0, 0.0,\n",
              "        0.0, 1.0, 0.0, 0.0, 26, 1, 4, 12.9048, 77.6821, 560036, 1],\n",
              "       [0.0, 0.0, 1.0, 0.0, 0.0, 1.0, 0.0, 0.0, 0.0, 0.0, 1.0, 0.0, 0.0,\n",
              "        0.0, 0.0, 1.0, 0.0, 25, 1, 3, 12.9859, 77.6713, 560093, 1],\n",
              "       [0.0, 0.0, 1.0, 0.0, 0.0, 0.0, 1.0, 0.0, 0.0, 0.0, 0.0, 1.0, 1.0,\n",
              "        0.0, 0.0, 0.0, 0.0, 20, 0, 2, 12.9337, 77.59, 560011, 1],\n",
              "       [1.0, 0.0, 0.0, 0.0, 0.0, 1.0, 0.0, 0.0, 0.0, 0.0, 1.0, 0.0, 1.0,\n",
              "        0.0, 0.0, 0.0, 0.0, 27, 1, 3, 12.989, 77.5332, 560079, 1],\n",
              "       [0.0, 0.0, 1.0, 1.0, 0.0, 0.0, 0.0, 1.0, 0.0, 0.0, 0.0, 0.0, 1.0,\n",
              "        0.0, 0.0, 0.0, 0.0, 25, 1, 4, 13.0166, 77.6804, 560016, 1],\n",
              "       [0.0, 0.0, 1.0, 1.0, 0.0, 0.0, 0.0, 1.0, 0.0, 0.0, 0.0, 0.0, 0.0,\n",
              "        0.0, 1.0, 0.0, 0.0, 24, 0, 4, 12.9337, 77.59, 560011, 1],\n",
              "       [1.0, 0.0, 0.0, 1.0, 0.0, 0.0, 0.0, 0.0, 1.0, 0.0, 0.0, 0.0, 0.0,\n",
              "        0.0, 1.0, 0.0, 0.0, 28, 1, 5, 13.0262, 77.62, 560045, 1],\n",
              "       [0.0, 0.0, 1.0, 0.0, 0.0, 1.0, 0.0, 0.0, 0.0, 0.0, 1.0, 0.0, 1.0,\n",
              "        0.0, 0.0, 0.0, 0.0, 25, 1, 2, 12.9783, 77.6408, 560038, 1],\n",
              "       [0.0, 0.0, 1.0, 1.0, 0.0, 0.0, 0.0, 0.0, 1.0, 0.0, 0.0, 0.0, 1.0,\n",
              "        0.0, 0.0, 0.0, 0.0, 29, 1, 3, 13.0641, 77.5931, 560092, 0],\n",
              "       [0.0, 0.0, 1.0, 0.0, 0.0, 0.0, 1.0, 0.0, 0.0, 0.0, 0.0, 1.0, 1.0,\n",
              "        0.0, 0.0, 0.0, 0.0, 21, 1, 2, 13.0012, 77.5995, 560046, 0],\n",
              "       [0.0, 0.0, 1.0, 0.0, 0.0, 0.0, 1.0, 0.0, 0.0, 0.0, 0.0, 1.0, 1.0,\n",
              "        0.0, 0.0, 0.0, 0.0, 20, 1, 2, 12.9261, 77.6221, 560034, 1],\n",
              "       [0.0, 0.0, 1.0, 0.0, 0.0, 0.0, 1.0, 0.0, 0.0, 0.0, 0.0, 1.0, 1.0,\n",
              "        0.0, 0.0, 0.0, 0.0, 22, 1, 3, 12.977, 77.5773, 560009, 1],\n",
              "       [0.0, 0.0, 1.0, 0.0, 0.0, 0.0, 1.0, 0.0, 0.0, 1.0, 0.0, 0.0, 1.0,\n",
              "        0.0, 0.0, 0.0, 0.0, 24, 0, 3, 12.977, 77.5773, 560009, 1],\n",
              "       [0.0, 0.0, 1.0, 0.0, 0.0, 0.0, 1.0, 0.0, 0.0, 0.0, 0.0, 1.0, 1.0,\n",
              "        0.0, 0.0, 0.0, 0.0, 20, 1, 2, 12.9261, 77.6221, 560034, 1],\n",
              "       [1.0, 0.0, 0.0, 1.0, 0.0, 0.0, 0.0, 0.0, 1.0, 0.0, 0.0, 0.0, 1.0,\n",
              "        0.0, 0.0, 0.0, 0.0, 28, 1, 3, 12.9369, 77.6407, 560095, 1],\n",
              "       [0.0, 0.0, 1.0, 0.0, 0.0, 1.0, 0.0, 0.0, 1.0, 0.0, 0.0, 0.0, 0.0,\n",
              "        0.0, 1.0, 0.0, 0.0, 24, 0, 3, 13.0103, 77.5796, 560080, 0]],\n",
              "      dtype=object)"
            ]
          },
          "metadata": {},
          "execution_count": 1899
        }
      ]
    },
    {
      "cell_type": "code",
      "source": [
        "y_test"
      ],
      "metadata": {
        "colab": {
          "base_uri": "https://localhost:8080/"
        },
        "outputId": "cbe50aaf-bd31-40cd-ca77-d3d9f5fe1514",
        "id": "NsdN6E9cc0JR"
      },
      "execution_count": null,
      "outputs": [
        {
          "output_type": "execute_result",
          "data": {
            "text/plain": [
              "array([1, 0, 0, 1, 1, 1, 1, 1, 1, 1, 1, 0, 1, 0, 0, 1, 1, 1, 1, 1, 1, 1,\n",
              "       1, 1, 1, 1, 1, 1, 1, 1, 1, 0, 1, 1, 1, 1, 1, 1, 0])"
            ]
          },
          "metadata": {},
          "execution_count": 1900
        }
      ]
    },
    {
      "cell_type": "markdown",
      "source": [
        "#Feature Scaling"
      ],
      "metadata": {
        "id": "xOYe73y2c0JR"
      }
    },
    {
      "cell_type": "code",
      "source": [
        "from sklearn.preprocessing import StandardScaler\n",
        "sc = StandardScaler()\n",
        "X_train = sc.fit_transform(X_train)\n",
        "X_test = sc.transform(X_test)"
      ],
      "metadata": {
        "id": "c8PoJrBwc0JR"
      },
      "execution_count": null,
      "outputs": []
    },
    {
      "cell_type": "code",
      "source": [
        "X_train"
      ],
      "metadata": {
        "colab": {
          "base_uri": "https://localhost:8080/"
        },
        "outputId": "bc2a4e20-019b-4541-b152-ee6ff4768ad1",
        "id": "4MdCsX2wc0JR"
      },
      "execution_count": null,
      "outputs": [
        {
          "output_type": "execute_result",
          "data": {
            "text/plain": [
              "array([[-0.62928531, -0.16269784,  0.6694272 , ..., -0.43305224,\n",
              "        -0.98237692,  0.53649127],\n",
              "       [-0.62928531, -0.16269784,  0.6694272 , ...,  2.91925377,\n",
              "         0.84521347,  0.53649127],\n",
              "       [-0.62928531, -0.16269784,  0.6694272 , ..., -0.45052228,\n",
              "         1.22996935,  0.53649127],\n",
              "       ...,\n",
              "       [-0.62928531,  6.14636297, -1.49381441, ..., -0.23117626,\n",
              "        -1.07856589, -1.86396324],\n",
              "       [-0.62928531, -0.16269784,  0.6694272 , ..., -0.43305224,\n",
              "        -0.98237692,  0.53649127],\n",
              "       [-0.62928531,  6.14636297, -1.49381441, ...,  1.56823757,\n",
              "        -0.757936  ,  0.53649127]])"
            ]
          },
          "metadata": {},
          "execution_count": 1902
        }
      ]
    },
    {
      "cell_type": "code",
      "source": [
        "X_test"
      ],
      "metadata": {
        "colab": {
          "base_uri": "https://localhost:8080/"
        },
        "outputId": "6a63eae3-6811-458f-d633-b9ca546aa3e4",
        "id": "2JKUjy9ac0JS"
      },
      "execution_count": null,
      "outputs": [
        {
          "output_type": "execute_result",
          "data": {
            "text/plain": [
              "array([[-6.29285309e-01, -1.62697843e-01,  6.69427203e-01,\n",
              "        -6.64942674e-01, -1.43065846e-01, -3.89634677e-01,\n",
              "         9.20087412e-01, -3.54692052e-01, -4.69339664e-01,\n",
              "        -2.59380584e-01, -4.37179917e-01,  1.03203137e+00,\n",
              "        -8.93850699e-01, -2.53030414e-01,  1.07439331e+00,\n",
              "        -1.62697843e-01, -7.59189618e-02, -8.84527142e-01,\n",
              "         8.73284755e-01, -2.05881236e-01, -9.16955679e-01,\n",
              "        -1.09109031e+00,  1.45441027e+00,  5.36491266e-01],\n",
              "       [ 1.58910432e+00, -1.62697843e-01, -1.49381441e+00,\n",
              "        -6.64942674e-01, -1.43065846e-01,  2.56650668e+00,\n",
              "        -1.08685326e+00, -3.54692052e-01, -4.69339664e-01,\n",
              "        -2.59380584e-01,  2.28738778e+00, -9.68962790e-01,\n",
              "        -8.93850699e-01,  3.95209408e+00, -9.30757842e-01,\n",
              "        -1.62697843e-01, -7.59189618e-02, -2.11244759e-01,\n",
              "         8.73284755e-01,  2.01636262e+00, -1.82437973e-01,\n",
              "        -3.39878710e-01, -1.20681785e+00, -1.86396324e+00],\n",
              "       [-6.29285309e-01,  6.14636297e+00, -1.49381441e+00,\n",
              "         1.50388904e+00, -1.43065846e-01, -3.89634677e-01,\n",
              "        -1.08685326e+00,  2.81934708e+00, -4.69339664e-01,\n",
              "        -2.59380584e-01, -4.37179917e-01, -9.68962790e-01,\n",
              "         1.11875507e+00, -2.53030414e-01, -9.30757842e-01,\n",
              "        -1.62697843e-01, -7.59189618e-02, -5.47885950e-01,\n",
              "        -1.14510186e+00, -2.05881236e-01,  3.84636487e-01,\n",
              "        -4.95167929e-01, -6.29684038e-01, -1.86396324e+00],\n",
              "       [-6.29285309e-01, -1.62697843e-01,  6.69427203e-01,\n",
              "         1.50388904e+00, -1.43065846e-01, -3.89634677e-01,\n",
              "        -1.08685326e+00,  2.81934708e+00, -4.69339664e-01,\n",
              "        -2.59380584e-01, -4.37179917e-01, -9.68962790e-01,\n",
              "         1.11875507e+00, -2.53030414e-01, -9.30757842e-01,\n",
              "        -1.62697843e-01, -7.59189618e-02, -5.47885950e-01,\n",
              "        -1.14510186e+00,  2.01636262e+00, -3.69974408e-01,\n",
              "         1.15866225e+00, -7.25873006e-01,  5.36491266e-01],\n",
              "       [-6.29285309e-01, -1.62697843e-01,  6.69427203e-01,\n",
              "        -6.64942674e-01, -1.43065846e-01, -3.89634677e-01,\n",
              "         9.20087412e-01, -3.54692052e-01, -4.69339664e-01,\n",
              "        -2.59380584e-01, -4.37179917e-01,  1.03203137e+00,\n",
              "         1.11875507e+00, -2.53030414e-01, -9.30757842e-01,\n",
              "        -1.62697843e-01, -7.59189618e-02, -5.47885950e-01,\n",
              "         8.73284755e-01,  5.34866717e-01,  8.62407883e-01,\n",
              "        -3.88406591e-01,  1.29409533e+00,  5.36491266e-01],\n",
              "       [-6.29285309e-01, -1.62697843e-01,  6.69427203e-01,\n",
              "        -6.64942674e-01, -1.43065846e-01, -3.89634677e-01,\n",
              "         9.20087412e-01, -3.54692052e-01, -4.69339664e-01,\n",
              "        -2.59380584e-01, -4.37179917e-01,  1.03203137e+00,\n",
              "         1.11875507e+00, -2.53030414e-01, -9.30757842e-01,\n",
              "        -1.62697843e-01, -7.59189618e-02, -5.47885950e-01,\n",
              "         8.73284755e-01, -2.05881236e-01,  1.13031708e+00,\n",
              "         2.20492336e+00,  3.00142654e-01,  5.36491266e-01],\n",
              "       [ 1.58910432e+00, -1.62697843e-01, -1.49381441e+00,\n",
              "         1.50388904e+00, -1.43065846e-01, -3.89634677e-01,\n",
              "        -1.08685326e+00, -3.54692052e-01, -4.69339664e-01,\n",
              "        -2.59380584e-01,  2.28738778e+00, -9.68962790e-01,\n",
              "        -8.93850699e-01, -2.53030414e-01,  1.07439331e+00,\n",
              "        -1.62697843e-01, -7.59189618e-02,  7.98678815e-01,\n",
              "        -1.14510186e+00, -9.46629189e-01, -9.32583715e-01,\n",
              "         1.65364664e+00,  2.03154408e+00,  5.36491266e-01],\n",
              "       [-6.29285309e-01, -1.62697843e-01,  6.69427203e-01,\n",
              "        -6.64942674e-01, -1.43065846e-01, -3.89634677e-01,\n",
              "         9.20087412e-01, -3.54692052e-01, -4.69339664e-01,\n",
              "        -2.59380584e-01, -4.37179917e-01,  1.03203137e+00,\n",
              "         1.11875507e+00, -2.53030414e-01, -9.30757842e-01,\n",
              "        -1.62697843e-01, -7.59189618e-02, -1.22116833e+00,\n",
              "        -1.14510186e+00, -9.46629189e-01,  8.62407883e-01,\n",
              "        -3.88406591e-01,  1.29409533e+00,  5.36491266e-01],\n",
              "       [-6.29285309e-01, -1.62697843e-01,  6.69427203e-01,\n",
              "        -6.64942674e-01, -1.43065846e-01, -3.89634677e-01,\n",
              "         9.20087412e-01,  2.81934708e+00, -4.69339664e-01,\n",
              "        -2.59380584e-01, -4.37179917e-01, -9.68962790e-01,\n",
              "        -8.93850699e-01, -2.53030414e-01,  1.07439331e+00,\n",
              "        -1.62697843e-01, -7.59189618e-02, -2.11244759e-01,\n",
              "        -1.14510186e+00, -2.05881236e-01, -8.52210957e-01,\n",
              "        -5.92223690e-01, -3.73180123e-01, -1.86396324e+00],\n",
              "       [-6.29285309e-01, -1.62697843e-01,  6.69427203e-01,\n",
              "        -6.64942674e-01, -1.43065846e-01, -3.89634677e-01,\n",
              "         9.20087412e-01, -3.54692052e-01, -4.69339664e-01,\n",
              "        -2.59380584e-01, -4.37179917e-01,  1.03203137e+00,\n",
              "         1.11875507e+00, -2.53030414e-01, -9.30757842e-01,\n",
              "        -1.62697843e-01, -7.59189618e-02, -1.89445072e+00,\n",
              "         8.73284755e-01,  2.01636262e+00, -6.13325259e-01,\n",
              "         1.55105675e-01, -3.09054144e-01,  5.36491266e-01],\n",
              "       [ 1.58910432e+00, -1.62697843e-01, -1.49381441e+00,\n",
              "         1.50388904e+00, -1.43065846e-01, -3.89634677e-01,\n",
              "        -1.08685326e+00, -3.54692052e-01,  2.13065308e+00,\n",
              "        -2.59380584e-01, -4.37179917e-01, -9.68962790e-01,\n",
              "         1.11875507e+00, -2.53030414e-01, -9.30757842e-01,\n",
              "        -1.62697843e-01, -7.59189618e-02,  1.25396432e-01,\n",
              "         8.73284755e-01, -9.46629189e-01,  5.87800959e-01,\n",
              "         4.48214075e-01, -1.11062888e+00,  5.36491266e-01],\n",
              "       [-6.29285309e-01,  6.14636297e+00, -1.49381441e+00,\n",
              "        -6.64942674e-01,  6.98978847e+00, -3.89634677e-01,\n",
              "        -1.08685326e+00, -3.54692052e-01, -4.69339664e-01,\n",
              "        -2.59380584e-01, -4.37179917e-01,  1.03203137e+00,\n",
              "         1.11875507e+00, -2.53030414e-01, -9.30757842e-01,\n",
              "        -1.62697843e-01, -7.59189618e-02,  2.48188477e+00,\n",
              "        -1.14510186e+00,  1.27561467e+00,  2.30588701e-01,\n",
              "         5.04506417e-01, -1.01443991e+00,  5.36491266e-01],\n",
              "       [-6.29285309e-01, -1.62697843e-01,  6.69427203e-01,\n",
              "        -6.64942674e-01, -1.43065846e-01,  2.56650668e+00,\n",
              "        -1.08685326e+00, -3.54692052e-01,  2.13065308e+00,\n",
              "        -2.59380584e-01, -4.37179917e-01, -9.68962790e-01,\n",
              "        -8.93850699e-01, -2.53030414e-01,  1.07439331e+00,\n",
              "        -1.62697843e-01, -7.59189618e-02,  4.62037624e-01,\n",
              "        -1.14510186e+00, -2.05881236e-01, -1.82437973e-01,\n",
              "        -3.39878710e-01, -1.20681785e+00,  5.36491266e-01],\n",
              "       [-6.29285309e-01,  6.14636297e+00, -1.49381441e+00,\n",
              "         1.50388904e+00, -1.43065846e-01, -3.89634677e-01,\n",
              "        -1.08685326e+00, -3.54692052e-01, -4.69339664e-01,\n",
              "         3.85533868e+00, -4.37179917e-01, -9.68962790e-01,\n",
              "         1.11875507e+00, -2.53030414e-01, -9.30757842e-01,\n",
              "        -1.62697843e-01, -7.59189618e-02,  2.14524358e+00,\n",
              "         8.73284755e-01, -1.68737714e+00,  3.33287225e-01,\n",
              "        -2.11988138e+00,  1.64678821e+00, -1.86396324e+00],\n",
              "       [ 1.58910432e+00, -1.62697843e-01, -1.49381441e+00,\n",
              "         1.50388904e+00, -1.43065846e-01, -3.89634677e-01,\n",
              "        -1.08685326e+00, -3.54692052e-01, -4.69339664e-01,\n",
              "         3.85533868e+00, -4.37179917e-01, -9.68962790e-01,\n",
              "         1.11875507e+00, -2.53030414e-01, -9.30757842e-01,\n",
              "        -1.62697843e-01, -7.59189618e-02,  4.62037624e-01,\n",
              "        -1.14510186e+00,  2.01636262e+00,  3.17659189e-01,\n",
              "         1.39159608e+00,  1.71091419e+00, -1.86396324e+00],\n",
              "       [-6.29285309e-01, -1.62697843e-01,  6.69427203e-01,\n",
              "        -6.64942674e-01, -1.43065846e-01, -3.89634677e-01,\n",
              "         9.20087412e-01, -3.54692052e-01, -4.69339664e-01,\n",
              "        -2.59380584e-01, -4.37179917e-01,  1.03203137e+00,\n",
              "        -8.93850699e-01, -2.53030414e-01,  1.07439331e+00,\n",
              "        -1.62697843e-01, -7.59189618e-02,  1.25396432e-01,\n",
              "         8.73284755e-01,  5.34866717e-01,  7.82035125e-01,\n",
              "        -1.06003246e+00,  1.48647326e+00,  5.36491266e-01],\n",
              "       [-6.29285309e-01, -1.62697843e-01,  6.69427203e-01,\n",
              "        -6.64942674e-01, -1.43065846e-01, -3.89634677e-01,\n",
              "         9.20087412e-01, -3.54692052e-01, -4.69339664e-01,\n",
              "        -2.59380584e-01, -4.37179917e-01,  1.03203137e+00,\n",
              "        -8.93850699e-01, -2.53030414e-01,  1.07439331e+00,\n",
              "        -1.62697843e-01, -7.59189618e-02, -5.47885950e-01,\n",
              "        -1.14510186e+00,  5.34866717e-01,  1.71971730e+00,\n",
              "        -1.41884956e-01, -5.01432080e-01,  5.36491266e-01],\n",
              "       [ 1.58910432e+00, -1.62697843e-01, -1.49381441e+00,\n",
              "        -6.64942674e-01, -1.43065846e-01,  2.56650668e+00,\n",
              "        -1.08685326e+00, -3.54692052e-01, -4.69339664e-01,\n",
              "        -2.59380584e-01,  2.28738778e+00, -9.68962790e-01,\n",
              "        -8.93850699e-01, -2.53030414e-01, -9.30757842e-01,\n",
              "         6.14636297e+00, -7.59189618e-02,  1.25396432e-01,\n",
              "         8.73284755e-01, -9.46629189e-01,  2.03004545e+00,\n",
              "        -1.38225759e+00, -7.89998985e-01,  5.36491266e-01],\n",
              "       [ 1.58910432e+00, -1.62697843e-01, -1.49381441e+00,\n",
              "        -6.64942674e-01,  6.98978847e+00, -3.89634677e-01,\n",
              "        -1.08685326e+00, -3.54692052e-01, -4.69339664e-01,\n",
              "        -2.59380584e-01, -4.37179917e-01,  1.03203137e+00,\n",
              "        -8.93850699e-01, -2.53030414e-01, -9.30757842e-01,\n",
              "         6.14636297e+00, -7.59189618e-02,  1.80860239e+00,\n",
              "        -1.14510186e+00,  2.01636262e+00,  2.48449314e-01,\n",
              "         2.61867013e-01,  7.57017285e-02, -1.86396324e+00],\n",
              "       [-6.29285309e-01, -1.62697843e-01,  6.69427203e-01,\n",
              "        -6.64942674e-01, -1.43065846e-01, -3.89634677e-01,\n",
              "         9.20087412e-01, -3.54692052e-01, -4.69339664e-01,\n",
              "        -2.59380584e-01, -4.37179917e-01,  1.03203137e+00,\n",
              "        -8.93850699e-01, -2.53030414e-01,  1.07439331e+00,\n",
              "        -1.62697843e-01, -7.59189618e-02, -2.11244759e-01,\n",
              "         8.73284755e-01, -2.05881236e-01,  1.18959870e-01,\n",
              "        -4.33052241e-01, -9.82376921e-01,  5.36491266e-01],\n",
              "       [-6.29285309e-01, -1.62697843e-01,  6.69427203e-01,\n",
              "        -6.64942674e-01, -1.43065846e-01, -3.89634677e-01,\n",
              "         9.20087412e-01, -3.54692052e-01, -4.69339664e-01,\n",
              "        -2.59380584e-01, -4.37179917e-01,  1.03203137e+00,\n",
              "         1.11875507e+00, -2.53030414e-01, -9.30757842e-01,\n",
              "        -1.62697843e-01, -7.59189618e-02, -2.11244759e-01,\n",
              "         8.73284755e-01, -9.46629189e-01, -3.47648642e-01,\n",
              "        -1.45767186e-01, -4.05243112e-01,  5.36491266e-01],\n",
              "       [-6.29285309e-01, -1.62697843e-01,  6.69427203e-01,\n",
              "        -6.64942674e-01, -1.43065846e-01, -3.89634677e-01,\n",
              "         9.20087412e-01, -3.54692052e-01, -4.69339664e-01,\n",
              "        -2.59380584e-01, -4.37179917e-01,  1.03203137e+00,\n",
              "        -8.93850699e-01,  3.95209408e+00, -9.30757842e-01,\n",
              "        -1.62697843e-01, -7.59189618e-02,  1.25396432e-01,\n",
              "        -1.14510186e+00, -2.05881236e-01, -1.49296045e+00,\n",
              "         1.60123652e+00, -1.16676208e-01,  5.36491266e-01],\n",
              "       [-6.29285309e-01, -1.62697843e-01,  6.69427203e-01,\n",
              "        -6.64942674e-01, -1.43065846e-01,  2.56650668e+00,\n",
              "        -1.08685326e+00,  2.81934708e+00, -4.69339664e-01,\n",
              "        -2.59380584e-01, -4.37179917e-01, -9.68962790e-01,\n",
              "        -8.93850699e-01, -2.53030414e-01,  1.07439331e+00,\n",
              "        -1.62697843e-01, -7.59189618e-02,  1.13532001e+00,\n",
              "         8.73284755e-01, -9.46629189e-01, -1.26747021e+00,\n",
              "        -7.00926143e-01,  9.73465431e-01,  5.36491266e-01],\n",
              "       [-6.29285309e-01, -1.62697843e-01,  6.69427203e-01,\n",
              "        -6.64942674e-01, -1.43065846e-01, -3.89634677e-01,\n",
              "         9.20087412e-01, -3.54692052e-01, -4.69339664e-01,\n",
              "        -2.59380584e-01, -4.37179917e-01,  1.03203137e+00,\n",
              "        -8.93850699e-01, -2.53030414e-01,  1.07439331e+00,\n",
              "        -1.62697843e-01, -7.59189618e-02,  4.62037624e-01,\n",
              "         8.73284755e-01,  5.34866717e-01, -1.49296045e+00,\n",
              "         1.60123652e+00, -1.16676208e-01,  5.36491266e-01],\n",
              "       [-6.29285309e-01, -1.62697843e-01,  6.69427203e-01,\n",
              "        -6.64942674e-01, -1.43065846e-01,  2.56650668e+00,\n",
              "        -1.08685326e+00, -3.54692052e-01, -4.69339664e-01,\n",
              "        -2.59380584e-01,  2.28738778e+00, -9.68962790e-01,\n",
              "        -8.93850699e-01, -2.53030414e-01, -9.30757842e-01,\n",
              "         6.14636297e+00, -7.59189618e-02,  1.25396432e-01,\n",
              "         8.73284755e-01, -2.05881236e-01,  3.17659189e-01,\n",
              "         1.39159608e+00,  1.71091419e+00,  5.36491266e-01],\n",
              "       [-6.29285309e-01, -1.62697843e-01,  6.69427203e-01,\n",
              "        -6.64942674e-01, -1.43065846e-01, -3.89634677e-01,\n",
              "         9.20087412e-01, -3.54692052e-01, -4.69339664e-01,\n",
              "        -2.59380584e-01, -4.37179917e-01,  1.03203137e+00,\n",
              "         1.11875507e+00, -2.53030414e-01, -9.30757842e-01,\n",
              "        -1.62697843e-01, -7.59189618e-02, -1.55780952e+00,\n",
              "        -1.14510186e+00, -9.46629189e-01, -8.47745804e-01,\n",
              "        -1.86530606e-01, -9.18250942e-01,  5.36491266e-01],\n",
              "       [ 1.58910432e+00, -1.62697843e-01, -1.49381441e+00,\n",
              "        -6.64942674e-01, -1.43065846e-01,  2.56650668e+00,\n",
              "        -1.08685326e+00, -3.54692052e-01, -4.69339664e-01,\n",
              "        -2.59380584e-01,  2.28738778e+00, -9.68962790e-01,\n",
              "         1.11875507e+00, -2.53030414e-01, -9.30757842e-01,\n",
              "        -1.62697843e-01, -7.59189618e-02,  7.98678815e-01,\n",
              "         8.73284755e-01, -2.05881236e-01,  3.86869064e-01,\n",
              "        -1.28908406e+00,  1.26203234e+00,  5.36491266e-01],\n",
              "       [-6.29285309e-01, -1.62697843e-01,  6.69427203e-01,\n",
              "         1.50388904e+00, -1.43065846e-01, -3.89634677e-01,\n",
              "        -1.08685326e+00,  2.81934708e+00, -4.69339664e-01,\n",
              "        -2.59380584e-01, -4.37179917e-01, -9.68962790e-01,\n",
              "         1.11875507e+00, -2.53030414e-01, -9.30757842e-01,\n",
              "        -1.62697843e-01, -7.59189618e-02,  1.25396432e-01,\n",
              "         8.73284755e-01,  5.34866717e-01,  1.00306021e+00,\n",
              "         1.56823757e+00, -7.57935995e-01,  5.36491266e-01],\n",
              "       [-6.29285309e-01, -1.62697843e-01,  6.69427203e-01,\n",
              "         1.50388904e+00, -1.43065846e-01, -3.89634677e-01,\n",
              "        -1.08685326e+00,  2.81934708e+00, -4.69339664e-01,\n",
              "        -2.59380584e-01, -4.37179917e-01, -9.68962790e-01,\n",
              "        -8.93850699e-01, -2.53030414e-01,  1.07439331e+00,\n",
              "        -1.62697843e-01, -7.59189618e-02, -2.11244759e-01,\n",
              "        -1.14510186e+00,  5.34866717e-01, -8.47745804e-01,\n",
              "        -1.86530606e-01, -9.18250942e-01,  5.36491266e-01],\n",
              "       [ 1.58910432e+00, -1.62697843e-01, -1.49381441e+00,\n",
              "         1.50388904e+00, -1.43065846e-01, -3.89634677e-01,\n",
              "        -1.08685326e+00, -3.54692052e-01,  2.13065308e+00,\n",
              "        -2.59380584e-01, -4.37179917e-01, -9.68962790e-01,\n",
              "        -8.93850699e-01, -2.53030414e-01,  1.07439331e+00,\n",
              "        -1.62697843e-01, -7.59189618e-02,  1.13532001e+00,\n",
              "         8.73284755e-01,  1.27561467e+00,  1.21738756e+00,\n",
              "         3.95803964e-01,  1.71890697e-01,  5.36491266e-01],\n",
              "       [-6.29285309e-01, -1.62697843e-01,  6.69427203e-01,\n",
              "        -6.64942674e-01, -1.43065846e-01,  2.56650668e+00,\n",
              "        -1.08685326e+00, -3.54692052e-01, -4.69339664e-01,\n",
              "        -2.59380584e-01,  2.28738778e+00, -9.68962790e-01,\n",
              "         1.11875507e+00, -2.53030414e-01, -9.30757842e-01,\n",
              "        -1.62697843e-01, -7.59189618e-02,  1.25396432e-01,\n",
              "         8.73284755e-01, -9.46629189e-01,  1.47983366e-01,\n",
              "         7.99555933e-01, -5.25502290e-02,  5.36491266e-01],\n",
              "       [-6.29285309e-01, -1.62697843e-01,  6.69427203e-01,\n",
              "         1.50388904e+00, -1.43065846e-01, -3.89634677e-01,\n",
              "        -1.08685326e+00, -3.54692052e-01,  2.13065308e+00,\n",
              "        -2.59380584e-01, -4.37179917e-01, -9.68962790e-01,\n",
              "         1.11875507e+00, -2.53030414e-01, -9.30757842e-01,\n",
              "        -1.62697843e-01, -7.59189618e-02,  1.47196120e+00,\n",
              "         8.73284755e-01, -2.05881236e-01,  2.06353410e+00,\n",
              "        -1.26356034e-01,  1.67885120e+00, -1.86396324e+00],\n",
              "       [-6.29285309e-01, -1.62697843e-01,  6.69427203e-01,\n",
              "        -6.64942674e-01, -1.43065846e-01, -3.89634677e-01,\n",
              "         9.20087412e-01, -3.54692052e-01, -4.69339664e-01,\n",
              "        -2.59380584e-01, -4.37179917e-01,  1.03203137e+00,\n",
              "         1.11875507e+00, -2.53030414e-01, -9.30757842e-01,\n",
              "        -1.62697843e-01, -7.59189618e-02, -1.22116833e+00,\n",
              "         8.73284755e-01, -9.46629189e-01,  6.59243411e-01,\n",
              "        -2.12465908e-03,  2.03953686e-01, -1.86396324e+00],\n",
              "       [-6.29285309e-01, -1.62697843e-01,  6.69427203e-01,\n",
              "        -6.64942674e-01, -1.43065846e-01, -3.89634677e-01,\n",
              "         9.20087412e-01, -3.54692052e-01, -4.69339664e-01,\n",
              "        -2.59380584e-01, -4.37179917e-01,  1.03203137e+00,\n",
              "         1.11875507e+00, -2.53030414e-01, -9.30757842e-01,\n",
              "        -1.62697843e-01, -7.59189618e-02, -1.55780952e+00,\n",
              "         8.73284755e-01, -9.46629189e-01, -1.01742163e+00,\n",
              "         4.36567384e-01, -1.80802187e-01,  5.36491266e-01],\n",
              "       [-6.29285309e-01, -1.62697843e-01,  6.69427203e-01,\n",
              "        -6.64942674e-01, -1.43065846e-01, -3.89634677e-01,\n",
              "         9.20087412e-01, -3.54692052e-01, -4.69339664e-01,\n",
              "        -2.59380584e-01, -4.37179917e-01,  1.03203137e+00,\n",
              "         1.11875507e+00, -2.53030414e-01, -9.30757842e-01,\n",
              "        -1.62697843e-01, -7.59189618e-02, -8.84527142e-01,\n",
              "         8.73284755e-01, -2.05881236e-01,  1.18959870e-01,\n",
              "        -4.33052241e-01, -9.82376921e-01,  5.36491266e-01],\n",
              "       [-6.29285309e-01, -1.62697843e-01,  6.69427203e-01,\n",
              "        -6.64942674e-01, -1.43065846e-01, -3.89634677e-01,\n",
              "         9.20087412e-01, -3.54692052e-01, -4.69339664e-01,\n",
              "         3.85533868e+00, -4.37179917e-01, -9.68962790e-01,\n",
              "         1.11875507e+00, -2.53030414e-01, -9.30757842e-01,\n",
              "        -1.62697843e-01, -7.59189618e-02, -2.11244759e-01,\n",
              "        -1.14510186e+00, -2.05881236e-01,  1.18959870e-01,\n",
              "        -4.33052241e-01, -9.82376921e-01,  5.36491266e-01],\n",
              "       [-6.29285309e-01, -1.62697843e-01,  6.69427203e-01,\n",
              "        -6.64942674e-01, -1.43065846e-01, -3.89634677e-01,\n",
              "         9.20087412e-01, -3.54692052e-01, -4.69339664e-01,\n",
              "        -2.59380584e-01, -4.37179917e-01,  1.03203137e+00,\n",
              "         1.11875507e+00, -2.53030414e-01, -9.30757842e-01,\n",
              "        -1.62697843e-01, -7.59189618e-02, -1.55780952e+00,\n",
              "         8.73284755e-01, -9.46629189e-01, -1.01742163e+00,\n",
              "         4.36567384e-01, -1.80802187e-01,  5.36491266e-01],\n",
              "       [ 1.58910432e+00, -1.62697843e-01, -1.49381441e+00,\n",
              "         1.50388904e+00, -1.43065846e-01, -3.89634677e-01,\n",
              "        -1.08685326e+00, -3.54692052e-01,  2.13065308e+00,\n",
              "        -2.59380584e-01, -4.37179917e-01, -9.68962790e-01,\n",
              "         1.11875507e+00, -2.53030414e-01, -9.30757842e-01,\n",
              "        -1.62697843e-01, -7.59189618e-02,  1.13532001e+00,\n",
              "         8.73284755e-01, -2.05881236e-01, -7.76303352e-01,\n",
              "         7.97614817e-01,  1.77504017e+00,  5.36491266e-01],\n",
              "       [-6.29285309e-01, -1.62697843e-01,  6.69427203e-01,\n",
              "        -6.64942674e-01, -1.43065846e-01,  2.56650668e+00,\n",
              "        -1.08685326e+00, -3.54692052e-01,  2.13065308e+00,\n",
              "        -2.59380584e-01, -4.37179917e-01, -9.68962790e-01,\n",
              "        -8.93850699e-01, -2.53030414e-01,  1.07439331e+00,\n",
              "        -1.62697843e-01, -7.59189618e-02, -2.11244759e-01,\n",
              "        -1.14510186e+00, -2.05881236e-01,  8.62407883e-01,\n",
              "        -3.88406591e-01,  1.29409533e+00, -1.86396324e+00]])"
            ]
          },
          "metadata": {},
          "execution_count": 1903
        }
      ]
    },
    {
      "cell_type": "markdown",
      "source": [
        "#Training Random Forest Classification model"
      ],
      "metadata": {
        "id": "yqdAZiPsZ3pJ"
      }
    },
    {
      "cell_type": "code",
      "source": [
        "from sklearn.ensemble import RandomForestClassifier\n",
        "classifier = RandomForestClassifier(n_estimators = 10, criterion = 'entropy', random_state = 0)\n",
        "classifier.fit(X_train, y_train)"
      ],
      "metadata": {
        "colab": {
          "base_uri": "https://localhost:8080/",
          "height": 74
        },
        "id": "nr6P2DqghAlO",
        "outputId": "b2baa56a-4574-44ab-b976-a9777325fa4f"
      },
      "execution_count": null,
      "outputs": [
        {
          "output_type": "execute_result",
          "data": {
            "text/plain": [
              "RandomForestClassifier(criterion='entropy', n_estimators=10, random_state=0)"
            ],
            "text/html": [
              "<style>#sk-container-id-179 {color: black;}#sk-container-id-179 pre{padding: 0;}#sk-container-id-179 div.sk-toggleable {background-color: white;}#sk-container-id-179 label.sk-toggleable__label {cursor: pointer;display: block;width: 100%;margin-bottom: 0;padding: 0.3em;box-sizing: border-box;text-align: center;}#sk-container-id-179 label.sk-toggleable__label-arrow:before {content: \"▸\";float: left;margin-right: 0.25em;color: #696969;}#sk-container-id-179 label.sk-toggleable__label-arrow:hover:before {color: black;}#sk-container-id-179 div.sk-estimator:hover label.sk-toggleable__label-arrow:before {color: black;}#sk-container-id-179 div.sk-toggleable__content {max-height: 0;max-width: 0;overflow: hidden;text-align: left;background-color: #f0f8ff;}#sk-container-id-179 div.sk-toggleable__content pre {margin: 0.2em;color: black;border-radius: 0.25em;background-color: #f0f8ff;}#sk-container-id-179 input.sk-toggleable__control:checked~div.sk-toggleable__content {max-height: 200px;max-width: 100%;overflow: auto;}#sk-container-id-179 input.sk-toggleable__control:checked~label.sk-toggleable__label-arrow:before {content: \"▾\";}#sk-container-id-179 div.sk-estimator input.sk-toggleable__control:checked~label.sk-toggleable__label {background-color: #d4ebff;}#sk-container-id-179 div.sk-label input.sk-toggleable__control:checked~label.sk-toggleable__label {background-color: #d4ebff;}#sk-container-id-179 input.sk-hidden--visually {border: 0;clip: rect(1px 1px 1px 1px);clip: rect(1px, 1px, 1px, 1px);height: 1px;margin: -1px;overflow: hidden;padding: 0;position: absolute;width: 1px;}#sk-container-id-179 div.sk-estimator {font-family: monospace;background-color: #f0f8ff;border: 1px dotted black;border-radius: 0.25em;box-sizing: border-box;margin-bottom: 0.5em;}#sk-container-id-179 div.sk-estimator:hover {background-color: #d4ebff;}#sk-container-id-179 div.sk-parallel-item::after {content: \"\";width: 100%;border-bottom: 1px solid gray;flex-grow: 1;}#sk-container-id-179 div.sk-label:hover label.sk-toggleable__label {background-color: #d4ebff;}#sk-container-id-179 div.sk-serial::before {content: \"\";position: absolute;border-left: 1px solid gray;box-sizing: border-box;top: 0;bottom: 0;left: 50%;z-index: 0;}#sk-container-id-179 div.sk-serial {display: flex;flex-direction: column;align-items: center;background-color: white;padding-right: 0.2em;padding-left: 0.2em;position: relative;}#sk-container-id-179 div.sk-item {position: relative;z-index: 1;}#sk-container-id-179 div.sk-parallel {display: flex;align-items: stretch;justify-content: center;background-color: white;position: relative;}#sk-container-id-179 div.sk-item::before, #sk-container-id-179 div.sk-parallel-item::before {content: \"\";position: absolute;border-left: 1px solid gray;box-sizing: border-box;top: 0;bottom: 0;left: 50%;z-index: -1;}#sk-container-id-179 div.sk-parallel-item {display: flex;flex-direction: column;z-index: 1;position: relative;background-color: white;}#sk-container-id-179 div.sk-parallel-item:first-child::after {align-self: flex-end;width: 50%;}#sk-container-id-179 div.sk-parallel-item:last-child::after {align-self: flex-start;width: 50%;}#sk-container-id-179 div.sk-parallel-item:only-child::after {width: 0;}#sk-container-id-179 div.sk-dashed-wrapped {border: 1px dashed gray;margin: 0 0.4em 0.5em 0.4em;box-sizing: border-box;padding-bottom: 0.4em;background-color: white;}#sk-container-id-179 div.sk-label label {font-family: monospace;font-weight: bold;display: inline-block;line-height: 1.2em;}#sk-container-id-179 div.sk-label-container {text-align: center;}#sk-container-id-179 div.sk-container {/* jupyter's `normalize.less` sets `[hidden] { display: none; }` but bootstrap.min.css set `[hidden] { display: none !important; }` so we also need the `!important` here to be able to override the default hidden behavior on the sphinx rendered scikit-learn.org. See: https://github.com/scikit-learn/scikit-learn/issues/21755 */display: inline-block !important;position: relative;}#sk-container-id-179 div.sk-text-repr-fallback {display: none;}</style><div id=\"sk-container-id-179\" class=\"sk-top-container\"><div class=\"sk-text-repr-fallback\"><pre>RandomForestClassifier(criterion=&#x27;entropy&#x27;, n_estimators=10, random_state=0)</pre><b>In a Jupyter environment, please rerun this cell to show the HTML representation or trust the notebook. <br />On GitHub, the HTML representation is unable to render, please try loading this page with nbviewer.org.</b></div><div class=\"sk-container\" hidden><div class=\"sk-item\"><div class=\"sk-estimator sk-toggleable\"><input class=\"sk-toggleable__control sk-hidden--visually\" id=\"sk-estimator-id-179\" type=\"checkbox\" checked><label for=\"sk-estimator-id-179\" class=\"sk-toggleable__label sk-toggleable__label-arrow\">RandomForestClassifier</label><div class=\"sk-toggleable__content\"><pre>RandomForestClassifier(criterion=&#x27;entropy&#x27;, n_estimators=10, random_state=0)</pre></div></div></div></div></div>"
            ]
          },
          "metadata": {},
          "execution_count": 1904
        }
      ]
    },
    {
      "cell_type": "markdown",
      "source": [
        "#Predicting New Result"
      ],
      "metadata": {
        "id": "_b1FfVgFlosr"
      }
    },
    {
      "cell_type": "code",
      "source": [
        "print(classifier.predict(sc.transform([[0,0,1,0,0,0,1,0,1,1,0,1,1,1,0,1,0,1,21,0,5,12.9770,\t77.5773,560009]])))"
      ],
      "metadata": {
        "colab": {
          "base_uri": "https://localhost:8080/"
        },
        "outputId": "5e54dd2b-a67e-425f-faba-3e86acd356e5",
        "id": "sWyX4A_Elos0"
      },
      "execution_count": null,
      "outputs": [
        {
          "output_type": "stream",
          "name": "stdout",
          "text": [
            "[1]\n"
          ]
        }
      ]
    },
    {
      "cell_type": "markdown",
      "source": [
        "#Predicting Test set result"
      ],
      "metadata": {
        "id": "YGxqKdSXapdc"
      }
    },
    {
      "cell_type": "code",
      "source": [
        "y_pred= classifier.predict(X_test)\n",
        "print(np.concatenate((y_pred.reshape(len(y_pred),1), y_test.reshape(len(y_test),1)),1))"
      ],
      "metadata": {
        "colab": {
          "base_uri": "https://localhost:8080/"
        },
        "id": "Njvk8maeaV3H",
        "outputId": "936c58df-e79b-464e-9675-c2d742d2a157"
      },
      "execution_count": null,
      "outputs": [
        {
          "output_type": "stream",
          "name": "stdout",
          "text": [
            "[[1 1]\n",
            " [0 0]\n",
            " [0 0]\n",
            " [1 1]\n",
            " [1 1]\n",
            " [1 1]\n",
            " [1 1]\n",
            " [1 1]\n",
            " [1 1]\n",
            " [1 1]\n",
            " [1 1]\n",
            " [1 0]\n",
            " [1 1]\n",
            " [0 0]\n",
            " [0 0]\n",
            " [1 1]\n",
            " [1 1]\n",
            " [1 1]\n",
            " [1 1]\n",
            " [1 1]\n",
            " [1 1]\n",
            " [1 1]\n",
            " [1 1]\n",
            " [1 1]\n",
            " [1 1]\n",
            " [1 1]\n",
            " [1 1]\n",
            " [1 1]\n",
            " [1 1]\n",
            " [1 1]\n",
            " [1 1]\n",
            " [0 0]\n",
            " [0 1]\n",
            " [1 1]\n",
            " [1 1]\n",
            " [1 1]\n",
            " [1 1]\n",
            " [1 1]\n",
            " [0 0]]\n"
          ]
        }
      ]
    },
    {
      "cell_type": "markdown",
      "source": [
        "#Making Confusion Metrix"
      ],
      "metadata": {
        "id": "xGyS-z6Baza5"
      }
    },
    {
      "cell_type": "code",
      "source": [
        "from sklearn.metrics import confusion_matrix, accuracy_score\n",
        "cm = confusion_matrix(y_test, y_pred)\n",
        "print(cm)\n",
        "accuracy_score(y_test, y_pred)"
      ],
      "metadata": {
        "colab": {
          "base_uri": "https://localhost:8080/"
        },
        "id": "lHy-XjVfatqK",
        "outputId": "a5d50435-2fdf-4d8c-a646-4ebae8015f99"
      },
      "execution_count": null,
      "outputs": [
        {
          "output_type": "stream",
          "name": "stdout",
          "text": [
            "[[ 6  1]\n",
            " [ 1 31]]\n"
          ]
        },
        {
          "output_type": "execute_result",
          "data": {
            "text/plain": [
              "0.9487179487179487"
            ]
          },
          "metadata": {},
          "execution_count": 1907
        }
      ]
    },
    {
      "cell_type": "code",
      "source": [
        "my_dict= {\n",
        "    \"Logistic Regression\": 0.8461538461538461,\n",
        "    \"KNN\": 0.8837209302325582,\n",
        "    \"SVM\": 0.925531914893617,\n",
        "    \"Naive Bayes (Gaussain)\": 0.22033898305084745,\n",
        "    \"Naive Bayes (Bernoulli)\": 0.8723404255319149 ,\n",
        "    \"Decision Tree\": 0.8936170212765957,\n",
        "    \"Random Forest\": 0.9487179487179487\n",
        "}"
      ],
      "metadata": {
        "id": "BFBvFTIX7VVx"
      },
      "execution_count": null,
      "outputs": []
    },
    {
      "cell_type": "code",
      "source": [
        "Series= pd.Series(my_dict)\n",
        "Series"
      ],
      "metadata": {
        "colab": {
          "base_uri": "https://localhost:8080/"
        },
        "id": "Lm4TW8eU9GGS",
        "outputId": "a64b7582-a367-45e5-afdb-d091b06680cc"
      },
      "execution_count": null,
      "outputs": [
        {
          "output_type": "execute_result",
          "data": {
            "text/plain": [
              "Logistic Regression        0.846154\n",
              "KNN                        0.883721\n",
              "SVM                        0.925532\n",
              "Naive Bayes (Gaussain)     0.220339\n",
              "Naive Bayes (Bernoulli)    0.872340\n",
              "Decision Tree              0.893617\n",
              "Random Forest              0.948718\n",
              "dtype: float64"
            ]
          },
          "metadata": {},
          "execution_count": 1909
        }
      ]
    }
  ]
}